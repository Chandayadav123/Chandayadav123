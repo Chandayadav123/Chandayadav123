{
  "nbformat": 4,
  "nbformat_minor": 0,
  "metadata": {
    "colab": {
      "name": "pratice.ipynb",
      "provenance": [],
      "collapsed_sections": [],
      "authorship_tag": "ABX9TyMhKF0AX3oQC2RT1TsJ6Yd6",
      "include_colab_link": true
    },
    "kernelspec": {
      "name": "python3",
      "display_name": "Python 3"
    },
    "language_info": {
      "name": "python"
    }
  },
  "cells": [
    {
      "cell_type": "markdown",
      "metadata": {
        "id": "view-in-github",
        "colab_type": "text"
      },
      "source": [
        "<a href=\"https://colab.research.google.com/github/Chandayadav123/Chandayadav123/blob/main/pratice.ipynb\" target=\"_parent\"><img src=\"https://colab.research.google.com/assets/colab-badge.svg\" alt=\"Open In Colab\"/></a>"
      ]
    },
    {
      "cell_type": "code",
      "execution_count": null,
      "metadata": {
        "id": "DvU4EnoOg8NH"
      },
      "outputs": [],
      "source": [
        "import pandas as pd\n"
      ]
    },
    {
      "cell_type": "code",
      "source": [
        "df = pd.read_csv('/1613615-Stock_Price_data_set.csv')\n"
      ],
      "metadata": {
        "id": "Ak9UhoKSrjrI"
      },
      "execution_count": null,
      "outputs": []
    },
    {
      "cell_type": "code",
      "source": [
        "mydata = {\n",
        "    'myshoes': ['hook','croe',3 ,6],\n",
        "    'mywork': ['yes','no',2 ,2]\n",
        "}"
      ],
      "metadata": {
        "id": "pSZdfMzRrjn5"
      },
      "execution_count": null,
      "outputs": []
    },
    {
      "cell_type": "code",
      "source": [
        "dataframe = pd.DataFrame(mydata)"
      ],
      "metadata": {
        "id": "kwfu95Qqrjlt"
      },
      "execution_count": null,
      "outputs": []
    },
    {
      "cell_type": "code",
      "source": [
        "dataframe"
      ],
      "metadata": {
        "colab": {
          "base_uri": "https://localhost:8080/",
          "height": 193
        },
        "id": "BFrLbZHQrji5",
        "outputId": "d12b614f-caf3-47f8-d28a-b55084192080"
      },
      "execution_count": null,
      "outputs": [
        {
          "output_type": "execute_result",
          "data": {
            "text/plain": [
              "  myshoes mywork\n",
              "0    hook    yes\n",
              "1    croe     no\n",
              "2       3      2\n",
              "3       6      2"
            ],
            "text/html": [
              "\n",
              "  <div id=\"df-d887612e-7d33-42c1-9718-ab4d20fdd19f\">\n",
              "    <div class=\"colab-df-container\">\n",
              "      <div>\n",
              "<style scoped>\n",
              "    .dataframe tbody tr th:only-of-type {\n",
              "        vertical-align: middle;\n",
              "    }\n",
              "\n",
              "    .dataframe tbody tr th {\n",
              "        vertical-align: top;\n",
              "    }\n",
              "\n",
              "    .dataframe thead th {\n",
              "        text-align: right;\n",
              "    }\n",
              "</style>\n",
              "<table border=\"1\" class=\"dataframe\">\n",
              "  <thead>\n",
              "    <tr style=\"text-align: right;\">\n",
              "      <th></th>\n",
              "      <th>myshoes</th>\n",
              "      <th>mywork</th>\n",
              "    </tr>\n",
              "  </thead>\n",
              "  <tbody>\n",
              "    <tr>\n",
              "      <th>0</th>\n",
              "      <td>hook</td>\n",
              "      <td>yes</td>\n",
              "    </tr>\n",
              "    <tr>\n",
              "      <th>1</th>\n",
              "      <td>croe</td>\n",
              "      <td>no</td>\n",
              "    </tr>\n",
              "    <tr>\n",
              "      <th>2</th>\n",
              "      <td>3</td>\n",
              "      <td>2</td>\n",
              "    </tr>\n",
              "    <tr>\n",
              "      <th>3</th>\n",
              "      <td>6</td>\n",
              "      <td>2</td>\n",
              "    </tr>\n",
              "  </tbody>\n",
              "</table>\n",
              "</div>\n",
              "      <button class=\"colab-df-convert\" onclick=\"convertToInteractive('df-d887612e-7d33-42c1-9718-ab4d20fdd19f')\"\n",
              "              title=\"Convert this dataframe to an interactive table.\"\n",
              "              style=\"display:none;\">\n",
              "        \n",
              "  <svg xmlns=\"http://www.w3.org/2000/svg\" height=\"24px\"viewBox=\"0 0 24 24\"\n",
              "       width=\"24px\">\n",
              "    <path d=\"M0 0h24v24H0V0z\" fill=\"none\"/>\n",
              "    <path d=\"M18.56 5.44l.94 2.06.94-2.06 2.06-.94-2.06-.94-.94-2.06-.94 2.06-2.06.94zm-11 1L8.5 8.5l.94-2.06 2.06-.94-2.06-.94L8.5 2.5l-.94 2.06-2.06.94zm10 10l.94 2.06.94-2.06 2.06-.94-2.06-.94-.94-2.06-.94 2.06-2.06.94z\"/><path d=\"M17.41 7.96l-1.37-1.37c-.4-.4-.92-.59-1.43-.59-.52 0-1.04.2-1.43.59L10.3 9.45l-7.72 7.72c-.78.78-.78 2.05 0 2.83L4 21.41c.39.39.9.59 1.41.59.51 0 1.02-.2 1.41-.59l7.78-7.78 2.81-2.81c.8-.78.8-2.07 0-2.86zM5.41 20L4 18.59l7.72-7.72 1.47 1.35L5.41 20z\"/>\n",
              "  </svg>\n",
              "      </button>\n",
              "      \n",
              "  <style>\n",
              "    .colab-df-container {\n",
              "      display:flex;\n",
              "      flex-wrap:wrap;\n",
              "      gap: 12px;\n",
              "    }\n",
              "\n",
              "    .colab-df-convert {\n",
              "      background-color: #E8F0FE;\n",
              "      border: none;\n",
              "      border-radius: 50%;\n",
              "      cursor: pointer;\n",
              "      display: none;\n",
              "      fill: #1967D2;\n",
              "      height: 32px;\n",
              "      padding: 0 0 0 0;\n",
              "      width: 32px;\n",
              "    }\n",
              "\n",
              "    .colab-df-convert:hover {\n",
              "      background-color: #E2EBFA;\n",
              "      box-shadow: 0px 1px 2px rgba(60, 64, 67, 0.3), 0px 1px 3px 1px rgba(60, 64, 67, 0.15);\n",
              "      fill: #174EA6;\n",
              "    }\n",
              "\n",
              "    [theme=dark] .colab-df-convert {\n",
              "      background-color: #3B4455;\n",
              "      fill: #D2E3FC;\n",
              "    }\n",
              "\n",
              "    [theme=dark] .colab-df-convert:hover {\n",
              "      background-color: #434B5C;\n",
              "      box-shadow: 0px 1px 3px 1px rgba(0, 0, 0, 0.15);\n",
              "      filter: drop-shadow(0px 1px 2px rgba(0, 0, 0, 0.3));\n",
              "      fill: #FFFFFF;\n",
              "    }\n",
              "  </style>\n",
              "\n",
              "      <script>\n",
              "        const buttonEl =\n",
              "          document.querySelector('#df-d887612e-7d33-42c1-9718-ab4d20fdd19f button.colab-df-convert');\n",
              "        buttonEl.style.display =\n",
              "          google.colab.kernel.accessAllowed ? 'block' : 'none';\n",
              "\n",
              "        async function convertToInteractive(key) {\n",
              "          const element = document.querySelector('#df-d887612e-7d33-42c1-9718-ab4d20fdd19f');\n",
              "          const dataTable =\n",
              "            await google.colab.kernel.invokeFunction('convertToInteractive',\n",
              "                                                     [key], {});\n",
              "          if (!dataTable) return;\n",
              "\n",
              "          const docLinkHtml = 'Like what you see? Visit the ' +\n",
              "            '<a target=\"_blank\" href=https://colab.research.google.com/notebooks/data_table.ipynb>data table notebook</a>'\n",
              "            + ' to learn more about interactive tables.';\n",
              "          element.innerHTML = '';\n",
              "          dataTable['output_type'] = 'display_data';\n",
              "          await google.colab.output.renderOutput(dataTable, element);\n",
              "          const docLink = document.createElement('div');\n",
              "          docLink.innerHTML = docLinkHtml;\n",
              "          element.appendChild(docLink);\n",
              "        }\n",
              "      </script>\n",
              "    </div>\n",
              "  </div>\n",
              "  "
            ]
          },
          "metadata": {},
          "execution_count": 10
        }
      ]
    },
    {
      "cell_type": "code",
      "source": [
        "a = ['chanda' , 'neetu', 'mukul']"
      ],
      "metadata": {
        "id": "1zaw0hGTrjgk"
      },
      "execution_count": null,
      "outputs": []
    },
    {
      "cell_type": "code",
      "source": [
        "myseries = pd.Series(a, index =['x','y','z'])"
      ],
      "metadata": {
        "id": "iv3HmoFqrjeI"
      },
      "execution_count": null,
      "outputs": []
    },
    {
      "cell_type": "code",
      "source": [
        "myseries"
      ],
      "metadata": {
        "colab": {
          "base_uri": "https://localhost:8080/"
        },
        "id": "XpuLRahKrjbd",
        "outputId": "089bf6c5-3856-451b-9561-efcc978abab2"
      },
      "execution_count": null,
      "outputs": [
        {
          "output_type": "execute_result",
          "data": {
            "text/plain": [
              "x    chanda\n",
              "y     neetu\n",
              "z     mukul\n",
              "dtype: object"
            ]
          },
          "metadata": {},
          "execution_count": 18
        }
      ]
    },
    {
      "cell_type": "code",
      "source": [
        "print(myseries['y'])"
      ],
      "metadata": {
        "colab": {
          "base_uri": "https://localhost:8080/"
        },
        "id": "lHMGXfmhrjYz",
        "outputId": "3400147a-b8af-4771-f1d2-8ab45a664379"
      },
      "execution_count": null,
      "outputs": [
        {
          "output_type": "stream",
          "name": "stdout",
          "text": [
            "neetu\n"
          ]
        }
      ]
    },
    {
      "cell_type": "code",
      "source": [
        "df.loc[[0,1,2,3,4,5]]"
      ],
      "metadata": {
        "colab": {
          "base_uri": "https://localhost:8080/",
          "height": 237
        },
        "id": "PFhcOHuyrjWa",
        "outputId": "b066f44a-bcfd-4273-ea36-c166cae8e1ec"
      },
      "execution_count": null,
      "outputs": [
        {
          "output_type": "execute_result",
          "data": {
            "text/plain": [
              "         Date        Open        High         Low       Close   Adj Close  \\\n",
              "0  2018-02-05  262.000000  267.899994  250.029999  254.259995  254.259995   \n",
              "1  2018-02-06  247.699997  266.700012  245.000000  265.720001  265.720001   \n",
              "2  2018-02-07  266.579987  272.450012  264.329987  264.559998  264.559998   \n",
              "3  2018-02-08  267.079987  267.619995  250.000000  250.100006  250.100006   \n",
              "4  2018-02-09  253.850006  255.800003  236.110001  249.470001  249.470001   \n",
              "5  2018-02-12  252.139999  259.149994  249.000000  257.950012  257.950012   \n",
              "\n",
              "     Volume  \n",
              "0  11896100  \n",
              "1  12595800  \n",
              "2   8981500  \n",
              "3   9306700  \n",
              "4  16906900  \n",
              "5   8534900  "
            ],
            "text/html": [
              "\n",
              "  <div id=\"df-98a282e7-d671-4fe0-8b56-bdaf1f76c5bf\">\n",
              "    <div class=\"colab-df-container\">\n",
              "      <div>\n",
              "<style scoped>\n",
              "    .dataframe tbody tr th:only-of-type {\n",
              "        vertical-align: middle;\n",
              "    }\n",
              "\n",
              "    .dataframe tbody tr th {\n",
              "        vertical-align: top;\n",
              "    }\n",
              "\n",
              "    .dataframe thead th {\n",
              "        text-align: right;\n",
              "    }\n",
              "</style>\n",
              "<table border=\"1\" class=\"dataframe\">\n",
              "  <thead>\n",
              "    <tr style=\"text-align: right;\">\n",
              "      <th></th>\n",
              "      <th>Date</th>\n",
              "      <th>Open</th>\n",
              "      <th>High</th>\n",
              "      <th>Low</th>\n",
              "      <th>Close</th>\n",
              "      <th>Adj Close</th>\n",
              "      <th>Volume</th>\n",
              "    </tr>\n",
              "  </thead>\n",
              "  <tbody>\n",
              "    <tr>\n",
              "      <th>0</th>\n",
              "      <td>2018-02-05</td>\n",
              "      <td>262.000000</td>\n",
              "      <td>267.899994</td>\n",
              "      <td>250.029999</td>\n",
              "      <td>254.259995</td>\n",
              "      <td>254.259995</td>\n",
              "      <td>11896100</td>\n",
              "    </tr>\n",
              "    <tr>\n",
              "      <th>1</th>\n",
              "      <td>2018-02-06</td>\n",
              "      <td>247.699997</td>\n",
              "      <td>266.700012</td>\n",
              "      <td>245.000000</td>\n",
              "      <td>265.720001</td>\n",
              "      <td>265.720001</td>\n",
              "      <td>12595800</td>\n",
              "    </tr>\n",
              "    <tr>\n",
              "      <th>2</th>\n",
              "      <td>2018-02-07</td>\n",
              "      <td>266.579987</td>\n",
              "      <td>272.450012</td>\n",
              "      <td>264.329987</td>\n",
              "      <td>264.559998</td>\n",
              "      <td>264.559998</td>\n",
              "      <td>8981500</td>\n",
              "    </tr>\n",
              "    <tr>\n",
              "      <th>3</th>\n",
              "      <td>2018-02-08</td>\n",
              "      <td>267.079987</td>\n",
              "      <td>267.619995</td>\n",
              "      <td>250.000000</td>\n",
              "      <td>250.100006</td>\n",
              "      <td>250.100006</td>\n",
              "      <td>9306700</td>\n",
              "    </tr>\n",
              "    <tr>\n",
              "      <th>4</th>\n",
              "      <td>2018-02-09</td>\n",
              "      <td>253.850006</td>\n",
              "      <td>255.800003</td>\n",
              "      <td>236.110001</td>\n",
              "      <td>249.470001</td>\n",
              "      <td>249.470001</td>\n",
              "      <td>16906900</td>\n",
              "    </tr>\n",
              "    <tr>\n",
              "      <th>5</th>\n",
              "      <td>2018-02-12</td>\n",
              "      <td>252.139999</td>\n",
              "      <td>259.149994</td>\n",
              "      <td>249.000000</td>\n",
              "      <td>257.950012</td>\n",
              "      <td>257.950012</td>\n",
              "      <td>8534900</td>\n",
              "    </tr>\n",
              "  </tbody>\n",
              "</table>\n",
              "</div>\n",
              "      <button class=\"colab-df-convert\" onclick=\"convertToInteractive('df-98a282e7-d671-4fe0-8b56-bdaf1f76c5bf')\"\n",
              "              title=\"Convert this dataframe to an interactive table.\"\n",
              "              style=\"display:none;\">\n",
              "        \n",
              "  <svg xmlns=\"http://www.w3.org/2000/svg\" height=\"24px\"viewBox=\"0 0 24 24\"\n",
              "       width=\"24px\">\n",
              "    <path d=\"M0 0h24v24H0V0z\" fill=\"none\"/>\n",
              "    <path d=\"M18.56 5.44l.94 2.06.94-2.06 2.06-.94-2.06-.94-.94-2.06-.94 2.06-2.06.94zm-11 1L8.5 8.5l.94-2.06 2.06-.94-2.06-.94L8.5 2.5l-.94 2.06-2.06.94zm10 10l.94 2.06.94-2.06 2.06-.94-2.06-.94-.94-2.06-.94 2.06-2.06.94z\"/><path d=\"M17.41 7.96l-1.37-1.37c-.4-.4-.92-.59-1.43-.59-.52 0-1.04.2-1.43.59L10.3 9.45l-7.72 7.72c-.78.78-.78 2.05 0 2.83L4 21.41c.39.39.9.59 1.41.59.51 0 1.02-.2 1.41-.59l7.78-7.78 2.81-2.81c.8-.78.8-2.07 0-2.86zM5.41 20L4 18.59l7.72-7.72 1.47 1.35L5.41 20z\"/>\n",
              "  </svg>\n",
              "      </button>\n",
              "      \n",
              "  <style>\n",
              "    .colab-df-container {\n",
              "      display:flex;\n",
              "      flex-wrap:wrap;\n",
              "      gap: 12px;\n",
              "    }\n",
              "\n",
              "    .colab-df-convert {\n",
              "      background-color: #E8F0FE;\n",
              "      border: none;\n",
              "      border-radius: 50%;\n",
              "      cursor: pointer;\n",
              "      display: none;\n",
              "      fill: #1967D2;\n",
              "      height: 32px;\n",
              "      padding: 0 0 0 0;\n",
              "      width: 32px;\n",
              "    }\n",
              "\n",
              "    .colab-df-convert:hover {\n",
              "      background-color: #E2EBFA;\n",
              "      box-shadow: 0px 1px 2px rgba(60, 64, 67, 0.3), 0px 1px 3px 1px rgba(60, 64, 67, 0.15);\n",
              "      fill: #174EA6;\n",
              "    }\n",
              "\n",
              "    [theme=dark] .colab-df-convert {\n",
              "      background-color: #3B4455;\n",
              "      fill: #D2E3FC;\n",
              "    }\n",
              "\n",
              "    [theme=dark] .colab-df-convert:hover {\n",
              "      background-color: #434B5C;\n",
              "      box-shadow: 0px 1px 3px 1px rgba(0, 0, 0, 0.15);\n",
              "      filter: drop-shadow(0px 1px 2px rgba(0, 0, 0, 0.3));\n",
              "      fill: #FFFFFF;\n",
              "    }\n",
              "  </style>\n",
              "\n",
              "      <script>\n",
              "        const buttonEl =\n",
              "          document.querySelector('#df-98a282e7-d671-4fe0-8b56-bdaf1f76c5bf button.colab-df-convert');\n",
              "        buttonEl.style.display =\n",
              "          google.colab.kernel.accessAllowed ? 'block' : 'none';\n",
              "\n",
              "        async function convertToInteractive(key) {\n",
              "          const element = document.querySelector('#df-98a282e7-d671-4fe0-8b56-bdaf1f76c5bf');\n",
              "          const dataTable =\n",
              "            await google.colab.kernel.invokeFunction('convertToInteractive',\n",
              "                                                     [key], {});\n",
              "          if (!dataTable) return;\n",
              "\n",
              "          const docLinkHtml = 'Like what you see? Visit the ' +\n",
              "            '<a target=\"_blank\" href=https://colab.research.google.com/notebooks/data_table.ipynb>data table notebook</a>'\n",
              "            + ' to learn more about interactive tables.';\n",
              "          element.innerHTML = '';\n",
              "          dataTable['output_type'] = 'display_data';\n",
              "          await google.colab.output.renderOutput(dataTable, element);\n",
              "          const docLink = document.createElement('div');\n",
              "          docLink.innerHTML = docLinkHtml;\n",
              "          element.appendChild(docLink);\n",
              "        }\n",
              "      </script>\n",
              "    </div>\n",
              "  </div>\n",
              "  "
            ]
          },
          "metadata": {},
          "execution_count": 25
        }
      ]
    },
    {
      "cell_type": "code",
      "source": [
        "pd.options.display.max_rows = 100"
      ],
      "metadata": {
        "id": "w4oz2cSxrjTk"
      },
      "execution_count": null,
      "outputs": []
    },
    {
      "cell_type": "code",
      "source": [
        "pd.options.display.max_rows"
      ],
      "metadata": {
        "colab": {
          "base_uri": "https://localhost:8080/"
        },
        "id": "ATZM6s8JrjQ7",
        "outputId": "6920072f-ff4d-46e9-ebc3-6bebe5bcc696"
      },
      "execution_count": null,
      "outputs": [
        {
          "output_type": "execute_result",
          "data": {
            "text/plain": [
              "999"
            ]
          },
          "metadata": {},
          "execution_count": 28
        }
      ]
    },
    {
      "cell_type": "code",
      "source": [
        "df"
      ],
      "metadata": {
        "colab": {
          "base_uri": "https://localhost:8080/",
          "height": 424
        },
        "id": "VdIus7hYrjON",
        "outputId": "e0c27628-440c-44d9-ec2b-5f75ab8e1a1c"
      },
      "execution_count": null,
      "outputs": [
        {
          "output_type": "execute_result",
          "data": {
            "text/plain": [
              "            Date        Open        High         Low       Close   Adj Close  \\\n",
              "0     2018-02-05  262.000000  267.899994  250.029999  254.259995  254.259995   \n",
              "1     2018-02-06  247.699997  266.700012  245.000000  265.720001  265.720001   \n",
              "2     2018-02-07  266.579987  272.450012  264.329987  264.559998  264.559998   \n",
              "3     2018-02-08  267.079987  267.619995  250.000000  250.100006  250.100006   \n",
              "4     2018-02-09  253.850006  255.800003  236.110001  249.470001  249.470001   \n",
              "...          ...         ...         ...         ...         ...         ...   \n",
              "1004  2022-01-31  401.970001  427.700012  398.200012  427.140015  427.140015   \n",
              "1005  2022-02-01  432.959991  458.480011  425.540009  457.130005  457.130005   \n",
              "1006  2022-02-02  448.250000  451.980011  426.480011  429.480011  429.480011   \n",
              "1007  2022-02-03  421.440002  429.260010  404.279999  405.600006  405.600006   \n",
              "1008  2022-02-04  407.309998  412.769989  396.640015  410.170013  410.170013   \n",
              "\n",
              "        Volume  \n",
              "0     11896100  \n",
              "1     12595800  \n",
              "2      8981500  \n",
              "3      9306700  \n",
              "4     16906900  \n",
              "...        ...  \n",
              "1004  20047500  \n",
              "1005  22542300  \n",
              "1006  14346000  \n",
              "1007   9905200  \n",
              "1008   7782400  \n",
              "\n",
              "[1009 rows x 7 columns]"
            ],
            "text/html": [
              "\n",
              "  <div id=\"df-f32965a9-12a3-43c1-b3eb-18c1218edbf2\">\n",
              "    <div class=\"colab-df-container\">\n",
              "      <div>\n",
              "<style scoped>\n",
              "    .dataframe tbody tr th:only-of-type {\n",
              "        vertical-align: middle;\n",
              "    }\n",
              "\n",
              "    .dataframe tbody tr th {\n",
              "        vertical-align: top;\n",
              "    }\n",
              "\n",
              "    .dataframe thead th {\n",
              "        text-align: right;\n",
              "    }\n",
              "</style>\n",
              "<table border=\"1\" class=\"dataframe\">\n",
              "  <thead>\n",
              "    <tr style=\"text-align: right;\">\n",
              "      <th></th>\n",
              "      <th>Date</th>\n",
              "      <th>Open</th>\n",
              "      <th>High</th>\n",
              "      <th>Low</th>\n",
              "      <th>Close</th>\n",
              "      <th>Adj Close</th>\n",
              "      <th>Volume</th>\n",
              "    </tr>\n",
              "  </thead>\n",
              "  <tbody>\n",
              "    <tr>\n",
              "      <th>0</th>\n",
              "      <td>2018-02-05</td>\n",
              "      <td>262.000000</td>\n",
              "      <td>267.899994</td>\n",
              "      <td>250.029999</td>\n",
              "      <td>254.259995</td>\n",
              "      <td>254.259995</td>\n",
              "      <td>11896100</td>\n",
              "    </tr>\n",
              "    <tr>\n",
              "      <th>1</th>\n",
              "      <td>2018-02-06</td>\n",
              "      <td>247.699997</td>\n",
              "      <td>266.700012</td>\n",
              "      <td>245.000000</td>\n",
              "      <td>265.720001</td>\n",
              "      <td>265.720001</td>\n",
              "      <td>12595800</td>\n",
              "    </tr>\n",
              "    <tr>\n",
              "      <th>2</th>\n",
              "      <td>2018-02-07</td>\n",
              "      <td>266.579987</td>\n",
              "      <td>272.450012</td>\n",
              "      <td>264.329987</td>\n",
              "      <td>264.559998</td>\n",
              "      <td>264.559998</td>\n",
              "      <td>8981500</td>\n",
              "    </tr>\n",
              "    <tr>\n",
              "      <th>3</th>\n",
              "      <td>2018-02-08</td>\n",
              "      <td>267.079987</td>\n",
              "      <td>267.619995</td>\n",
              "      <td>250.000000</td>\n",
              "      <td>250.100006</td>\n",
              "      <td>250.100006</td>\n",
              "      <td>9306700</td>\n",
              "    </tr>\n",
              "    <tr>\n",
              "      <th>4</th>\n",
              "      <td>2018-02-09</td>\n",
              "      <td>253.850006</td>\n",
              "      <td>255.800003</td>\n",
              "      <td>236.110001</td>\n",
              "      <td>249.470001</td>\n",
              "      <td>249.470001</td>\n",
              "      <td>16906900</td>\n",
              "    </tr>\n",
              "    <tr>\n",
              "      <th>...</th>\n",
              "      <td>...</td>\n",
              "      <td>...</td>\n",
              "      <td>...</td>\n",
              "      <td>...</td>\n",
              "      <td>...</td>\n",
              "      <td>...</td>\n",
              "      <td>...</td>\n",
              "    </tr>\n",
              "    <tr>\n",
              "      <th>1004</th>\n",
              "      <td>2022-01-31</td>\n",
              "      <td>401.970001</td>\n",
              "      <td>427.700012</td>\n",
              "      <td>398.200012</td>\n",
              "      <td>427.140015</td>\n",
              "      <td>427.140015</td>\n",
              "      <td>20047500</td>\n",
              "    </tr>\n",
              "    <tr>\n",
              "      <th>1005</th>\n",
              "      <td>2022-02-01</td>\n",
              "      <td>432.959991</td>\n",
              "      <td>458.480011</td>\n",
              "      <td>425.540009</td>\n",
              "      <td>457.130005</td>\n",
              "      <td>457.130005</td>\n",
              "      <td>22542300</td>\n",
              "    </tr>\n",
              "    <tr>\n",
              "      <th>1006</th>\n",
              "      <td>2022-02-02</td>\n",
              "      <td>448.250000</td>\n",
              "      <td>451.980011</td>\n",
              "      <td>426.480011</td>\n",
              "      <td>429.480011</td>\n",
              "      <td>429.480011</td>\n",
              "      <td>14346000</td>\n",
              "    </tr>\n",
              "    <tr>\n",
              "      <th>1007</th>\n",
              "      <td>2022-02-03</td>\n",
              "      <td>421.440002</td>\n",
              "      <td>429.260010</td>\n",
              "      <td>404.279999</td>\n",
              "      <td>405.600006</td>\n",
              "      <td>405.600006</td>\n",
              "      <td>9905200</td>\n",
              "    </tr>\n",
              "    <tr>\n",
              "      <th>1008</th>\n",
              "      <td>2022-02-04</td>\n",
              "      <td>407.309998</td>\n",
              "      <td>412.769989</td>\n",
              "      <td>396.640015</td>\n",
              "      <td>410.170013</td>\n",
              "      <td>410.170013</td>\n",
              "      <td>7782400</td>\n",
              "    </tr>\n",
              "  </tbody>\n",
              "</table>\n",
              "<p>1009 rows × 7 columns</p>\n",
              "</div>\n",
              "      <button class=\"colab-df-convert\" onclick=\"convertToInteractive('df-f32965a9-12a3-43c1-b3eb-18c1218edbf2')\"\n",
              "              title=\"Convert this dataframe to an interactive table.\"\n",
              "              style=\"display:none;\">\n",
              "        \n",
              "  <svg xmlns=\"http://www.w3.org/2000/svg\" height=\"24px\"viewBox=\"0 0 24 24\"\n",
              "       width=\"24px\">\n",
              "    <path d=\"M0 0h24v24H0V0z\" fill=\"none\"/>\n",
              "    <path d=\"M18.56 5.44l.94 2.06.94-2.06 2.06-.94-2.06-.94-.94-2.06-.94 2.06-2.06.94zm-11 1L8.5 8.5l.94-2.06 2.06-.94-2.06-.94L8.5 2.5l-.94 2.06-2.06.94zm10 10l.94 2.06.94-2.06 2.06-.94-2.06-.94-.94-2.06-.94 2.06-2.06.94z\"/><path d=\"M17.41 7.96l-1.37-1.37c-.4-.4-.92-.59-1.43-.59-.52 0-1.04.2-1.43.59L10.3 9.45l-7.72 7.72c-.78.78-.78 2.05 0 2.83L4 21.41c.39.39.9.59 1.41.59.51 0 1.02-.2 1.41-.59l7.78-7.78 2.81-2.81c.8-.78.8-2.07 0-2.86zM5.41 20L4 18.59l7.72-7.72 1.47 1.35L5.41 20z\"/>\n",
              "  </svg>\n",
              "      </button>\n",
              "      \n",
              "  <style>\n",
              "    .colab-df-container {\n",
              "      display:flex;\n",
              "      flex-wrap:wrap;\n",
              "      gap: 12px;\n",
              "    }\n",
              "\n",
              "    .colab-df-convert {\n",
              "      background-color: #E8F0FE;\n",
              "      border: none;\n",
              "      border-radius: 50%;\n",
              "      cursor: pointer;\n",
              "      display: none;\n",
              "      fill: #1967D2;\n",
              "      height: 32px;\n",
              "      padding: 0 0 0 0;\n",
              "      width: 32px;\n",
              "    }\n",
              "\n",
              "    .colab-df-convert:hover {\n",
              "      background-color: #E2EBFA;\n",
              "      box-shadow: 0px 1px 2px rgba(60, 64, 67, 0.3), 0px 1px 3px 1px rgba(60, 64, 67, 0.15);\n",
              "      fill: #174EA6;\n",
              "    }\n",
              "\n",
              "    [theme=dark] .colab-df-convert {\n",
              "      background-color: #3B4455;\n",
              "      fill: #D2E3FC;\n",
              "    }\n",
              "\n",
              "    [theme=dark] .colab-df-convert:hover {\n",
              "      background-color: #434B5C;\n",
              "      box-shadow: 0px 1px 3px 1px rgba(0, 0, 0, 0.15);\n",
              "      filter: drop-shadow(0px 1px 2px rgba(0, 0, 0, 0.3));\n",
              "      fill: #FFFFFF;\n",
              "    }\n",
              "  </style>\n",
              "\n",
              "      <script>\n",
              "        const buttonEl =\n",
              "          document.querySelector('#df-f32965a9-12a3-43c1-b3eb-18c1218edbf2 button.colab-df-convert');\n",
              "        buttonEl.style.display =\n",
              "          google.colab.kernel.accessAllowed ? 'block' : 'none';\n",
              "\n",
              "        async function convertToInteractive(key) {\n",
              "          const element = document.querySelector('#df-f32965a9-12a3-43c1-b3eb-18c1218edbf2');\n",
              "          const dataTable =\n",
              "            await google.colab.kernel.invokeFunction('convertToInteractive',\n",
              "                                                     [key], {});\n",
              "          if (!dataTable) return;\n",
              "\n",
              "          const docLinkHtml = 'Like what you see? Visit the ' +\n",
              "            '<a target=\"_blank\" href=https://colab.research.google.com/notebooks/data_table.ipynb>data table notebook</a>'\n",
              "            + ' to learn more about interactive tables.';\n",
              "          element.innerHTML = '';\n",
              "          dataTable['output_type'] = 'display_data';\n",
              "          await google.colab.output.renderOutput(dataTable, element);\n",
              "          const docLink = document.createElement('div');\n",
              "          docLink.innerHTML = docLinkHtml;\n",
              "          element.appendChild(docLink);\n",
              "        }\n",
              "      </script>\n",
              "    </div>\n",
              "  </div>\n",
              "  "
            ]
          },
          "metadata": {},
          "execution_count": 31
        }
      ]
    },
    {
      "cell_type": "code",
      "source": [
        "df.dtypes"
      ],
      "metadata": {
        "colab": {
          "base_uri": "https://localhost:8080/"
        },
        "id": "otfekwqurjL4",
        "outputId": "5496ef34-0e0a-4753-ed4b-e30d076b1a89"
      },
      "execution_count": null,
      "outputs": [
        {
          "output_type": "execute_result",
          "data": {
            "text/plain": [
              "Date          object\n",
              "Open         float64\n",
              "High         float64\n",
              "Low          float64\n",
              "Close        float64\n",
              "Adj Close    float64\n",
              "Volume         int64\n",
              "dtype: object"
            ]
          },
          "metadata": {},
          "execution_count": 32
        }
      ]
    },
    {
      "cell_type": "code",
      "source": [
        "df.index"
      ],
      "metadata": {
        "colab": {
          "base_uri": "https://localhost:8080/"
        },
        "id": "wcqSy0purjKO",
        "outputId": "4fdb9f7c-b23e-4071-e0e8-1dda26bce046"
      },
      "execution_count": null,
      "outputs": [
        {
          "output_type": "execute_result",
          "data": {
            "text/plain": [
              "RangeIndex(start=0, stop=1009, step=1)"
            ]
          },
          "metadata": {},
          "execution_count": 33
        }
      ]
    },
    {
      "cell_type": "code",
      "source": [
        "df.columns"
      ],
      "metadata": {
        "colab": {
          "base_uri": "https://localhost:8080/"
        },
        "id": "lNc1EKuYrjGg",
        "outputId": "ac561da5-071a-4e91-c0d8-35f45ec65860"
      },
      "execution_count": null,
      "outputs": [
        {
          "output_type": "execute_result",
          "data": {
            "text/plain": [
              "Index(['Date', 'Open', 'High', 'Low', 'Close', 'Adj Close', 'Volume'], dtype='object')"
            ]
          },
          "metadata": {},
          "execution_count": 34
        }
      ]
    },
    {
      "cell_type": "code",
      "source": [
        "df.describe()"
      ],
      "metadata": {
        "colab": {
          "base_uri": "https://localhost:8080/",
          "height": 300
        },
        "id": "Kgijvjhv5Jxk",
        "outputId": "9f2515a3-3a9a-47c9-9f0c-d50b53aa44da"
      },
      "execution_count": null,
      "outputs": [
        {
          "output_type": "execute_result",
          "data": {
            "text/plain": [
              "              Open         High          Low        Close    Adj Close  \\\n",
              "count  1009.000000  1009.000000  1009.000000  1009.000000  1009.000000   \n",
              "mean    419.059673   425.320703   412.374044   419.000733   419.000733   \n",
              "std     108.537532   109.262960   107.555867   108.289999   108.289999   \n",
              "min     233.919998   250.649994   231.229996   233.880005   233.880005   \n",
              "25%     331.489990   336.299988   326.000000   331.619995   331.619995   \n",
              "50%     377.769989   383.010010   370.880005   378.670013   378.670013   \n",
              "75%     509.130005   515.630005   502.529999   509.079987   509.079987   \n",
              "max     692.349976   700.989990   686.090027   691.690002   691.690002   \n",
              "\n",
              "             Volume  \n",
              "count  1.009000e+03  \n",
              "mean   7.570685e+06  \n",
              "std    5.465535e+06  \n",
              "min    1.144000e+06  \n",
              "25%    4.091900e+06  \n",
              "50%    5.934500e+06  \n",
              "75%    9.322400e+06  \n",
              "max    5.890430e+07  "
            ],
            "text/html": [
              "\n",
              "  <div id=\"df-195d2271-0b00-4878-bed3-68ed80b6ea4b\">\n",
              "    <div class=\"colab-df-container\">\n",
              "      <div>\n",
              "<style scoped>\n",
              "    .dataframe tbody tr th:only-of-type {\n",
              "        vertical-align: middle;\n",
              "    }\n",
              "\n",
              "    .dataframe tbody tr th {\n",
              "        vertical-align: top;\n",
              "    }\n",
              "\n",
              "    .dataframe thead th {\n",
              "        text-align: right;\n",
              "    }\n",
              "</style>\n",
              "<table border=\"1\" class=\"dataframe\">\n",
              "  <thead>\n",
              "    <tr style=\"text-align: right;\">\n",
              "      <th></th>\n",
              "      <th>Open</th>\n",
              "      <th>High</th>\n",
              "      <th>Low</th>\n",
              "      <th>Close</th>\n",
              "      <th>Adj Close</th>\n",
              "      <th>Volume</th>\n",
              "    </tr>\n",
              "  </thead>\n",
              "  <tbody>\n",
              "    <tr>\n",
              "      <th>count</th>\n",
              "      <td>1009.000000</td>\n",
              "      <td>1009.000000</td>\n",
              "      <td>1009.000000</td>\n",
              "      <td>1009.000000</td>\n",
              "      <td>1009.000000</td>\n",
              "      <td>1.009000e+03</td>\n",
              "    </tr>\n",
              "    <tr>\n",
              "      <th>mean</th>\n",
              "      <td>419.059673</td>\n",
              "      <td>425.320703</td>\n",
              "      <td>412.374044</td>\n",
              "      <td>419.000733</td>\n",
              "      <td>419.000733</td>\n",
              "      <td>7.570685e+06</td>\n",
              "    </tr>\n",
              "    <tr>\n",
              "      <th>std</th>\n",
              "      <td>108.537532</td>\n",
              "      <td>109.262960</td>\n",
              "      <td>107.555867</td>\n",
              "      <td>108.289999</td>\n",
              "      <td>108.289999</td>\n",
              "      <td>5.465535e+06</td>\n",
              "    </tr>\n",
              "    <tr>\n",
              "      <th>min</th>\n",
              "      <td>233.919998</td>\n",
              "      <td>250.649994</td>\n",
              "      <td>231.229996</td>\n",
              "      <td>233.880005</td>\n",
              "      <td>233.880005</td>\n",
              "      <td>1.144000e+06</td>\n",
              "    </tr>\n",
              "    <tr>\n",
              "      <th>25%</th>\n",
              "      <td>331.489990</td>\n",
              "      <td>336.299988</td>\n",
              "      <td>326.000000</td>\n",
              "      <td>331.619995</td>\n",
              "      <td>331.619995</td>\n",
              "      <td>4.091900e+06</td>\n",
              "    </tr>\n",
              "    <tr>\n",
              "      <th>50%</th>\n",
              "      <td>377.769989</td>\n",
              "      <td>383.010010</td>\n",
              "      <td>370.880005</td>\n",
              "      <td>378.670013</td>\n",
              "      <td>378.670013</td>\n",
              "      <td>5.934500e+06</td>\n",
              "    </tr>\n",
              "    <tr>\n",
              "      <th>75%</th>\n",
              "      <td>509.130005</td>\n",
              "      <td>515.630005</td>\n",
              "      <td>502.529999</td>\n",
              "      <td>509.079987</td>\n",
              "      <td>509.079987</td>\n",
              "      <td>9.322400e+06</td>\n",
              "    </tr>\n",
              "    <tr>\n",
              "      <th>max</th>\n",
              "      <td>692.349976</td>\n",
              "      <td>700.989990</td>\n",
              "      <td>686.090027</td>\n",
              "      <td>691.690002</td>\n",
              "      <td>691.690002</td>\n",
              "      <td>5.890430e+07</td>\n",
              "    </tr>\n",
              "  </tbody>\n",
              "</table>\n",
              "</div>\n",
              "      <button class=\"colab-df-convert\" onclick=\"convertToInteractive('df-195d2271-0b00-4878-bed3-68ed80b6ea4b')\"\n",
              "              title=\"Convert this dataframe to an interactive table.\"\n",
              "              style=\"display:none;\">\n",
              "        \n",
              "  <svg xmlns=\"http://www.w3.org/2000/svg\" height=\"24px\"viewBox=\"0 0 24 24\"\n",
              "       width=\"24px\">\n",
              "    <path d=\"M0 0h24v24H0V0z\" fill=\"none\"/>\n",
              "    <path d=\"M18.56 5.44l.94 2.06.94-2.06 2.06-.94-2.06-.94-.94-2.06-.94 2.06-2.06.94zm-11 1L8.5 8.5l.94-2.06 2.06-.94-2.06-.94L8.5 2.5l-.94 2.06-2.06.94zm10 10l.94 2.06.94-2.06 2.06-.94-2.06-.94-.94-2.06-.94 2.06-2.06.94z\"/><path d=\"M17.41 7.96l-1.37-1.37c-.4-.4-.92-.59-1.43-.59-.52 0-1.04.2-1.43.59L10.3 9.45l-7.72 7.72c-.78.78-.78 2.05 0 2.83L4 21.41c.39.39.9.59 1.41.59.51 0 1.02-.2 1.41-.59l7.78-7.78 2.81-2.81c.8-.78.8-2.07 0-2.86zM5.41 20L4 18.59l7.72-7.72 1.47 1.35L5.41 20z\"/>\n",
              "  </svg>\n",
              "      </button>\n",
              "      \n",
              "  <style>\n",
              "    .colab-df-container {\n",
              "      display:flex;\n",
              "      flex-wrap:wrap;\n",
              "      gap: 12px;\n",
              "    }\n",
              "\n",
              "    .colab-df-convert {\n",
              "      background-color: #E8F0FE;\n",
              "      border: none;\n",
              "      border-radius: 50%;\n",
              "      cursor: pointer;\n",
              "      display: none;\n",
              "      fill: #1967D2;\n",
              "      height: 32px;\n",
              "      padding: 0 0 0 0;\n",
              "      width: 32px;\n",
              "    }\n",
              "\n",
              "    .colab-df-convert:hover {\n",
              "      background-color: #E2EBFA;\n",
              "      box-shadow: 0px 1px 2px rgba(60, 64, 67, 0.3), 0px 1px 3px 1px rgba(60, 64, 67, 0.15);\n",
              "      fill: #174EA6;\n",
              "    }\n",
              "\n",
              "    [theme=dark] .colab-df-convert {\n",
              "      background-color: #3B4455;\n",
              "      fill: #D2E3FC;\n",
              "    }\n",
              "\n",
              "    [theme=dark] .colab-df-convert:hover {\n",
              "      background-color: #434B5C;\n",
              "      box-shadow: 0px 1px 3px 1px rgba(0, 0, 0, 0.15);\n",
              "      filter: drop-shadow(0px 1px 2px rgba(0, 0, 0, 0.3));\n",
              "      fill: #FFFFFF;\n",
              "    }\n",
              "  </style>\n",
              "\n",
              "      <script>\n",
              "        const buttonEl =\n",
              "          document.querySelector('#df-195d2271-0b00-4878-bed3-68ed80b6ea4b button.colab-df-convert');\n",
              "        buttonEl.style.display =\n",
              "          google.colab.kernel.accessAllowed ? 'block' : 'none';\n",
              "\n",
              "        async function convertToInteractive(key) {\n",
              "          const element = document.querySelector('#df-195d2271-0b00-4878-bed3-68ed80b6ea4b');\n",
              "          const dataTable =\n",
              "            await google.colab.kernel.invokeFunction('convertToInteractive',\n",
              "                                                     [key], {});\n",
              "          if (!dataTable) return;\n",
              "\n",
              "          const docLinkHtml = 'Like what you see? Visit the ' +\n",
              "            '<a target=\"_blank\" href=https://colab.research.google.com/notebooks/data_table.ipynb>data table notebook</a>'\n",
              "            + ' to learn more about interactive tables.';\n",
              "          element.innerHTML = '';\n",
              "          dataTable['output_type'] = 'display_data';\n",
              "          await google.colab.output.renderOutput(dataTable, element);\n",
              "          const docLink = document.createElement('div');\n",
              "          docLink.innerHTML = docLinkHtml;\n",
              "          element.appendChild(docLink);\n",
              "        }\n",
              "      </script>\n",
              "    </div>\n",
              "  </div>\n",
              "  "
            ]
          },
          "metadata": {},
          "execution_count": 36
        }
      ]
    },
    {
      "cell_type": "code",
      "source": [
        "df.loc[\"20180205\",[\"Open\"]]"
      ],
      "metadata": {
        "colab": {
          "base_uri": "https://localhost:8080/",
          "height": 311
        },
        "id": "AZ8HViYS5Jvs",
        "outputId": "a7d27b2d-db91-4124-d594-a3ef02cd6c3a"
      },
      "execution_count": null,
      "outputs": [
        {
          "output_type": "error",
          "ename": "KeyError",
          "evalue": "ignored",
          "traceback": [
            "\u001b[0;31m---------------------------------------------------------------------------\u001b[0m",
            "\u001b[0;31mKeyError\u001b[0m                                  Traceback (most recent call last)",
            "\u001b[0;32m<ipython-input-46-af76de142880>\u001b[0m in \u001b[0;36m<module>\u001b[0;34m()\u001b[0m\n\u001b[0;32m----> 1\u001b[0;31m \u001b[0mdf\u001b[0m\u001b[0;34m.\u001b[0m\u001b[0mloc\u001b[0m\u001b[0;34m[\u001b[0m\u001b[0;34m\"20180205\"\u001b[0m\u001b[0;34m,\u001b[0m\u001b[0;34m[\u001b[0m\u001b[0;34m\"Open\"\u001b[0m\u001b[0;34m]\u001b[0m\u001b[0;34m]\u001b[0m\u001b[0;34m\u001b[0m\u001b[0;34m\u001b[0m\u001b[0m\n\u001b[0m",
            "\u001b[0;32m/usr/local/lib/python3.7/dist-packages/pandas/core/indexing.py\u001b[0m in \u001b[0;36m__getitem__\u001b[0;34m(self, key)\u001b[0m\n\u001b[1;32m    923\u001b[0m                 \u001b[0;32mwith\u001b[0m \u001b[0msuppress\u001b[0m\u001b[0;34m(\u001b[0m\u001b[0mKeyError\u001b[0m\u001b[0;34m,\u001b[0m \u001b[0mIndexError\u001b[0m\u001b[0;34m)\u001b[0m\u001b[0;34m:\u001b[0m\u001b[0;34m\u001b[0m\u001b[0;34m\u001b[0m\u001b[0m\n\u001b[1;32m    924\u001b[0m                     \u001b[0;32mreturn\u001b[0m \u001b[0mself\u001b[0m\u001b[0;34m.\u001b[0m\u001b[0mobj\u001b[0m\u001b[0;34m.\u001b[0m\u001b[0m_get_value\u001b[0m\u001b[0;34m(\u001b[0m\u001b[0;34m*\u001b[0m\u001b[0mkey\u001b[0m\u001b[0;34m,\u001b[0m \u001b[0mtakeable\u001b[0m\u001b[0;34m=\u001b[0m\u001b[0mself\u001b[0m\u001b[0;34m.\u001b[0m\u001b[0m_takeable\u001b[0m\u001b[0;34m)\u001b[0m\u001b[0;34m\u001b[0m\u001b[0;34m\u001b[0m\u001b[0m\n\u001b[0;32m--> 925\u001b[0;31m             \u001b[0;32mreturn\u001b[0m \u001b[0mself\u001b[0m\u001b[0;34m.\u001b[0m\u001b[0m_getitem_tuple\u001b[0m\u001b[0;34m(\u001b[0m\u001b[0mkey\u001b[0m\u001b[0;34m)\u001b[0m\u001b[0;34m\u001b[0m\u001b[0;34m\u001b[0m\u001b[0m\n\u001b[0m\u001b[1;32m    926\u001b[0m         \u001b[0;32melse\u001b[0m\u001b[0;34m:\u001b[0m\u001b[0;34m\u001b[0m\u001b[0;34m\u001b[0m\u001b[0m\n\u001b[1;32m    927\u001b[0m             \u001b[0;31m# we by definition only have the 0th axis\u001b[0m\u001b[0;34m\u001b[0m\u001b[0;34m\u001b[0m\u001b[0;34m\u001b[0m\u001b[0m\n",
            "\u001b[0;32m/usr/local/lib/python3.7/dist-packages/pandas/core/indexing.py\u001b[0m in \u001b[0;36m_getitem_tuple\u001b[0;34m(self, tup)\u001b[0m\n\u001b[1;32m   1098\u001b[0m     \u001b[0;32mdef\u001b[0m \u001b[0m_getitem_tuple\u001b[0m\u001b[0;34m(\u001b[0m\u001b[0mself\u001b[0m\u001b[0;34m,\u001b[0m \u001b[0mtup\u001b[0m\u001b[0;34m:\u001b[0m \u001b[0mtuple\u001b[0m\u001b[0;34m)\u001b[0m\u001b[0;34m:\u001b[0m\u001b[0;34m\u001b[0m\u001b[0;34m\u001b[0m\u001b[0m\n\u001b[1;32m   1099\u001b[0m         \u001b[0;32mwith\u001b[0m \u001b[0msuppress\u001b[0m\u001b[0;34m(\u001b[0m\u001b[0mIndexingError\u001b[0m\u001b[0;34m)\u001b[0m\u001b[0;34m:\u001b[0m\u001b[0;34m\u001b[0m\u001b[0;34m\u001b[0m\u001b[0m\n\u001b[0;32m-> 1100\u001b[0;31m             \u001b[0;32mreturn\u001b[0m \u001b[0mself\u001b[0m\u001b[0;34m.\u001b[0m\u001b[0m_getitem_lowerdim\u001b[0m\u001b[0;34m(\u001b[0m\u001b[0mtup\u001b[0m\u001b[0;34m)\u001b[0m\u001b[0;34m\u001b[0m\u001b[0;34m\u001b[0m\u001b[0m\n\u001b[0m\u001b[1;32m   1101\u001b[0m \u001b[0;34m\u001b[0m\u001b[0m\n\u001b[1;32m   1102\u001b[0m         \u001b[0;31m# no multi-index, so validate all of the indexers\u001b[0m\u001b[0;34m\u001b[0m\u001b[0;34m\u001b[0m\u001b[0;34m\u001b[0m\u001b[0m\n",
            "\u001b[0;32m/usr/local/lib/python3.7/dist-packages/pandas/core/indexing.py\u001b[0m in \u001b[0;36m_getitem_lowerdim\u001b[0;34m(self, tup)\u001b[0m\n\u001b[1;32m    836\u001b[0m                 \u001b[0;31m# We don't need to check for tuples here because those are\u001b[0m\u001b[0;34m\u001b[0m\u001b[0;34m\u001b[0m\u001b[0;34m\u001b[0m\u001b[0m\n\u001b[1;32m    837\u001b[0m                 \u001b[0;31m#  caught by the _is_nested_tuple_indexer check above.\u001b[0m\u001b[0;34m\u001b[0m\u001b[0;34m\u001b[0m\u001b[0;34m\u001b[0m\u001b[0m\n\u001b[0;32m--> 838\u001b[0;31m                 \u001b[0msection\u001b[0m \u001b[0;34m=\u001b[0m \u001b[0mself\u001b[0m\u001b[0;34m.\u001b[0m\u001b[0m_getitem_axis\u001b[0m\u001b[0;34m(\u001b[0m\u001b[0mkey\u001b[0m\u001b[0;34m,\u001b[0m \u001b[0maxis\u001b[0m\u001b[0;34m=\u001b[0m\u001b[0mi\u001b[0m\u001b[0;34m)\u001b[0m\u001b[0;34m\u001b[0m\u001b[0;34m\u001b[0m\u001b[0m\n\u001b[0m\u001b[1;32m    839\u001b[0m \u001b[0;34m\u001b[0m\u001b[0m\n\u001b[1;32m    840\u001b[0m                 \u001b[0;31m# We should never have a scalar section here, because\u001b[0m\u001b[0;34m\u001b[0m\u001b[0;34m\u001b[0m\u001b[0;34m\u001b[0m\u001b[0m\n",
            "\u001b[0;32m/usr/local/lib/python3.7/dist-packages/pandas/core/indexing.py\u001b[0m in \u001b[0;36m_getitem_axis\u001b[0;34m(self, key, axis)\u001b[0m\n\u001b[1;32m   1162\u001b[0m         \u001b[0;31m# fall thru to straight lookup\u001b[0m\u001b[0;34m\u001b[0m\u001b[0;34m\u001b[0m\u001b[0;34m\u001b[0m\u001b[0m\n\u001b[1;32m   1163\u001b[0m         \u001b[0mself\u001b[0m\u001b[0;34m.\u001b[0m\u001b[0m_validate_key\u001b[0m\u001b[0;34m(\u001b[0m\u001b[0mkey\u001b[0m\u001b[0;34m,\u001b[0m \u001b[0maxis\u001b[0m\u001b[0;34m)\u001b[0m\u001b[0;34m\u001b[0m\u001b[0;34m\u001b[0m\u001b[0m\n\u001b[0;32m-> 1164\u001b[0;31m         \u001b[0;32mreturn\u001b[0m \u001b[0mself\u001b[0m\u001b[0;34m.\u001b[0m\u001b[0m_get_label\u001b[0m\u001b[0;34m(\u001b[0m\u001b[0mkey\u001b[0m\u001b[0;34m,\u001b[0m \u001b[0maxis\u001b[0m\u001b[0;34m=\u001b[0m\u001b[0maxis\u001b[0m\u001b[0;34m)\u001b[0m\u001b[0;34m\u001b[0m\u001b[0;34m\u001b[0m\u001b[0m\n\u001b[0m\u001b[1;32m   1165\u001b[0m \u001b[0;34m\u001b[0m\u001b[0m\n\u001b[1;32m   1166\u001b[0m     \u001b[0;32mdef\u001b[0m \u001b[0m_get_slice_axis\u001b[0m\u001b[0;34m(\u001b[0m\u001b[0mself\u001b[0m\u001b[0;34m,\u001b[0m \u001b[0mslice_obj\u001b[0m\u001b[0;34m:\u001b[0m \u001b[0mslice\u001b[0m\u001b[0;34m,\u001b[0m \u001b[0maxis\u001b[0m\u001b[0;34m:\u001b[0m \u001b[0mint\u001b[0m\u001b[0;34m)\u001b[0m\u001b[0;34m:\u001b[0m\u001b[0;34m\u001b[0m\u001b[0;34m\u001b[0m\u001b[0m\n",
            "\u001b[0;32m/usr/local/lib/python3.7/dist-packages/pandas/core/indexing.py\u001b[0m in \u001b[0;36m_get_label\u001b[0;34m(self, label, axis)\u001b[0m\n\u001b[1;32m   1111\u001b[0m     \u001b[0;32mdef\u001b[0m \u001b[0m_get_label\u001b[0m\u001b[0;34m(\u001b[0m\u001b[0mself\u001b[0m\u001b[0;34m,\u001b[0m \u001b[0mlabel\u001b[0m\u001b[0;34m,\u001b[0m \u001b[0maxis\u001b[0m\u001b[0;34m:\u001b[0m \u001b[0mint\u001b[0m\u001b[0;34m)\u001b[0m\u001b[0;34m:\u001b[0m\u001b[0;34m\u001b[0m\u001b[0;34m\u001b[0m\u001b[0m\n\u001b[1;32m   1112\u001b[0m         \u001b[0;31m# GH#5667 this will fail if the label is not present in the axis.\u001b[0m\u001b[0;34m\u001b[0m\u001b[0;34m\u001b[0m\u001b[0;34m\u001b[0m\u001b[0m\n\u001b[0;32m-> 1113\u001b[0;31m         \u001b[0;32mreturn\u001b[0m \u001b[0mself\u001b[0m\u001b[0;34m.\u001b[0m\u001b[0mobj\u001b[0m\u001b[0;34m.\u001b[0m\u001b[0mxs\u001b[0m\u001b[0;34m(\u001b[0m\u001b[0mlabel\u001b[0m\u001b[0;34m,\u001b[0m \u001b[0maxis\u001b[0m\u001b[0;34m=\u001b[0m\u001b[0maxis\u001b[0m\u001b[0;34m)\u001b[0m\u001b[0;34m\u001b[0m\u001b[0;34m\u001b[0m\u001b[0m\n\u001b[0m\u001b[1;32m   1114\u001b[0m \u001b[0;34m\u001b[0m\u001b[0m\n\u001b[1;32m   1115\u001b[0m     \u001b[0;32mdef\u001b[0m \u001b[0m_handle_lowerdim_multi_index_axis0\u001b[0m\u001b[0;34m(\u001b[0m\u001b[0mself\u001b[0m\u001b[0;34m,\u001b[0m \u001b[0mtup\u001b[0m\u001b[0;34m:\u001b[0m \u001b[0mtuple\u001b[0m\u001b[0;34m)\u001b[0m\u001b[0;34m:\u001b[0m\u001b[0;34m\u001b[0m\u001b[0;34m\u001b[0m\u001b[0m\n",
            "\u001b[0;32m/usr/local/lib/python3.7/dist-packages/pandas/core/generic.py\u001b[0m in \u001b[0;36mxs\u001b[0;34m(self, key, axis, level, drop_level)\u001b[0m\n\u001b[1;32m   3774\u001b[0m                 \u001b[0;32mraise\u001b[0m \u001b[0mTypeError\u001b[0m\u001b[0;34m(\u001b[0m\u001b[0;34mf\"Expected label or tuple of labels, got {key}\"\u001b[0m\u001b[0;34m)\u001b[0m \u001b[0;32mfrom\u001b[0m \u001b[0me\u001b[0m\u001b[0;34m\u001b[0m\u001b[0;34m\u001b[0m\u001b[0m\n\u001b[1;32m   3775\u001b[0m         \u001b[0;32melse\u001b[0m\u001b[0;34m:\u001b[0m\u001b[0;34m\u001b[0m\u001b[0;34m\u001b[0m\u001b[0m\n\u001b[0;32m-> 3776\u001b[0;31m             \u001b[0mloc\u001b[0m \u001b[0;34m=\u001b[0m \u001b[0mindex\u001b[0m\u001b[0;34m.\u001b[0m\u001b[0mget_loc\u001b[0m\u001b[0;34m(\u001b[0m\u001b[0mkey\u001b[0m\u001b[0;34m)\u001b[0m\u001b[0;34m\u001b[0m\u001b[0;34m\u001b[0m\u001b[0m\n\u001b[0m\u001b[1;32m   3777\u001b[0m \u001b[0;34m\u001b[0m\u001b[0m\n\u001b[1;32m   3778\u001b[0m             \u001b[0;32mif\u001b[0m \u001b[0misinstance\u001b[0m\u001b[0;34m(\u001b[0m\u001b[0mloc\u001b[0m\u001b[0;34m,\u001b[0m \u001b[0mnp\u001b[0m\u001b[0;34m.\u001b[0m\u001b[0mndarray\u001b[0m\u001b[0;34m)\u001b[0m\u001b[0;34m:\u001b[0m\u001b[0;34m\u001b[0m\u001b[0;34m\u001b[0m\u001b[0m\n",
            "\u001b[0;32m/usr/local/lib/python3.7/dist-packages/pandas/core/indexes/range.py\u001b[0m in \u001b[0;36mget_loc\u001b[0;34m(self, key, method, tolerance)\u001b[0m\n\u001b[1;32m    386\u001b[0m                 \u001b[0;32mexcept\u001b[0m \u001b[0mValueError\u001b[0m \u001b[0;32mas\u001b[0m \u001b[0merr\u001b[0m\u001b[0;34m:\u001b[0m\u001b[0;34m\u001b[0m\u001b[0;34m\u001b[0m\u001b[0m\n\u001b[1;32m    387\u001b[0m                     \u001b[0;32mraise\u001b[0m \u001b[0mKeyError\u001b[0m\u001b[0;34m(\u001b[0m\u001b[0mkey\u001b[0m\u001b[0;34m)\u001b[0m \u001b[0;32mfrom\u001b[0m \u001b[0merr\u001b[0m\u001b[0;34m\u001b[0m\u001b[0;34m\u001b[0m\u001b[0m\n\u001b[0;32m--> 388\u001b[0;31m             \u001b[0;32mraise\u001b[0m \u001b[0mKeyError\u001b[0m\u001b[0;34m(\u001b[0m\u001b[0mkey\u001b[0m\u001b[0;34m)\u001b[0m\u001b[0;34m\u001b[0m\u001b[0;34m\u001b[0m\u001b[0m\n\u001b[0m\u001b[1;32m    389\u001b[0m         \u001b[0;32mreturn\u001b[0m \u001b[0msuper\u001b[0m\u001b[0;34m(\u001b[0m\u001b[0;34m)\u001b[0m\u001b[0;34m.\u001b[0m\u001b[0mget_loc\u001b[0m\u001b[0;34m(\u001b[0m\u001b[0mkey\u001b[0m\u001b[0;34m,\u001b[0m \u001b[0mmethod\u001b[0m\u001b[0;34m=\u001b[0m\u001b[0mmethod\u001b[0m\u001b[0;34m,\u001b[0m \u001b[0mtolerance\u001b[0m\u001b[0;34m=\u001b[0m\u001b[0mtolerance\u001b[0m\u001b[0;34m)\u001b[0m\u001b[0;34m\u001b[0m\u001b[0;34m\u001b[0m\u001b[0m\n\u001b[1;32m    390\u001b[0m \u001b[0;34m\u001b[0m\u001b[0m\n",
            "\u001b[0;31mKeyError\u001b[0m: '20180205'"
          ]
        }
      ]
    },
    {
      "cell_type": "code",
      "source": [
        "df.iloc[1008]"
      ],
      "metadata": {
        "colab": {
          "base_uri": "https://localhost:8080/"
        },
        "id": "Ad8pubv65JtR",
        "outputId": "cfb5129d-58e9-443a-f9b6-219bd0c86351"
      },
      "execution_count": null,
      "outputs": [
        {
          "output_type": "execute_result",
          "data": {
            "text/plain": [
              "Date         2022-02-04\n",
              "Open         407.309998\n",
              "High         412.769989\n",
              "Low          396.640015\n",
              "Close        410.170013\n",
              "Adj Close    410.170013\n",
              "Volume          7782400\n",
              "Name: 1008, dtype: object"
            ]
          },
          "metadata": {},
          "execution_count": 49
        }
      ]
    },
    {
      "cell_type": "code",
      "source": [
        "df[df[\"Open\"]>410]"
      ],
      "metadata": {
        "colab": {
          "base_uri": "https://localhost:8080/",
          "height": 424
        },
        "id": "H_S8tPM95JrF",
        "outputId": "88422c1a-34a8-4608-8131-018b97626370"
      },
      "execution_count": null,
      "outputs": [
        {
          "output_type": "execute_result",
          "data": {
            "text/plain": [
              "            Date        Open        High         Low       Close   Adj Close  \\\n",
              "94    2018-06-20  415.149994  419.470001  409.600006  416.760010  416.760010   \n",
              "95    2018-06-21  421.380005  423.209991  406.369995  415.440002  415.440002   \n",
              "96    2018-06-22  419.980011  420.500000  409.649994  411.089996  411.089996   \n",
              "106   2018-07-09  415.950012  419.119995  411.100006  418.970001  418.970001   \n",
              "107   2018-07-10  417.239990  419.440002  413.079987  415.630005  415.630005   \n",
              "...          ...         ...         ...         ...         ...         ...   \n",
              "996   2022-01-19  515.000000  523.210022  510.510010  515.859985  515.859985   \n",
              "997   2022-01-20  517.750000  526.640015  506.929993  508.250000  508.250000   \n",
              "1005  2022-02-01  432.959991  458.480011  425.540009  457.130005  457.130005   \n",
              "1006  2022-02-02  448.250000  451.980011  426.480011  429.480011  429.480011   \n",
              "1007  2022-02-03  421.440002  429.260010  404.279999  405.600006  405.600006   \n",
              "\n",
              "        Volume  \n",
              "94    16494600  \n",
              "95    18389900  \n",
              "96    10428600  \n",
              "106   11127500  \n",
              "107    9382900  \n",
              "...        ...  \n",
              "996    4353500  \n",
              "997   12659000  \n",
              "1005  22542300  \n",
              "1006  14346000  \n",
              "1007   9905200  \n",
              "\n",
              "[455 rows x 7 columns]"
            ],
            "text/html": [
              "\n",
              "  <div id=\"df-1c6a1b43-7878-4fef-b5db-66451ed909cc\">\n",
              "    <div class=\"colab-df-container\">\n",
              "      <div>\n",
              "<style scoped>\n",
              "    .dataframe tbody tr th:only-of-type {\n",
              "        vertical-align: middle;\n",
              "    }\n",
              "\n",
              "    .dataframe tbody tr th {\n",
              "        vertical-align: top;\n",
              "    }\n",
              "\n",
              "    .dataframe thead th {\n",
              "        text-align: right;\n",
              "    }\n",
              "</style>\n",
              "<table border=\"1\" class=\"dataframe\">\n",
              "  <thead>\n",
              "    <tr style=\"text-align: right;\">\n",
              "      <th></th>\n",
              "      <th>Date</th>\n",
              "      <th>Open</th>\n",
              "      <th>High</th>\n",
              "      <th>Low</th>\n",
              "      <th>Close</th>\n",
              "      <th>Adj Close</th>\n",
              "      <th>Volume</th>\n",
              "    </tr>\n",
              "  </thead>\n",
              "  <tbody>\n",
              "    <tr>\n",
              "      <th>94</th>\n",
              "      <td>2018-06-20</td>\n",
              "      <td>415.149994</td>\n",
              "      <td>419.470001</td>\n",
              "      <td>409.600006</td>\n",
              "      <td>416.760010</td>\n",
              "      <td>416.760010</td>\n",
              "      <td>16494600</td>\n",
              "    </tr>\n",
              "    <tr>\n",
              "      <th>95</th>\n",
              "      <td>2018-06-21</td>\n",
              "      <td>421.380005</td>\n",
              "      <td>423.209991</td>\n",
              "      <td>406.369995</td>\n",
              "      <td>415.440002</td>\n",
              "      <td>415.440002</td>\n",
              "      <td>18389900</td>\n",
              "    </tr>\n",
              "    <tr>\n",
              "      <th>96</th>\n",
              "      <td>2018-06-22</td>\n",
              "      <td>419.980011</td>\n",
              "      <td>420.500000</td>\n",
              "      <td>409.649994</td>\n",
              "      <td>411.089996</td>\n",
              "      <td>411.089996</td>\n",
              "      <td>10428600</td>\n",
              "    </tr>\n",
              "    <tr>\n",
              "      <th>106</th>\n",
              "      <td>2018-07-09</td>\n",
              "      <td>415.950012</td>\n",
              "      <td>419.119995</td>\n",
              "      <td>411.100006</td>\n",
              "      <td>418.970001</td>\n",
              "      <td>418.970001</td>\n",
              "      <td>11127500</td>\n",
              "    </tr>\n",
              "    <tr>\n",
              "      <th>107</th>\n",
              "      <td>2018-07-10</td>\n",
              "      <td>417.239990</td>\n",
              "      <td>419.440002</td>\n",
              "      <td>413.079987</td>\n",
              "      <td>415.630005</td>\n",
              "      <td>415.630005</td>\n",
              "      <td>9382900</td>\n",
              "    </tr>\n",
              "    <tr>\n",
              "      <th>...</th>\n",
              "      <td>...</td>\n",
              "      <td>...</td>\n",
              "      <td>...</td>\n",
              "      <td>...</td>\n",
              "      <td>...</td>\n",
              "      <td>...</td>\n",
              "      <td>...</td>\n",
              "    </tr>\n",
              "    <tr>\n",
              "      <th>996</th>\n",
              "      <td>2022-01-19</td>\n",
              "      <td>515.000000</td>\n",
              "      <td>523.210022</td>\n",
              "      <td>510.510010</td>\n",
              "      <td>515.859985</td>\n",
              "      <td>515.859985</td>\n",
              "      <td>4353500</td>\n",
              "    </tr>\n",
              "    <tr>\n",
              "      <th>997</th>\n",
              "      <td>2022-01-20</td>\n",
              "      <td>517.750000</td>\n",
              "      <td>526.640015</td>\n",
              "      <td>506.929993</td>\n",
              "      <td>508.250000</td>\n",
              "      <td>508.250000</td>\n",
              "      <td>12659000</td>\n",
              "    </tr>\n",
              "    <tr>\n",
              "      <th>1005</th>\n",
              "      <td>2022-02-01</td>\n",
              "      <td>432.959991</td>\n",
              "      <td>458.480011</td>\n",
              "      <td>425.540009</td>\n",
              "      <td>457.130005</td>\n",
              "      <td>457.130005</td>\n",
              "      <td>22542300</td>\n",
              "    </tr>\n",
              "    <tr>\n",
              "      <th>1006</th>\n",
              "      <td>2022-02-02</td>\n",
              "      <td>448.250000</td>\n",
              "      <td>451.980011</td>\n",
              "      <td>426.480011</td>\n",
              "      <td>429.480011</td>\n",
              "      <td>429.480011</td>\n",
              "      <td>14346000</td>\n",
              "    </tr>\n",
              "    <tr>\n",
              "      <th>1007</th>\n",
              "      <td>2022-02-03</td>\n",
              "      <td>421.440002</td>\n",
              "      <td>429.260010</td>\n",
              "      <td>404.279999</td>\n",
              "      <td>405.600006</td>\n",
              "      <td>405.600006</td>\n",
              "      <td>9905200</td>\n",
              "    </tr>\n",
              "  </tbody>\n",
              "</table>\n",
              "<p>455 rows × 7 columns</p>\n",
              "</div>\n",
              "      <button class=\"colab-df-convert\" onclick=\"convertToInteractive('df-1c6a1b43-7878-4fef-b5db-66451ed909cc')\"\n",
              "              title=\"Convert this dataframe to an interactive table.\"\n",
              "              style=\"display:none;\">\n",
              "        \n",
              "  <svg xmlns=\"http://www.w3.org/2000/svg\" height=\"24px\"viewBox=\"0 0 24 24\"\n",
              "       width=\"24px\">\n",
              "    <path d=\"M0 0h24v24H0V0z\" fill=\"none\"/>\n",
              "    <path d=\"M18.56 5.44l.94 2.06.94-2.06 2.06-.94-2.06-.94-.94-2.06-.94 2.06-2.06.94zm-11 1L8.5 8.5l.94-2.06 2.06-.94-2.06-.94L8.5 2.5l-.94 2.06-2.06.94zm10 10l.94 2.06.94-2.06 2.06-.94-2.06-.94-.94-2.06-.94 2.06-2.06.94z\"/><path d=\"M17.41 7.96l-1.37-1.37c-.4-.4-.92-.59-1.43-.59-.52 0-1.04.2-1.43.59L10.3 9.45l-7.72 7.72c-.78.78-.78 2.05 0 2.83L4 21.41c.39.39.9.59 1.41.59.51 0 1.02-.2 1.41-.59l7.78-7.78 2.81-2.81c.8-.78.8-2.07 0-2.86zM5.41 20L4 18.59l7.72-7.72 1.47 1.35L5.41 20z\"/>\n",
              "  </svg>\n",
              "      </button>\n",
              "      \n",
              "  <style>\n",
              "    .colab-df-container {\n",
              "      display:flex;\n",
              "      flex-wrap:wrap;\n",
              "      gap: 12px;\n",
              "    }\n",
              "\n",
              "    .colab-df-convert {\n",
              "      background-color: #E8F0FE;\n",
              "      border: none;\n",
              "      border-radius: 50%;\n",
              "      cursor: pointer;\n",
              "      display: none;\n",
              "      fill: #1967D2;\n",
              "      height: 32px;\n",
              "      padding: 0 0 0 0;\n",
              "      width: 32px;\n",
              "    }\n",
              "\n",
              "    .colab-df-convert:hover {\n",
              "      background-color: #E2EBFA;\n",
              "      box-shadow: 0px 1px 2px rgba(60, 64, 67, 0.3), 0px 1px 3px 1px rgba(60, 64, 67, 0.15);\n",
              "      fill: #174EA6;\n",
              "    }\n",
              "\n",
              "    [theme=dark] .colab-df-convert {\n",
              "      background-color: #3B4455;\n",
              "      fill: #D2E3FC;\n",
              "    }\n",
              "\n",
              "    [theme=dark] .colab-df-convert:hover {\n",
              "      background-color: #434B5C;\n",
              "      box-shadow: 0px 1px 3px 1px rgba(0, 0, 0, 0.15);\n",
              "      filter: drop-shadow(0px 1px 2px rgba(0, 0, 0, 0.3));\n",
              "      fill: #FFFFFF;\n",
              "    }\n",
              "  </style>\n",
              "\n",
              "      <script>\n",
              "        const buttonEl =\n",
              "          document.querySelector('#df-1c6a1b43-7878-4fef-b5db-66451ed909cc button.colab-df-convert');\n",
              "        buttonEl.style.display =\n",
              "          google.colab.kernel.accessAllowed ? 'block' : 'none';\n",
              "\n",
              "        async function convertToInteractive(key) {\n",
              "          const element = document.querySelector('#df-1c6a1b43-7878-4fef-b5db-66451ed909cc');\n",
              "          const dataTable =\n",
              "            await google.colab.kernel.invokeFunction('convertToInteractive',\n",
              "                                                     [key], {});\n",
              "          if (!dataTable) return;\n",
              "\n",
              "          const docLinkHtml = 'Like what you see? Visit the ' +\n",
              "            '<a target=\"_blank\" href=https://colab.research.google.com/notebooks/data_table.ipynb>data table notebook</a>'\n",
              "            + ' to learn more about interactive tables.';\n",
              "          element.innerHTML = '';\n",
              "          dataTable['output_type'] = 'display_data';\n",
              "          await google.colab.output.renderOutput(dataTable, element);\n",
              "          const docLink = document.createElement('div');\n",
              "          docLink.innerHTML = docLinkHtml;\n",
              "          element.appendChild(docLink);\n",
              "        }\n",
              "      </script>\n",
              "    </div>\n",
              "  </div>\n",
              "  "
            ]
          },
          "metadata": {},
          "execution_count": 50
        }
      ]
    },
    {
      "cell_type": "code",
      "source": [
        "df[df[\"High\"]>500]"
      ],
      "metadata": {
        "colab": {
          "base_uri": "https://localhost:8080/",
          "height": 424
        },
        "id": "J6N_0jqX5Joh",
        "outputId": "bb4fa937-b431-4b67-8f53-3002e10ce6a3"
      },
      "execution_count": null,
      "outputs": [
        {
          "output_type": "execute_result",
          "data": {
            "text/plain": [
              "           Date        Open        High         Low       Close   Adj Close  \\\n",
              "608  2020-07-07  497.309998  504.820007  490.829987  493.160004  493.160004   \n",
              "609  2020-07-08  498.579987  505.100006  493.809998  502.779999  502.779999   \n",
              "610  2020-07-09  508.399994  510.000000  495.779999  507.760010  507.760010   \n",
              "611  2020-07-10  519.729980  555.880005  511.279999  548.729980  548.729980   \n",
              "612  2020-07-13  567.979980  575.369995  520.960022  525.500000  525.500000   \n",
              "..          ...         ...         ...         ...         ...         ...   \n",
              "993  2022-01-13  537.059998  540.789978  518.260010  519.200012  519.200012   \n",
              "994  2022-01-14  517.599976  538.369995  511.880005  525.690002  525.690002   \n",
              "995  2022-01-18  520.080017  521.750000  508.679993  510.799988  510.799988   \n",
              "996  2022-01-19  515.000000  523.210022  510.510010  515.859985  515.859985   \n",
              "997  2022-01-20  517.750000  526.640015  506.929993  508.250000  508.250000   \n",
              "\n",
              "       Volume  \n",
              "608   5669900  \n",
              "609   5691700  \n",
              "610   5840500  \n",
              "611  21605600  \n",
              "612  18399000  \n",
              "..        ...  \n",
              "993   4475100  \n",
              "994   7849400  \n",
              "995   4839100  \n",
              "996   4353500  \n",
              "997  12659000  \n",
              "\n",
              "[322 rows x 7 columns]"
            ],
            "text/html": [
              "\n",
              "  <div id=\"df-1d9e7afd-b1ee-4fb4-9cef-e575cb47bba4\">\n",
              "    <div class=\"colab-df-container\">\n",
              "      <div>\n",
              "<style scoped>\n",
              "    .dataframe tbody tr th:only-of-type {\n",
              "        vertical-align: middle;\n",
              "    }\n",
              "\n",
              "    .dataframe tbody tr th {\n",
              "        vertical-align: top;\n",
              "    }\n",
              "\n",
              "    .dataframe thead th {\n",
              "        text-align: right;\n",
              "    }\n",
              "</style>\n",
              "<table border=\"1\" class=\"dataframe\">\n",
              "  <thead>\n",
              "    <tr style=\"text-align: right;\">\n",
              "      <th></th>\n",
              "      <th>Date</th>\n",
              "      <th>Open</th>\n",
              "      <th>High</th>\n",
              "      <th>Low</th>\n",
              "      <th>Close</th>\n",
              "      <th>Adj Close</th>\n",
              "      <th>Volume</th>\n",
              "    </tr>\n",
              "  </thead>\n",
              "  <tbody>\n",
              "    <tr>\n",
              "      <th>608</th>\n",
              "      <td>2020-07-07</td>\n",
              "      <td>497.309998</td>\n",
              "      <td>504.820007</td>\n",
              "      <td>490.829987</td>\n",
              "      <td>493.160004</td>\n",
              "      <td>493.160004</td>\n",
              "      <td>5669900</td>\n",
              "    </tr>\n",
              "    <tr>\n",
              "      <th>609</th>\n",
              "      <td>2020-07-08</td>\n",
              "      <td>498.579987</td>\n",
              "      <td>505.100006</td>\n",
              "      <td>493.809998</td>\n",
              "      <td>502.779999</td>\n",
              "      <td>502.779999</td>\n",
              "      <td>5691700</td>\n",
              "    </tr>\n",
              "    <tr>\n",
              "      <th>610</th>\n",
              "      <td>2020-07-09</td>\n",
              "      <td>508.399994</td>\n",
              "      <td>510.000000</td>\n",
              "      <td>495.779999</td>\n",
              "      <td>507.760010</td>\n",
              "      <td>507.760010</td>\n",
              "      <td>5840500</td>\n",
              "    </tr>\n",
              "    <tr>\n",
              "      <th>611</th>\n",
              "      <td>2020-07-10</td>\n",
              "      <td>519.729980</td>\n",
              "      <td>555.880005</td>\n",
              "      <td>511.279999</td>\n",
              "      <td>548.729980</td>\n",
              "      <td>548.729980</td>\n",
              "      <td>21605600</td>\n",
              "    </tr>\n",
              "    <tr>\n",
              "      <th>612</th>\n",
              "      <td>2020-07-13</td>\n",
              "      <td>567.979980</td>\n",
              "      <td>575.369995</td>\n",
              "      <td>520.960022</td>\n",
              "      <td>525.500000</td>\n",
              "      <td>525.500000</td>\n",
              "      <td>18399000</td>\n",
              "    </tr>\n",
              "    <tr>\n",
              "      <th>...</th>\n",
              "      <td>...</td>\n",
              "      <td>...</td>\n",
              "      <td>...</td>\n",
              "      <td>...</td>\n",
              "      <td>...</td>\n",
              "      <td>...</td>\n",
              "      <td>...</td>\n",
              "    </tr>\n",
              "    <tr>\n",
              "      <th>993</th>\n",
              "      <td>2022-01-13</td>\n",
              "      <td>537.059998</td>\n",
              "      <td>540.789978</td>\n",
              "      <td>518.260010</td>\n",
              "      <td>519.200012</td>\n",
              "      <td>519.200012</td>\n",
              "      <td>4475100</td>\n",
              "    </tr>\n",
              "    <tr>\n",
              "      <th>994</th>\n",
              "      <td>2022-01-14</td>\n",
              "      <td>517.599976</td>\n",
              "      <td>538.369995</td>\n",
              "      <td>511.880005</td>\n",
              "      <td>525.690002</td>\n",
              "      <td>525.690002</td>\n",
              "      <td>7849400</td>\n",
              "    </tr>\n",
              "    <tr>\n",
              "      <th>995</th>\n",
              "      <td>2022-01-18</td>\n",
              "      <td>520.080017</td>\n",
              "      <td>521.750000</td>\n",
              "      <td>508.679993</td>\n",
              "      <td>510.799988</td>\n",
              "      <td>510.799988</td>\n",
              "      <td>4839100</td>\n",
              "    </tr>\n",
              "    <tr>\n",
              "      <th>996</th>\n",
              "      <td>2022-01-19</td>\n",
              "      <td>515.000000</td>\n",
              "      <td>523.210022</td>\n",
              "      <td>510.510010</td>\n",
              "      <td>515.859985</td>\n",
              "      <td>515.859985</td>\n",
              "      <td>4353500</td>\n",
              "    </tr>\n",
              "    <tr>\n",
              "      <th>997</th>\n",
              "      <td>2022-01-20</td>\n",
              "      <td>517.750000</td>\n",
              "      <td>526.640015</td>\n",
              "      <td>506.929993</td>\n",
              "      <td>508.250000</td>\n",
              "      <td>508.250000</td>\n",
              "      <td>12659000</td>\n",
              "    </tr>\n",
              "  </tbody>\n",
              "</table>\n",
              "<p>322 rows × 7 columns</p>\n",
              "</div>\n",
              "      <button class=\"colab-df-convert\" onclick=\"convertToInteractive('df-1d9e7afd-b1ee-4fb4-9cef-e575cb47bba4')\"\n",
              "              title=\"Convert this dataframe to an interactive table.\"\n",
              "              style=\"display:none;\">\n",
              "        \n",
              "  <svg xmlns=\"http://www.w3.org/2000/svg\" height=\"24px\"viewBox=\"0 0 24 24\"\n",
              "       width=\"24px\">\n",
              "    <path d=\"M0 0h24v24H0V0z\" fill=\"none\"/>\n",
              "    <path d=\"M18.56 5.44l.94 2.06.94-2.06 2.06-.94-2.06-.94-.94-2.06-.94 2.06-2.06.94zm-11 1L8.5 8.5l.94-2.06 2.06-.94-2.06-.94L8.5 2.5l-.94 2.06-2.06.94zm10 10l.94 2.06.94-2.06 2.06-.94-2.06-.94-.94-2.06-.94 2.06-2.06.94z\"/><path d=\"M17.41 7.96l-1.37-1.37c-.4-.4-.92-.59-1.43-.59-.52 0-1.04.2-1.43.59L10.3 9.45l-7.72 7.72c-.78.78-.78 2.05 0 2.83L4 21.41c.39.39.9.59 1.41.59.51 0 1.02-.2 1.41-.59l7.78-7.78 2.81-2.81c.8-.78.8-2.07 0-2.86zM5.41 20L4 18.59l7.72-7.72 1.47 1.35L5.41 20z\"/>\n",
              "  </svg>\n",
              "      </button>\n",
              "      \n",
              "  <style>\n",
              "    .colab-df-container {\n",
              "      display:flex;\n",
              "      flex-wrap:wrap;\n",
              "      gap: 12px;\n",
              "    }\n",
              "\n",
              "    .colab-df-convert {\n",
              "      background-color: #E8F0FE;\n",
              "      border: none;\n",
              "      border-radius: 50%;\n",
              "      cursor: pointer;\n",
              "      display: none;\n",
              "      fill: #1967D2;\n",
              "      height: 32px;\n",
              "      padding: 0 0 0 0;\n",
              "      width: 32px;\n",
              "    }\n",
              "\n",
              "    .colab-df-convert:hover {\n",
              "      background-color: #E2EBFA;\n",
              "      box-shadow: 0px 1px 2px rgba(60, 64, 67, 0.3), 0px 1px 3px 1px rgba(60, 64, 67, 0.15);\n",
              "      fill: #174EA6;\n",
              "    }\n",
              "\n",
              "    [theme=dark] .colab-df-convert {\n",
              "      background-color: #3B4455;\n",
              "      fill: #D2E3FC;\n",
              "    }\n",
              "\n",
              "    [theme=dark] .colab-df-convert:hover {\n",
              "      background-color: #434B5C;\n",
              "      box-shadow: 0px 1px 3px 1px rgba(0, 0, 0, 0.15);\n",
              "      filter: drop-shadow(0px 1px 2px rgba(0, 0, 0, 0.3));\n",
              "      fill: #FFFFFF;\n",
              "    }\n",
              "  </style>\n",
              "\n",
              "      <script>\n",
              "        const buttonEl =\n",
              "          document.querySelector('#df-1d9e7afd-b1ee-4fb4-9cef-e575cb47bba4 button.colab-df-convert');\n",
              "        buttonEl.style.display =\n",
              "          google.colab.kernel.accessAllowed ? 'block' : 'none';\n",
              "\n",
              "        async function convertToInteractive(key) {\n",
              "          const element = document.querySelector('#df-1d9e7afd-b1ee-4fb4-9cef-e575cb47bba4');\n",
              "          const dataTable =\n",
              "            await google.colab.kernel.invokeFunction('convertToInteractive',\n",
              "                                                     [key], {});\n",
              "          if (!dataTable) return;\n",
              "\n",
              "          const docLinkHtml = 'Like what you see? Visit the ' +\n",
              "            '<a target=\"_blank\" href=https://colab.research.google.com/notebooks/data_table.ipynb>data table notebook</a>'\n",
              "            + ' to learn more about interactive tables.';\n",
              "          element.innerHTML = '';\n",
              "          dataTable['output_type'] = 'display_data';\n",
              "          await google.colab.output.renderOutput(dataTable, element);\n",
              "          const docLink = document.createElement('div');\n",
              "          docLink.innerHTML = docLinkHtml;\n",
              "          element.appendChild(docLink);\n",
              "        }\n",
              "      </script>\n",
              "    </div>\n",
              "  </div>\n",
              "  "
            ]
          },
          "metadata": {},
          "execution_count": 51
        }
      ]
    },
    {
      "cell_type": "code",
      "source": [
        "df.isnull().sum().sum()"
      ],
      "metadata": {
        "colab": {
          "base_uri": "https://localhost:8080/"
        },
        "id": "pt6vDkxU5Jj_",
        "outputId": "4baa95c3-80b4-428f-ca04-9a76f3cf1bd7"
      },
      "execution_count": null,
      "outputs": [
        {
          "output_type": "execute_result",
          "data": {
            "text/plain": [
              "0"
            ]
          },
          "metadata": {},
          "execution_count": 56
        }
      ]
    },
    {
      "cell_type": "code",
      "source": [
        "df.notnull().sum().sum()"
      ],
      "metadata": {
        "colab": {
          "base_uri": "https://localhost:8080/"
        },
        "id": "7tjMO6d95Jha",
        "outputId": "08cffd5b-f792-434d-da70-1b3d31ddd33a"
      },
      "execution_count": null,
      "outputs": [
        {
          "output_type": "execute_result",
          "data": {
            "text/plain": [
              "7063"
            ]
          },
          "metadata": {},
          "execution_count": 55
        }
      ]
    },
    {
      "cell_type": "code",
      "source": [
        "df.dropna(how='any')"
      ],
      "metadata": {
        "colab": {
          "base_uri": "https://localhost:8080/",
          "height": 424
        },
        "id": "jaR_0WA75Je6",
        "outputId": "be6e5064-53ec-4f51-8fe5-5ebc6e7a8326"
      },
      "execution_count": null,
      "outputs": [
        {
          "output_type": "execute_result",
          "data": {
            "text/plain": [
              "            Date        Open        High         Low       Close   Adj Close  \\\n",
              "0     2018-02-05  262.000000  267.899994  250.029999  254.259995  254.259995   \n",
              "1     2018-02-06  247.699997  266.700012  245.000000  265.720001  265.720001   \n",
              "2     2018-02-07  266.579987  272.450012  264.329987  264.559998  264.559998   \n",
              "3     2018-02-08  267.079987  267.619995  250.000000  250.100006  250.100006   \n",
              "4     2018-02-09  253.850006  255.800003  236.110001  249.470001  249.470001   \n",
              "...          ...         ...         ...         ...         ...         ...   \n",
              "1004  2022-01-31  401.970001  427.700012  398.200012  427.140015  427.140015   \n",
              "1005  2022-02-01  432.959991  458.480011  425.540009  457.130005  457.130005   \n",
              "1006  2022-02-02  448.250000  451.980011  426.480011  429.480011  429.480011   \n",
              "1007  2022-02-03  421.440002  429.260010  404.279999  405.600006  405.600006   \n",
              "1008  2022-02-04  407.309998  412.769989  396.640015  410.170013  410.170013   \n",
              "\n",
              "        Volume  \n",
              "0     11896100  \n",
              "1     12595800  \n",
              "2      8981500  \n",
              "3      9306700  \n",
              "4     16906900  \n",
              "...        ...  \n",
              "1004  20047500  \n",
              "1005  22542300  \n",
              "1006  14346000  \n",
              "1007   9905200  \n",
              "1008   7782400  \n",
              "\n",
              "[1009 rows x 7 columns]"
            ],
            "text/html": [
              "\n",
              "  <div id=\"df-3ab133e8-d63e-4118-b991-93ebaf8fb81d\">\n",
              "    <div class=\"colab-df-container\">\n",
              "      <div>\n",
              "<style scoped>\n",
              "    .dataframe tbody tr th:only-of-type {\n",
              "        vertical-align: middle;\n",
              "    }\n",
              "\n",
              "    .dataframe tbody tr th {\n",
              "        vertical-align: top;\n",
              "    }\n",
              "\n",
              "    .dataframe thead th {\n",
              "        text-align: right;\n",
              "    }\n",
              "</style>\n",
              "<table border=\"1\" class=\"dataframe\">\n",
              "  <thead>\n",
              "    <tr style=\"text-align: right;\">\n",
              "      <th></th>\n",
              "      <th>Date</th>\n",
              "      <th>Open</th>\n",
              "      <th>High</th>\n",
              "      <th>Low</th>\n",
              "      <th>Close</th>\n",
              "      <th>Adj Close</th>\n",
              "      <th>Volume</th>\n",
              "    </tr>\n",
              "  </thead>\n",
              "  <tbody>\n",
              "    <tr>\n",
              "      <th>0</th>\n",
              "      <td>2018-02-05</td>\n",
              "      <td>262.000000</td>\n",
              "      <td>267.899994</td>\n",
              "      <td>250.029999</td>\n",
              "      <td>254.259995</td>\n",
              "      <td>254.259995</td>\n",
              "      <td>11896100</td>\n",
              "    </tr>\n",
              "    <tr>\n",
              "      <th>1</th>\n",
              "      <td>2018-02-06</td>\n",
              "      <td>247.699997</td>\n",
              "      <td>266.700012</td>\n",
              "      <td>245.000000</td>\n",
              "      <td>265.720001</td>\n",
              "      <td>265.720001</td>\n",
              "      <td>12595800</td>\n",
              "    </tr>\n",
              "    <tr>\n",
              "      <th>2</th>\n",
              "      <td>2018-02-07</td>\n",
              "      <td>266.579987</td>\n",
              "      <td>272.450012</td>\n",
              "      <td>264.329987</td>\n",
              "      <td>264.559998</td>\n",
              "      <td>264.559998</td>\n",
              "      <td>8981500</td>\n",
              "    </tr>\n",
              "    <tr>\n",
              "      <th>3</th>\n",
              "      <td>2018-02-08</td>\n",
              "      <td>267.079987</td>\n",
              "      <td>267.619995</td>\n",
              "      <td>250.000000</td>\n",
              "      <td>250.100006</td>\n",
              "      <td>250.100006</td>\n",
              "      <td>9306700</td>\n",
              "    </tr>\n",
              "    <tr>\n",
              "      <th>4</th>\n",
              "      <td>2018-02-09</td>\n",
              "      <td>253.850006</td>\n",
              "      <td>255.800003</td>\n",
              "      <td>236.110001</td>\n",
              "      <td>249.470001</td>\n",
              "      <td>249.470001</td>\n",
              "      <td>16906900</td>\n",
              "    </tr>\n",
              "    <tr>\n",
              "      <th>...</th>\n",
              "      <td>...</td>\n",
              "      <td>...</td>\n",
              "      <td>...</td>\n",
              "      <td>...</td>\n",
              "      <td>...</td>\n",
              "      <td>...</td>\n",
              "      <td>...</td>\n",
              "    </tr>\n",
              "    <tr>\n",
              "      <th>1004</th>\n",
              "      <td>2022-01-31</td>\n",
              "      <td>401.970001</td>\n",
              "      <td>427.700012</td>\n",
              "      <td>398.200012</td>\n",
              "      <td>427.140015</td>\n",
              "      <td>427.140015</td>\n",
              "      <td>20047500</td>\n",
              "    </tr>\n",
              "    <tr>\n",
              "      <th>1005</th>\n",
              "      <td>2022-02-01</td>\n",
              "      <td>432.959991</td>\n",
              "      <td>458.480011</td>\n",
              "      <td>425.540009</td>\n",
              "      <td>457.130005</td>\n",
              "      <td>457.130005</td>\n",
              "      <td>22542300</td>\n",
              "    </tr>\n",
              "    <tr>\n",
              "      <th>1006</th>\n",
              "      <td>2022-02-02</td>\n",
              "      <td>448.250000</td>\n",
              "      <td>451.980011</td>\n",
              "      <td>426.480011</td>\n",
              "      <td>429.480011</td>\n",
              "      <td>429.480011</td>\n",
              "      <td>14346000</td>\n",
              "    </tr>\n",
              "    <tr>\n",
              "      <th>1007</th>\n",
              "      <td>2022-02-03</td>\n",
              "      <td>421.440002</td>\n",
              "      <td>429.260010</td>\n",
              "      <td>404.279999</td>\n",
              "      <td>405.600006</td>\n",
              "      <td>405.600006</td>\n",
              "      <td>9905200</td>\n",
              "    </tr>\n",
              "    <tr>\n",
              "      <th>1008</th>\n",
              "      <td>2022-02-04</td>\n",
              "      <td>407.309998</td>\n",
              "      <td>412.769989</td>\n",
              "      <td>396.640015</td>\n",
              "      <td>410.170013</td>\n",
              "      <td>410.170013</td>\n",
              "      <td>7782400</td>\n",
              "    </tr>\n",
              "  </tbody>\n",
              "</table>\n",
              "<p>1009 rows × 7 columns</p>\n",
              "</div>\n",
              "      <button class=\"colab-df-convert\" onclick=\"convertToInteractive('df-3ab133e8-d63e-4118-b991-93ebaf8fb81d')\"\n",
              "              title=\"Convert this dataframe to an interactive table.\"\n",
              "              style=\"display:none;\">\n",
              "        \n",
              "  <svg xmlns=\"http://www.w3.org/2000/svg\" height=\"24px\"viewBox=\"0 0 24 24\"\n",
              "       width=\"24px\">\n",
              "    <path d=\"M0 0h24v24H0V0z\" fill=\"none\"/>\n",
              "    <path d=\"M18.56 5.44l.94 2.06.94-2.06 2.06-.94-2.06-.94-.94-2.06-.94 2.06-2.06.94zm-11 1L8.5 8.5l.94-2.06 2.06-.94-2.06-.94L8.5 2.5l-.94 2.06-2.06.94zm10 10l.94 2.06.94-2.06 2.06-.94-2.06-.94-.94-2.06-.94 2.06-2.06.94z\"/><path d=\"M17.41 7.96l-1.37-1.37c-.4-.4-.92-.59-1.43-.59-.52 0-1.04.2-1.43.59L10.3 9.45l-7.72 7.72c-.78.78-.78 2.05 0 2.83L4 21.41c.39.39.9.59 1.41.59.51 0 1.02-.2 1.41-.59l7.78-7.78 2.81-2.81c.8-.78.8-2.07 0-2.86zM5.41 20L4 18.59l7.72-7.72 1.47 1.35L5.41 20z\"/>\n",
              "  </svg>\n",
              "      </button>\n",
              "      \n",
              "  <style>\n",
              "    .colab-df-container {\n",
              "      display:flex;\n",
              "      flex-wrap:wrap;\n",
              "      gap: 12px;\n",
              "    }\n",
              "\n",
              "    .colab-df-convert {\n",
              "      background-color: #E8F0FE;\n",
              "      border: none;\n",
              "      border-radius: 50%;\n",
              "      cursor: pointer;\n",
              "      display: none;\n",
              "      fill: #1967D2;\n",
              "      height: 32px;\n",
              "      padding: 0 0 0 0;\n",
              "      width: 32px;\n",
              "    }\n",
              "\n",
              "    .colab-df-convert:hover {\n",
              "      background-color: #E2EBFA;\n",
              "      box-shadow: 0px 1px 2px rgba(60, 64, 67, 0.3), 0px 1px 3px 1px rgba(60, 64, 67, 0.15);\n",
              "      fill: #174EA6;\n",
              "    }\n",
              "\n",
              "    [theme=dark] .colab-df-convert {\n",
              "      background-color: #3B4455;\n",
              "      fill: #D2E3FC;\n",
              "    }\n",
              "\n",
              "    [theme=dark] .colab-df-convert:hover {\n",
              "      background-color: #434B5C;\n",
              "      box-shadow: 0px 1px 3px 1px rgba(0, 0, 0, 0.15);\n",
              "      filter: drop-shadow(0px 1px 2px rgba(0, 0, 0, 0.3));\n",
              "      fill: #FFFFFF;\n",
              "    }\n",
              "  </style>\n",
              "\n",
              "      <script>\n",
              "        const buttonEl =\n",
              "          document.querySelector('#df-3ab133e8-d63e-4118-b991-93ebaf8fb81d button.colab-df-convert');\n",
              "        buttonEl.style.display =\n",
              "          google.colab.kernel.accessAllowed ? 'block' : 'none';\n",
              "\n",
              "        async function convertToInteractive(key) {\n",
              "          const element = document.querySelector('#df-3ab133e8-d63e-4118-b991-93ebaf8fb81d');\n",
              "          const dataTable =\n",
              "            await google.colab.kernel.invokeFunction('convertToInteractive',\n",
              "                                                     [key], {});\n",
              "          if (!dataTable) return;\n",
              "\n",
              "          const docLinkHtml = 'Like what you see? Visit the ' +\n",
              "            '<a target=\"_blank\" href=https://colab.research.google.com/notebooks/data_table.ipynb>data table notebook</a>'\n",
              "            + ' to learn more about interactive tables.';\n",
              "          element.innerHTML = '';\n",
              "          dataTable['output_type'] = 'display_data';\n",
              "          await google.colab.output.renderOutput(dataTable, element);\n",
              "          const docLink = document.createElement('div');\n",
              "          docLink.innerHTML = docLinkHtml;\n",
              "          element.appendChild(docLink);\n",
              "        }\n",
              "      </script>\n",
              "    </div>\n",
              "  </div>\n",
              "  "
            ]
          },
          "metadata": {},
          "execution_count": 57
        }
      ]
    },
    {
      "cell_type": "code",
      "source": [
        "df.fillna()"
      ],
      "metadata": {
        "id": "A4rs8xGHFgWc"
      },
      "execution_count": null,
      "outputs": []
    },
    {
      "cell_type": "code",
      "source": [
        "df.mean()"
      ],
      "metadata": {
        "colab": {
          "base_uri": "https://localhost:8080/"
        },
        "id": "MFUT7mMZFgTL",
        "outputId": "4687998d-f87b-4e56-9a39-7aac6442859b"
      },
      "execution_count": null,
      "outputs": [
        {
          "output_type": "stream",
          "name": "stderr",
          "text": [
            "/usr/local/lib/python3.7/dist-packages/ipykernel_launcher.py:1: FutureWarning: Dropping of nuisance columns in DataFrame reductions (with 'numeric_only=None') is deprecated; in a future version this will raise TypeError.  Select only valid columns before calling the reduction.\n",
            "  \"\"\"Entry point for launching an IPython kernel.\n"
          ]
        },
        {
          "output_type": "execute_result",
          "data": {
            "text/plain": [
              "Open         4.190597e+02\n",
              "High         4.253207e+02\n",
              "Low          4.123740e+02\n",
              "Close        4.190007e+02\n",
              "Adj Close    4.190007e+02\n",
              "Volume       7.570685e+06\n",
              "dtype: float64"
            ]
          },
          "metadata": {},
          "execution_count": 58
        }
      ]
    },
    {
      "cell_type": "code",
      "source": [
        "df.mean(1)"
      ],
      "metadata": {
        "colab": {
          "base_uri": "https://localhost:8080/"
        },
        "id": "b7JOne3lFgQs",
        "outputId": "38d9555d-2668-425f-ea79-58ae897155b7"
      },
      "execution_count": null,
      "outputs": [
        {
          "output_type": "stream",
          "name": "stderr",
          "text": [
            "/usr/local/lib/python3.7/dist-packages/ipykernel_launcher.py:1: FutureWarning: Dropping of nuisance columns in DataFrame reductions (with 'numeric_only=None') is deprecated; in a future version this will raise TypeError.  Select only valid columns before calling the reduction.\n",
            "  \"\"\"Entry point for launching an IPython kernel.\n"
          ]
        },
        {
          "output_type": "execute_result",
          "data": {
            "text/plain": [
              "0       1.982898e+06\n",
              "1       2.099515e+06\n",
              "2       1.497139e+06\n",
              "3       1.551331e+06\n",
              "4       2.818024e+06\n",
              "            ...     \n",
              "1004    3.341597e+06\n",
              "1005    3.757422e+06\n",
              "1006    2.391364e+06\n",
              "1007    1.651211e+06\n",
              "1008    1.297406e+06\n",
              "Length: 1009, dtype: float64"
            ]
          },
          "metadata": {},
          "execution_count": 59
        }
      ]
    },
    {
      "cell_type": "code",
      "source": [
        "import numpy as np\n"
      ],
      "metadata": {
        "id": "u_y6N5P0FgMV"
      },
      "execution_count": null,
      "outputs": []
    },
    {
      "cell_type": "code",
      "source": [
        "arr = np.array([1,2,3,4,5,6])"
      ],
      "metadata": {
        "id": "VAQ-z_n5FgJn"
      },
      "execution_count": null,
      "outputs": []
    },
    {
      "cell_type": "code",
      "source": [
        "arr"
      ],
      "metadata": {
        "colab": {
          "base_uri": "https://localhost:8080/"
        },
        "id": "-9iEV9sqFgHC",
        "outputId": "80bf1e3b-0a23-46e1-8038-8d40274cfa78"
      },
      "execution_count": null,
      "outputs": [
        {
          "output_type": "execute_result",
          "data": {
            "text/plain": [
              "array([1, 2, 3, 4, 5, 6])"
            ]
          },
          "metadata": {},
          "execution_count": 63
        }
      ]
    },
    {
      "cell_type": "code",
      "source": [
        "rng = pd.date_range(\"1/1/2012\", periods=100, freq=\"S\")"
      ],
      "metadata": {
        "id": "3xzv8LfeIYVR"
      },
      "execution_count": null,
      "outputs": []
    },
    {
      "cell_type": "code",
      "source": [
        "rng"
      ],
      "metadata": {
        "colab": {
          "base_uri": "https://localhost:8080/"
        },
        "id": "dfoTetfoIYTH",
        "outputId": "e6a2ce57-16fb-4c64-f711-5791c4396039"
      },
      "execution_count": null,
      "outputs": [
        {
          "output_type": "execute_result",
          "data": {
            "text/plain": [
              "DatetimeIndex(['2012-01-01 00:00:00', '2012-01-01 00:00:01',\n",
              "               '2012-01-01 00:00:02', '2012-01-01 00:00:03',\n",
              "               '2012-01-01 00:00:04', '2012-01-01 00:00:05',\n",
              "               '2012-01-01 00:00:06', '2012-01-01 00:00:07',\n",
              "               '2012-01-01 00:00:08', '2012-01-01 00:00:09',\n",
              "               '2012-01-01 00:00:10', '2012-01-01 00:00:11',\n",
              "               '2012-01-01 00:00:12', '2012-01-01 00:00:13',\n",
              "               '2012-01-01 00:00:14', '2012-01-01 00:00:15',\n",
              "               '2012-01-01 00:00:16', '2012-01-01 00:00:17',\n",
              "               '2012-01-01 00:00:18', '2012-01-01 00:00:19',\n",
              "               '2012-01-01 00:00:20', '2012-01-01 00:00:21',\n",
              "               '2012-01-01 00:00:22', '2012-01-01 00:00:23',\n",
              "               '2012-01-01 00:00:24', '2012-01-01 00:00:25',\n",
              "               '2012-01-01 00:00:26', '2012-01-01 00:00:27',\n",
              "               '2012-01-01 00:00:28', '2012-01-01 00:00:29',\n",
              "               '2012-01-01 00:00:30', '2012-01-01 00:00:31',\n",
              "               '2012-01-01 00:00:32', '2012-01-01 00:00:33',\n",
              "               '2012-01-01 00:00:34', '2012-01-01 00:00:35',\n",
              "               '2012-01-01 00:00:36', '2012-01-01 00:00:37',\n",
              "               '2012-01-01 00:00:38', '2012-01-01 00:00:39',\n",
              "               '2012-01-01 00:00:40', '2012-01-01 00:00:41',\n",
              "               '2012-01-01 00:00:42', '2012-01-01 00:00:43',\n",
              "               '2012-01-01 00:00:44', '2012-01-01 00:00:45',\n",
              "               '2012-01-01 00:00:46', '2012-01-01 00:00:47',\n",
              "               '2012-01-01 00:00:48', '2012-01-01 00:00:49',\n",
              "               '2012-01-01 00:00:50', '2012-01-01 00:00:51',\n",
              "               '2012-01-01 00:00:52', '2012-01-01 00:00:53',\n",
              "               '2012-01-01 00:00:54', '2012-01-01 00:00:55',\n",
              "               '2012-01-01 00:00:56', '2012-01-01 00:00:57',\n",
              "               '2012-01-01 00:00:58', '2012-01-01 00:00:59',\n",
              "               '2012-01-01 00:01:00', '2012-01-01 00:01:01',\n",
              "               '2012-01-01 00:01:02', '2012-01-01 00:01:03',\n",
              "               '2012-01-01 00:01:04', '2012-01-01 00:01:05',\n",
              "               '2012-01-01 00:01:06', '2012-01-01 00:01:07',\n",
              "               '2012-01-01 00:01:08', '2012-01-01 00:01:09',\n",
              "               '2012-01-01 00:01:10', '2012-01-01 00:01:11',\n",
              "               '2012-01-01 00:01:12', '2012-01-01 00:01:13',\n",
              "               '2012-01-01 00:01:14', '2012-01-01 00:01:15',\n",
              "               '2012-01-01 00:01:16', '2012-01-01 00:01:17',\n",
              "               '2012-01-01 00:01:18', '2012-01-01 00:01:19',\n",
              "               '2012-01-01 00:01:20', '2012-01-01 00:01:21',\n",
              "               '2012-01-01 00:01:22', '2012-01-01 00:01:23',\n",
              "               '2012-01-01 00:01:24', '2012-01-01 00:01:25',\n",
              "               '2012-01-01 00:01:26', '2012-01-01 00:01:27',\n",
              "               '2012-01-01 00:01:28', '2012-01-01 00:01:29',\n",
              "               '2012-01-01 00:01:30', '2012-01-01 00:01:31',\n",
              "               '2012-01-01 00:01:32', '2012-01-01 00:01:33',\n",
              "               '2012-01-01 00:01:34', '2012-01-01 00:01:35',\n",
              "               '2012-01-01 00:01:36', '2012-01-01 00:01:37',\n",
              "               '2012-01-01 00:01:38', '2012-01-01 00:01:39'],\n",
              "              dtype='datetime64[ns]', freq='S')"
            ]
          },
          "metadata": {},
          "execution_count": 65
        }
      ]
    },
    {
      "cell_type": "code",
      "source": [
        "import matplotlib.pyplot as plt\n",
        "\n",
        "plt.close(\"all\")\n",
        "\n",
        "\n"
      ],
      "metadata": {
        "id": "LHdmDnBqIYQr"
      },
      "execution_count": null,
      "outputs": []
    },
    {
      "cell_type": "code",
      "source": [
        "ts = pd.Series(np.random.randn(1000), index=pd.date_range(\"1/1/2000\", periods=1000))\n",
        "ts\n"
      ],
      "metadata": {
        "colab": {
          "base_uri": "https://localhost:8080/"
        },
        "id": "WuQLz24-eU1A",
        "outputId": "e646767c-591d-4bf3-8a09-47b22710844d"
      },
      "execution_count": null,
      "outputs": [
        {
          "output_type": "execute_result",
          "data": {
            "text/plain": [
              "2000-01-01    1.768971\n",
              "2000-01-02   -0.849075\n",
              "2000-01-03   -0.355740\n",
              "2000-01-04   -1.382630\n",
              "2000-01-05   -0.199556\n",
              "                ...   \n",
              "2002-09-22   -0.079077\n",
              "2002-09-23    0.825896\n",
              "2002-09-24   -0.680805\n",
              "2002-09-25    0.337400\n",
              "2002-09-26   -0.833605\n",
              "Freq: D, Length: 1000, dtype: float64"
            ]
          },
          "metadata": {},
          "execution_count": 69
        }
      ]
    },
    {
      "cell_type": "code",
      "source": [
        "ts = ts.cumsum()\n",
        "ts"
      ],
      "metadata": {
        "colab": {
          "base_uri": "https://localhost:8080/"
        },
        "id": "GT6ci3T3eUxh",
        "outputId": "46a0c59e-de77-464d-e13a-df81fe4e4903"
      },
      "execution_count": null,
      "outputs": [
        {
          "output_type": "execute_result",
          "data": {
            "text/plain": [
              "2000-01-01       1.768971\n",
              "2000-01-02       2.688867\n",
              "2000-01-03       3.253024\n",
              "2000-01-04       2.434550\n",
              "2000-01-05       1.416519\n",
              "                 ...     \n",
              "2002-09-22    2735.482484\n",
              "2002-09-23    2748.092993\n",
              "2002-09-24    2760.022697\n",
              "2002-09-25    2772.289801\n",
              "2002-09-26    2783.723299\n",
              "Freq: D, Length: 1000, dtype: float64"
            ]
          },
          "metadata": {},
          "execution_count": 71
        }
      ]
    },
    {
      "cell_type": "code",
      "source": [
        "ts.plot()"
      ],
      "metadata": {
        "colab": {
          "base_uri": "https://localhost:8080/",
          "height": 296
        },
        "id": "fHSPzrYCeULj",
        "outputId": "aa31a312-e3cc-4fb0-b2d6-e3ed11501802"
      },
      "execution_count": null,
      "outputs": [
        {
          "output_type": "execute_result",
          "data": {
            "text/plain": [
              "<matplotlib.axes._subplots.AxesSubplot at 0x7f0bd55e9250>"
            ]
          },
          "metadata": {},
          "execution_count": 72
        },
        {
          "output_type": "display_data",
          "data": {
            "text/plain": [
              "<Figure size 432x288 with 1 Axes>"
            ],
            "image/png": "[encoded data removed]"
          },
          "metadata": {
            "needs_background": "light"
          }
        }
      ]
    },
    {
      "cell_type": "code",
      "source": [
        "plt.show();"
      ],
      "metadata": {
        "id": "lk8PstFRIYOV"
      },
      "execution_count": null,
      "outputs": []
    },
    {
      "cell_type": "code",
      "source": [
        "df1 = pd.DataFrame(\n",
        "    np.random.randn(1000, 4), index=ts.index, columns=[\"A\", \"B\", \"C\", \"D\"]\n",
        ")"
      ],
      "metadata": {
        "id": "XpQXDrJVIYL2"
      },
      "execution_count": null,
      "outputs": []
    },
    {
      "cell_type": "code",
      "source": [
        "df1"
      ],
      "metadata": {
        "colab": {
          "base_uri": "https://localhost:8080/",
          "height": 424
        },
        "id": "Xc7Y5zAwIYKR",
        "outputId": "36be7090-49f7-4ea5-b7dc-bb9f6117e5b9"
      },
      "execution_count": null,
      "outputs": [
        {
          "output_type": "execute_result",
          "data": {
            "text/plain": [
              "                   A         B         C         D\n",
              "2000-01-01 -2.424425 -1.817395  0.041103 -0.561722\n",
              "2000-01-02 -1.497545  1.053690 -1.547983 -0.684706\n",
              "2000-01-03  2.554453  0.059246 -0.818541 -0.770942\n",
              "2000-01-04  0.459165 -1.540657  0.772488  2.013599\n",
              "2000-01-05 -0.128760 -0.004992 -1.206120 -0.968531\n",
              "...              ...       ...       ...       ...\n",
              "2002-09-22  1.210455 -2.343797 -1.479134 -0.863453\n",
              "2002-09-23 -0.777455 -0.579988  0.876156  2.150650\n",
              "2002-09-24  1.303304 -1.368297  0.940844  1.536631\n",
              "2002-09-25  0.078487 -0.741530 -2.107056 -1.377925\n",
              "2002-09-26 -0.925517 -0.460597 -0.979746  0.870101\n",
              "\n",
              "[1000 rows x 4 columns]"
            ],
            "text/html": [
              "\n",
              "  <div id=\"df-6248c03e-39f0-421e-adf1-f234222aaa2a\">\n",
              "    <div class=\"colab-df-container\">\n",
              "      <div>\n",
              "<style scoped>\n",
              "    .dataframe tbody tr th:only-of-type {\n",
              "        vertical-align: middle;\n",
              "    }\n",
              "\n",
              "    .dataframe tbody tr th {\n",
              "        vertical-align: top;\n",
              "    }\n",
              "\n",
              "    .dataframe thead th {\n",
              "        text-align: right;\n",
              "    }\n",
              "</style>\n",
              "<table border=\"1\" class=\"dataframe\">\n",
              "  <thead>\n",
              "    <tr style=\"text-align: right;\">\n",
              "      <th></th>\n",
              "      <th>A</th>\n",
              "      <th>B</th>\n",
              "      <th>C</th>\n",
              "      <th>D</th>\n",
              "    </tr>\n",
              "  </thead>\n",
              "  <tbody>\n",
              "    <tr>\n",
              "      <th>2000-01-01</th>\n",
              "      <td>-2.424425</td>\n",
              "      <td>-1.817395</td>\n",
              "      <td>0.041103</td>\n",
              "      <td>-0.561722</td>\n",
              "    </tr>\n",
              "    <tr>\n",
              "      <th>2000-01-02</th>\n",
              "      <td>-1.497545</td>\n",
              "      <td>1.053690</td>\n",
              "      <td>-1.547983</td>\n",
              "      <td>-0.684706</td>\n",
              "    </tr>\n",
              "    <tr>\n",
              "      <th>2000-01-03</th>\n",
              "      <td>2.554453</td>\n",
              "      <td>0.059246</td>\n",
              "      <td>-0.818541</td>\n",
              "      <td>-0.770942</td>\n",
              "    </tr>\n",
              "    <tr>\n",
              "      <th>2000-01-04</th>\n",
              "      <td>0.459165</td>\n",
              "      <td>-1.540657</td>\n",
              "      <td>0.772488</td>\n",
              "      <td>2.013599</td>\n",
              "    </tr>\n",
              "    <tr>\n",
              "      <th>2000-01-05</th>\n",
              "      <td>-0.128760</td>\n",
              "      <td>-0.004992</td>\n",
              "      <td>-1.206120</td>\n",
              "      <td>-0.968531</td>\n",
              "    </tr>\n",
              "    <tr>\n",
              "      <th>...</th>\n",
              "      <td>...</td>\n",
              "      <td>...</td>\n",
              "      <td>...</td>\n",
              "      <td>...</td>\n",
              "    </tr>\n",
              "    <tr>\n",
              "      <th>2002-09-22</th>\n",
              "      <td>1.210455</td>\n",
              "      <td>-2.343797</td>\n",
              "      <td>-1.479134</td>\n",
              "      <td>-0.863453</td>\n",
              "    </tr>\n",
              "    <tr>\n",
              "      <th>2002-09-23</th>\n",
              "      <td>-0.777455</td>\n",
              "      <td>-0.579988</td>\n",
              "      <td>0.876156</td>\n",
              "      <td>2.150650</td>\n",
              "    </tr>\n",
              "    <tr>\n",
              "      <th>2002-09-24</th>\n",
              "      <td>1.303304</td>\n",
              "      <td>-1.368297</td>\n",
              "      <td>0.940844</td>\n",
              "      <td>1.536631</td>\n",
              "    </tr>\n",
              "    <tr>\n",
              "      <th>2002-09-25</th>\n",
              "      <td>0.078487</td>\n",
              "      <td>-0.741530</td>\n",
              "      <td>-2.107056</td>\n",
              "      <td>-1.377925</td>\n",
              "    </tr>\n",
              "    <tr>\n",
              "      <th>2002-09-26</th>\n",
              "      <td>-0.925517</td>\n",
              "      <td>-0.460597</td>\n",
              "      <td>-0.979746</td>\n",
              "      <td>0.870101</td>\n",
              "    </tr>\n",
              "  </tbody>\n",
              "</table>\n",
              "<p>1000 rows × 4 columns</p>\n",
              "</div>\n",
              "      <button class=\"colab-df-convert\" onclick=\"convertToInteractive('df-6248c03e-39f0-421e-adf1-f234222aaa2a')\"\n",
              "              title=\"Convert this dataframe to an interactive table.\"\n",
              "              style=\"display:none;\">\n",
              "        \n",
              "  <svg xmlns=\"http://www.w3.org/2000/svg\" height=\"24px\"viewBox=\"0 0 24 24\"\n",
              "       width=\"24px\">\n",
              "    <path d=\"M0 0h24v24H0V0z\" fill=\"none\"/>\n",
              "    <path d=\"M18.56 5.44l.94 2.06.94-2.06 2.06-.94-2.06-.94-.94-2.06-.94 2.06-2.06.94zm-11 1L8.5 8.5l.94-2.06 2.06-.94-2.06-.94L8.5 2.5l-.94 2.06-2.06.94zm10 10l.94 2.06.94-2.06 2.06-.94-2.06-.94-.94-2.06-.94 2.06-2.06.94z\"/><path d=\"M17.41 7.96l-1.37-1.37c-.4-.4-.92-.59-1.43-.59-.52 0-1.04.2-1.43.59L10.3 9.45l-7.72 7.72c-.78.78-.78 2.05 0 2.83L4 21.41c.39.39.9.59 1.41.59.51 0 1.02-.2 1.41-.59l7.78-7.78 2.81-2.81c.8-.78.8-2.07 0-2.86zM5.41 20L4 18.59l7.72-7.72 1.47 1.35L5.41 20z\"/>\n",
              "  </svg>\n",
              "      </button>\n",
              "      \n",
              "  <style>\n",
              "    .colab-df-container {\n",
              "      display:flex;\n",
              "      flex-wrap:wrap;\n",
              "      gap: 12px;\n",
              "    }\n",
              "\n",
              "    .colab-df-convert {\n",
              "      background-color: #E8F0FE;\n",
              "      border: none;\n",
              "      border-radius: 50%;\n",
              "      cursor: pointer;\n",
              "      display: none;\n",
              "      fill: #1967D2;\n",
              "      height: 32px;\n",
              "      padding: 0 0 0 0;\n",
              "      width: 32px;\n",
              "    }\n",
              "\n",
              "    .colab-df-convert:hover {\n",
              "      background-color: #E2EBFA;\n",
              "      box-shadow: 0px 1px 2px rgba(60, 64, 67, 0.3), 0px 1px 3px 1px rgba(60, 64, 67, 0.15);\n",
              "      fill: #174EA6;\n",
              "    }\n",
              "\n",
              "    [theme=dark] .colab-df-convert {\n",
              "      background-color: #3B4455;\n",
              "      fill: #D2E3FC;\n",
              "    }\n",
              "\n",
              "    [theme=dark] .colab-df-convert:hover {\n",
              "      background-color: #434B5C;\n",
              "      box-shadow: 0px 1px 3px 1px rgba(0, 0, 0, 0.15);\n",
              "      filter: drop-shadow(0px 1px 2px rgba(0, 0, 0, 0.3));\n",
              "      fill: #FFFFFF;\n",
              "    }\n",
              "  </style>\n",
              "\n",
              "      <script>\n",
              "        const buttonEl =\n",
              "          document.querySelector('#df-6248c03e-39f0-421e-adf1-f234222aaa2a button.colab-df-convert');\n",
              "        buttonEl.style.display =\n",
              "          google.colab.kernel.accessAllowed ? 'block' : 'none';\n",
              "\n",
              "        async function convertToInteractive(key) {\n",
              "          const element = document.querySelector('#df-6248c03e-39f0-421e-adf1-f234222aaa2a');\n",
              "          const dataTable =\n",
              "            await google.colab.kernel.invokeFunction('convertToInteractive',\n",
              "                                                     [key], {});\n",
              "          if (!dataTable) return;\n",
              "\n",
              "          const docLinkHtml = 'Like what you see? Visit the ' +\n",
              "            '<a target=\"_blank\" href=https://colab.research.google.com/notebooks/data_table.ipynb>data table notebook</a>'\n",
              "            + ' to learn more about interactive tables.';\n",
              "          element.innerHTML = '';\n",
              "          dataTable['output_type'] = 'display_data';\n",
              "          await google.colab.output.renderOutput(dataTable, element);\n",
              "          const docLink = document.createElement('div');\n",
              "          docLink.innerHTML = docLinkHtml;\n",
              "          element.appendChild(docLink);\n",
              "        }\n",
              "      </script>\n",
              "    </div>\n",
              "  </div>\n",
              "  "
            ]
          },
          "metadata": {},
          "execution_count": 76
        }
      ]
    },
    {
      "cell_type": "code",
      "source": [
        "df1 = df1.cumsum()"
      ],
      "metadata": {
        "id": "bUC-wJuKIYHp"
      },
      "execution_count": null,
      "outputs": []
    },
    {
      "cell_type": "code",
      "source": [
        "df1"
      ],
      "metadata": {
        "colab": {
          "base_uri": "https://localhost:8080/",
          "height": 424
        },
        "id": "H8xjTIZnIYEt",
        "outputId": "3589c500-0819-4835-89cc-a6a5145106bc"
      },
      "execution_count": null,
      "outputs": [
        {
          "output_type": "execute_result",
          "data": {
            "text/plain": [
              "                   A          B          C          D\n",
              "2000-01-01 -2.424425  -1.817395   0.041103  -0.561722\n",
              "2000-01-02 -3.921969  -0.763705  -1.506880  -1.246428\n",
              "2000-01-03 -1.367516  -0.704459  -2.325422  -2.017370\n",
              "2000-01-04 -0.908351  -2.245116  -1.552934  -0.003771\n",
              "2000-01-05 -1.037111  -2.250107  -2.759054  -0.972301\n",
              "...              ...        ...        ...        ...\n",
              "2002-09-22  0.597507  35.318506 -22.101782  58.285987\n",
              "2002-09-23 -0.179948  34.738518 -21.225627  60.436637\n",
              "2002-09-24  1.123356  33.370221 -20.284783  61.973268\n",
              "2002-09-25  1.201843  32.628691 -22.391838  60.595343\n",
              "2002-09-26  0.276326  32.168094 -23.371585  61.465444\n",
              "\n",
              "[1000 rows x 4 columns]"
            ],
            "text/html": [
              "\n",
              "  <div id=\"df-ff738824-cb1c-4aad-bd06-54cf4d82c16d\">\n",
              "    <div class=\"colab-df-container\">\n",
              "      <div>\n",
              "<style scoped>\n",
              "    .dataframe tbody tr th:only-of-type {\n",
              "        vertical-align: middle;\n",
              "    }\n",
              "\n",
              "    .dataframe tbody tr th {\n",
              "        vertical-align: top;\n",
              "    }\n",
              "\n",
              "    .dataframe thead th {\n",
              "        text-align: right;\n",
              "    }\n",
              "</style>\n",
              "<table border=\"1\" class=\"dataframe\">\n",
              "  <thead>\n",
              "    <tr style=\"text-align: right;\">\n",
              "      <th></th>\n",
              "      <th>A</th>\n",
              "      <th>B</th>\n",
              "      <th>C</th>\n",
              "      <th>D</th>\n",
              "    </tr>\n",
              "  </thead>\n",
              "  <tbody>\n",
              "    <tr>\n",
              "      <th>2000-01-01</th>\n",
              "      <td>-2.424425</td>\n",
              "      <td>-1.817395</td>\n",
              "      <td>0.041103</td>\n",
              "      <td>-0.561722</td>\n",
              "    </tr>\n",
              "    <tr>\n",
              "      <th>2000-01-02</th>\n",
              "      <td>-3.921969</td>\n",
              "      <td>-0.763705</td>\n",
              "      <td>-1.506880</td>\n",
              "      <td>-1.246428</td>\n",
              "    </tr>\n",
              "    <tr>\n",
              "      <th>2000-01-03</th>\n",
              "      <td>-1.367516</td>\n",
              "      <td>-0.704459</td>\n",
              "      <td>-2.325422</td>\n",
              "      <td>-2.017370</td>\n",
              "    </tr>\n",
              "    <tr>\n",
              "      <th>2000-01-04</th>\n",
              "      <td>-0.908351</td>\n",
              "      <td>-2.245116</td>\n",
              "      <td>-1.552934</td>\n",
              "      <td>-0.003771</td>\n",
              "    </tr>\n",
              "    <tr>\n",
              "      <th>2000-01-05</th>\n",
              "      <td>-1.037111</td>\n",
              "      <td>-2.250107</td>\n",
              "      <td>-2.759054</td>\n",
              "      <td>-0.972301</td>\n",
              "    </tr>\n",
              "    <tr>\n",
              "      <th>...</th>\n",
              "      <td>...</td>\n",
              "      <td>...</td>\n",
              "      <td>...</td>\n",
              "      <td>...</td>\n",
              "    </tr>\n",
              "    <tr>\n",
              "      <th>2002-09-22</th>\n",
              "      <td>0.597507</td>\n",
              "      <td>35.318506</td>\n",
              "      <td>-22.101782</td>\n",
              "      <td>58.285987</td>\n",
              "    </tr>\n",
              "    <tr>\n",
              "      <th>2002-09-23</th>\n",
              "      <td>-0.179948</td>\n",
              "      <td>34.738518</td>\n",
              "      <td>-21.225627</td>\n",
              "      <td>60.436637</td>\n",
              "    </tr>\n",
              "    <tr>\n",
              "      <th>2002-09-24</th>\n",
              "      <td>1.123356</td>\n",
              "      <td>33.370221</td>\n",
              "      <td>-20.284783</td>\n",
              "      <td>61.973268</td>\n",
              "    </tr>\n",
              "    <tr>\n",
              "      <th>2002-09-25</th>\n",
              "      <td>1.201843</td>\n",
              "      <td>32.628691</td>\n",
              "      <td>-22.391838</td>\n",
              "      <td>60.595343</td>\n",
              "    </tr>\n",
              "    <tr>\n",
              "      <th>2002-09-26</th>\n",
              "      <td>0.276326</td>\n",
              "      <td>32.168094</td>\n",
              "      <td>-23.371585</td>\n",
              "      <td>61.465444</td>\n",
              "    </tr>\n",
              "  </tbody>\n",
              "</table>\n",
              "<p>1000 rows × 4 columns</p>\n",
              "</div>\n",
              "      <button class=\"colab-df-convert\" onclick=\"convertToInteractive('df-ff738824-cb1c-4aad-bd06-54cf4d82c16d')\"\n",
              "              title=\"Convert this dataframe to an interactive table.\"\n",
              "              style=\"display:none;\">\n",
              "        \n",
              "  <svg xmlns=\"http://www.w3.org/2000/svg\" height=\"24px\"viewBox=\"0 0 24 24\"\n",
              "       width=\"24px\">\n",
              "    <path d=\"M0 0h24v24H0V0z\" fill=\"none\"/>\n",
              "    <path d=\"M18.56 5.44l.94 2.06.94-2.06 2.06-.94-2.06-.94-.94-2.06-.94 2.06-2.06.94zm-11 1L8.5 8.5l.94-2.06 2.06-.94-2.06-.94L8.5 2.5l-.94 2.06-2.06.94zm10 10l.94 2.06.94-2.06 2.06-.94-2.06-.94-.94-2.06-.94 2.06-2.06.94z\"/><path d=\"M17.41 7.96l-1.37-1.37c-.4-.4-.92-.59-1.43-.59-.52 0-1.04.2-1.43.59L10.3 9.45l-7.72 7.72c-.78.78-.78 2.05 0 2.83L4 21.41c.39.39.9.59 1.41.59.51 0 1.02-.2 1.41-.59l7.78-7.78 2.81-2.81c.8-.78.8-2.07 0-2.86zM5.41 20L4 18.59l7.72-7.72 1.47 1.35L5.41 20z\"/>\n",
              "  </svg>\n",
              "      </button>\n",
              "      \n",
              "  <style>\n",
              "    .colab-df-container {\n",
              "      display:flex;\n",
              "      flex-wrap:wrap;\n",
              "      gap: 12px;\n",
              "    }\n",
              "\n",
              "    .colab-df-convert {\n",
              "      background-color: #E8F0FE;\n",
              "      border: none;\n",
              "      border-radius: 50%;\n",
              "      cursor: pointer;\n",
              "      display: none;\n",
              "      fill: #1967D2;\n",
              "      height: 32px;\n",
              "      padding: 0 0 0 0;\n",
              "      width: 32px;\n",
              "    }\n",
              "\n",
              "    .colab-df-convert:hover {\n",
              "      background-color: #E2EBFA;\n",
              "      box-shadow: 0px 1px 2px rgba(60, 64, 67, 0.3), 0px 1px 3px 1px rgba(60, 64, 67, 0.15);\n",
              "      fill: #174EA6;\n",
              "    }\n",
              "\n",
              "    [theme=dark] .colab-df-convert {\n",
              "      background-color: #3B4455;\n",
              "      fill: #D2E3FC;\n",
              "    }\n",
              "\n",
              "    [theme=dark] .colab-df-convert:hover {\n",
              "      background-color: #434B5C;\n",
              "      box-shadow: 0px 1px 3px 1px rgba(0, 0, 0, 0.15);\n",
              "      filter: drop-shadow(0px 1px 2px rgba(0, 0, 0, 0.3));\n",
              "      fill: #FFFFFF;\n",
              "    }\n",
              "  </style>\n",
              "\n",
              "      <script>\n",
              "        const buttonEl =\n",
              "          document.querySelector('#df-ff738824-cb1c-4aad-bd06-54cf4d82c16d button.colab-df-convert');\n",
              "        buttonEl.style.display =\n",
              "          google.colab.kernel.accessAllowed ? 'block' : 'none';\n",
              "\n",
              "        async function convertToInteractive(key) {\n",
              "          const element = document.querySelector('#df-ff738824-cb1c-4aad-bd06-54cf4d82c16d');\n",
              "          const dataTable =\n",
              "            await google.colab.kernel.invokeFunction('convertToInteractive',\n",
              "                                                     [key], {});\n",
              "          if (!dataTable) return;\n",
              "\n",
              "          const docLinkHtml = 'Like what you see? Visit the ' +\n",
              "            '<a target=\"_blank\" href=https://colab.research.google.com/notebooks/data_table.ipynb>data table notebook</a>'\n",
              "            + ' to learn more about interactive tables.';\n",
              "          element.innerHTML = '';\n",
              "          dataTable['output_type'] = 'display_data';\n",
              "          await google.colab.output.renderOutput(dataTable, element);\n",
              "          const docLink = document.createElement('div');\n",
              "          docLink.innerHTML = docLinkHtml;\n",
              "          element.appendChild(docLink);\n",
              "        }\n",
              "      </script>\n",
              "    </div>\n",
              "  </div>\n",
              "  "
            ]
          },
          "metadata": {},
          "execution_count": 78
        }
      ]
    },
    {
      "cell_type": "code",
      "source": [
        "plt.figure();"
      ],
      "metadata": {
        "colab": {
          "base_uri": "https://localhost:8080/",
          "height": 34
        },
        "id": "QWznl5ZAIYCQ",
        "outputId": "5c496d3e-0e3f-42a1-8e72-d29f14b82b23"
      },
      "execution_count": null,
      "outputs": [
        {
          "output_type": "display_data",
          "data": {
            "text/plain": [
              "<Figure size 432x288 with 0 Axes>"
            ]
          },
          "metadata": {}
        }
      ]
    },
    {
      "cell_type": "code",
      "source": [
        "df1.plot();"
      ],
      "metadata": {
        "colab": {
          "base_uri": "https://localhost:8080/",
          "height": 277
        },
        "id": "X1OsMiwLIX_-",
        "outputId": "cef63adb-9335-49d7-a59f-4b3ed3c891ec"
      },
      "execution_count": null,
      "outputs": [
        {
          "output_type": "display_data",
          "data": {
            "text/plain": [
              "<Figure size 432x288 with 1 Axes>"
            ],
            "image/png": "[encoded data removed]"
          },
          "metadata": {
            "needs_background": "light"
          }
        }
      ]
    },
    {
      "cell_type": "code",
      "source": [
        "import numpy as np\n",
        "\n",
        "print(np.__version__)"
      ],
      "metadata": {
        "colab": {
          "base_uri": "https://localhost:8080/"
        },
        "id": "TffllmC7IX9X",
        "outputId": "2fa405d6-de57-496e-90ea-bdb0c7611962"
      },
      "execution_count": null,
      "outputs": [
        {
          "output_type": "stream",
          "name": "stdout",
          "text": [
            "1.21.6\n"
          ]
        }
      ]
    },
    {
      "cell_type": "code",
      "source": [
        "import numpy as np\n",
        "\n",
        "arr = np.array(42)\n",
        "\n",
        "print(arr)"
      ],
      "metadata": {
        "colab": {
          "base_uri": "https://localhost:8080/"
        },
        "id": "itrJSdJkkdex",
        "outputId": "9dff4cec-ec06-48ce-eacb-411fa54fee7c"
      },
      "execution_count": null,
      "outputs": [
        {
          "output_type": "stream",
          "name": "stdout",
          "text": [
            "42\n"
          ]
        }
      ]
    },
    {
      "cell_type": "code",
      "source": [
        "arr2 = np.array([[1,2,3],[4,5,6]])"
      ],
      "metadata": {
        "id": "6U7oVXwzkdbW"
      },
      "execution_count": null,
      "outputs": []
    },
    {
      "cell_type": "code",
      "source": [
        "arr2"
      ],
      "metadata": {
        "colab": {
          "base_uri": "https://localhost:8080/"
        },
        "id": "kFhuZbz6kdYo",
        "outputId": "9027472c-7621-42ce-91bc-a9b22005ffc4"
      },
      "execution_count": null,
      "outputs": [
        {
          "output_type": "execute_result",
          "data": {
            "text/plain": [
              "array([[1, 2, 3],\n",
              "       [4, 5, 6]])"
            ]
          },
          "metadata": {},
          "execution_count": 85
        }
      ]
    },
    {
      "cell_type": "code",
      "source": [
        "arr3 = np.array([[[1, 2, 3], [4, 5, 6]], [[1, 2, 3], [4, 5, 6]]])"
      ],
      "metadata": {
        "id": "-M302yCWkdWY"
      },
      "execution_count": null,
      "outputs": []
    },
    {
      "cell_type": "code",
      "source": [
        "arr3 = np.array([[[1,2,3],[4,5,6]],\n",
        "                   [[7,8,9] ,[10,11,12]]])"
      ],
      "metadata": {
        "id": "Hh7XnZirkdT2"
      },
      "execution_count": null,
      "outputs": []
    },
    {
      "cell_type": "code",
      "source": [
        "arr3.ndim"
      ],
      "metadata": {
        "colab": {
          "base_uri": "https://localhost:8080/"
        },
        "id": "V2ltk1TAkdRZ",
        "outputId": "6779ec73-e287-4750-dfed-3a0d092f11fe"
      },
      "execution_count": null,
      "outputs": [
        {
          "output_type": "execute_result",
          "data": {
            "text/plain": [
              "3"
            ]
          },
          "metadata": {},
          "execution_count": 88
        }
      ]
    },
    {
      "cell_type": "code",
      "source": [
        "arr2.ndim"
      ],
      "metadata": {
        "colab": {
          "base_uri": "https://localhost:8080/"
        },
        "id": "Ux3dX0DfkdPW",
        "outputId": "8639e77a-52c1-4eba-e0bc-112a9d80f387"
      },
      "execution_count": null,
      "outputs": [
        {
          "output_type": "execute_result",
          "data": {
            "text/plain": [
              "2"
            ]
          },
          "metadata": {},
          "execution_count": 90
        }
      ]
    },
    {
      "cell_type": "code",
      "source": [
        "arr2[0]"
      ],
      "metadata": {
        "colab": {
          "base_uri": "https://localhost:8080/"
        },
        "id": "e1m8O1YdkdM1",
        "outputId": "30db9038-dcd2-4e5e-ac5b-636f016db4d2"
      },
      "execution_count": null,
      "outputs": [
        {
          "output_type": "execute_result",
          "data": {
            "text/plain": [
              "array([1, 2, 3])"
            ]
          },
          "metadata": {},
          "execution_count": 91
        }
      ]
    },
    {
      "cell_type": "code",
      "source": [
        "arr3[0]"
      ],
      "metadata": {
        "colab": {
          "base_uri": "https://localhost:8080/"
        },
        "id": "eM9jlrqykdKk",
        "outputId": "d3838604-056b-4708-8375-bf67e95045bd"
      },
      "execution_count": null,
      "outputs": [
        {
          "output_type": "execute_result",
          "data": {
            "text/plain": [
              "array([[1, 2, 3],\n",
              "       [4, 5, 6]])"
            ]
          },
          "metadata": {},
          "execution_count": 92
        }
      ]
    },
    {
      "cell_type": "code",
      "source": [
        "ag = arr2 +arr3"
      ],
      "metadata": {
        "id": "rI6aHHJjkdIJ"
      },
      "execution_count": null,
      "outputs": []
    },
    {
      "cell_type": "code",
      "source": [
        "ag"
      ],
      "metadata": {
        "colab": {
          "base_uri": "https://localhost:8080/"
        },
        "id": "rYStVo0SkdFt",
        "outputId": "7f3988d8-5eb2-426f-ce17-0737b1fccfdc"
      },
      "execution_count": null,
      "outputs": [
        {
          "output_type": "execute_result",
          "data": {
            "text/plain": [
              "array([[[ 2,  4,  6],\n",
              "        [ 8, 10, 12]],\n",
              "\n",
              "       [[ 8, 10, 12],\n",
              "        [14, 16, 18]]])"
            ]
          },
          "metadata": {},
          "execution_count": 94
        }
      ]
    },
    {
      "cell_type": "code",
      "source": [
        "arr2[:]"
      ],
      "metadata": {
        "colab": {
          "base_uri": "https://localhost:8080/"
        },
        "id": "9HICm9XMkdDH",
        "outputId": "cd40c43d-f3da-42cf-8224-5d3f56d898b2"
      },
      "execution_count": null,
      "outputs": [
        {
          "output_type": "execute_result",
          "data": {
            "text/plain": [
              "array([[1, 2, 3],\n",
              "       [4, 5, 6]])"
            ]
          },
          "metadata": {},
          "execution_count": 98
        }
      ]
    },
    {
      "cell_type": "code",
      "source": [
        "print(np.__version__)"
      ],
      "metadata": {
        "colab": {
          "base_uri": "https://localhost:8080/"
        },
        "id": "BIvUIBuynYd9",
        "outputId": "e1f5c442-5140-4d49-82dd-c06e0e5ea7ee"
      },
      "execution_count": null,
      "outputs": [
        {
          "output_type": "stream",
          "name": "stdout",
          "text": [
            "1.21.6\n"
          ]
        }
      ]
    },
    {
      "cell_type": "code",
      "source": [
        "array = np.array([1,2,3,4,5,6])"
      ],
      "metadata": {
        "id": "ebSPw2xMnYcD"
      },
      "execution_count": null,
      "outputs": []
    },
    {
      "cell_type": "code",
      "source": [
        "ap = array.copy()\n",
        "array[0] =42\n",
        "ap"
      ],
      "metadata": {
        "colab": {
          "base_uri": "https://localhost:8080/"
        },
        "id": "DlfeTC-inYaW",
        "outputId": "5d267820-c35e-4f37-c51d-288c6a5dcdc8"
      },
      "execution_count": null,
      "outputs": [
        {
          "output_type": "execute_result",
          "data": {
            "text/plain": [
              "array([1, 2, 3, 4, 5, 6])"
            ]
          },
          "metadata": {},
          "execution_count": 101
        }
      ]
    },
    {
      "cell_type": "code",
      "source": [
        "array"
      ],
      "metadata": {
        "colab": {
          "base_uri": "https://localhost:8080/"
        },
        "id": "gbLermuxnYWp",
        "outputId": "a360d7b7-c582-495d-8575-c78d074fada2"
      },
      "execution_count": null,
      "outputs": [
        {
          "output_type": "execute_result",
          "data": {
            "text/plain": [
              "array([42,  2,  3,  4,  5,  6])"
            ]
          },
          "metadata": {},
          "execution_count": 102
        }
      ]
    },
    {
      "cell_type": "code",
      "source": [
        "x = array.view()\n",
        "x"
      ],
      "metadata": {
        "colab": {
          "base_uri": "https://localhost:8080/"
        },
        "id": "F1Z2sLqynYTT",
        "outputId": "4dde9c1f-95ba-4fca-e974-02489594f83e"
      },
      "execution_count": null,
      "outputs": [
        {
          "output_type": "execute_result",
          "data": {
            "text/plain": [
              "array([42,  2,  3,  4,  5,  6])"
            ]
          },
          "metadata": {},
          "execution_count": 103
        }
      ]
    },
    {
      "cell_type": "code",
      "source": [
        "array[0] =4"
      ],
      "metadata": {
        "id": "RjRcvbIdnYQ9"
      },
      "execution_count": null,
      "outputs": []
    },
    {
      "cell_type": "code",
      "source": [
        "x"
      ],
      "metadata": {
        "colab": {
          "base_uri": "https://localhost:8080/"
        },
        "id": "Im573w6bnYOq",
        "outputId": "450c4b1a-fe11-47e6-a201-f15f7536747c"
      },
      "execution_count": null,
      "outputs": [
        {
          "output_type": "execute_result",
          "data": {
            "text/plain": [
              "array([4, 2, 3, 4, 5, 6])"
            ]
          },
          "metadata": {},
          "execution_count": 105
        }
      ]
    },
    {
      "cell_type": "code",
      "source": [
        "arr = np.array([1, 2, 3, 4], ndmin=5)"
      ],
      "metadata": {
        "id": "PqbBe_zqnYMI"
      },
      "execution_count": null,
      "outputs": []
    },
    {
      "cell_type": "code",
      "source": [
        "arr.shape"
      ],
      "metadata": {
        "colab": {
          "base_uri": "https://localhost:8080/"
        },
        "id": "Wh42FoEunYJ3",
        "outputId": "a554ddaf-dce1-43b6-baec-d5eba4abb84d"
      },
      "execution_count": null,
      "outputs": [
        {
          "output_type": "execute_result",
          "data": {
            "text/plain": [
              "(1, 1, 1, 1, 4)"
            ]
          },
          "metadata": {},
          "execution_count": 108
        }
      ]
    },
    {
      "cell_type": "code",
      "source": [
        "arr = np.array([1, 2, 3, 4,5,6,7,8,9,10,11,12,13,14,15,16])\n",
        "newa = arr.reshape(4, 3)\n",
        "newa\n"
      ],
      "metadata": {
        "colab": {
          "base_uri": "https://localhost:8080/",
          "height": 200
        },
        "id": "pk0hBvU7nYHG",
        "outputId": "400d456b-dc53-4bd4-e6d8-0415bf98900d"
      },
      "execution_count": null,
      "outputs": [
        {
          "output_type": "error",
          "ename": "ValueError",
          "evalue": "ignored",
          "traceback": [
            "\u001b[0;31m---------------------------------------------------------------------------\u001b[0m",
            "\u001b[0;31mValueError\u001b[0m                                Traceback (most recent call last)",
            "\u001b[0;32m<ipython-input-114-12fb964edfb7>\u001b[0m in \u001b[0;36m<module>\u001b[0;34m()\u001b[0m\n\u001b[1;32m      1\u001b[0m \u001b[0marr\u001b[0m \u001b[0;34m=\u001b[0m \u001b[0mnp\u001b[0m\u001b[0;34m.\u001b[0m\u001b[0marray\u001b[0m\u001b[0;34m(\u001b[0m\u001b[0;34m[\u001b[0m\u001b[0;36m1\u001b[0m\u001b[0;34m,\u001b[0m \u001b[0;36m2\u001b[0m\u001b[0;34m,\u001b[0m \u001b[0;36m3\u001b[0m\u001b[0;34m,\u001b[0m \u001b[0;36m4\u001b[0m\u001b[0;34m,\u001b[0m\u001b[0;36m5\u001b[0m\u001b[0;34m,\u001b[0m\u001b[0;36m6\u001b[0m\u001b[0;34m,\u001b[0m\u001b[0;36m7\u001b[0m\u001b[0;34m,\u001b[0m\u001b[0;36m8\u001b[0m\u001b[0;34m,\u001b[0m\u001b[0;36m9\u001b[0m\u001b[0;34m,\u001b[0m\u001b[0;36m10\u001b[0m\u001b[0;34m,\u001b[0m\u001b[0;36m11\u001b[0m\u001b[0;34m,\u001b[0m\u001b[0;36m12\u001b[0m\u001b[0;34m,\u001b[0m\u001b[0;36m13\u001b[0m\u001b[0;34m,\u001b[0m\u001b[0;36m14\u001b[0m\u001b[0;34m,\u001b[0m\u001b[0;36m15\u001b[0m\u001b[0;34m,\u001b[0m\u001b[0;36m16\u001b[0m\u001b[0;34m]\u001b[0m\u001b[0;34m)\u001b[0m\u001b[0;34m\u001b[0m\u001b[0;34m\u001b[0m\u001b[0m\n\u001b[0;32m----> 2\u001b[0;31m \u001b[0mnewa\u001b[0m \u001b[0;34m=\u001b[0m \u001b[0marr\u001b[0m\u001b[0;34m.\u001b[0m\u001b[0mreshape\u001b[0m\u001b[0;34m(\u001b[0m\u001b[0;36m4\u001b[0m\u001b[0;34m,\u001b[0m \u001b[0;36m3\u001b[0m\u001b[0;34m)\u001b[0m\u001b[0;34m\u001b[0m\u001b[0;34m\u001b[0m\u001b[0m\n\u001b[0m\u001b[1;32m      3\u001b[0m \u001b[0mnewa\u001b[0m\u001b[0;34m\u001b[0m\u001b[0;34m\u001b[0m\u001b[0m\n",
            "\u001b[0;31mValueError\u001b[0m: cannot reshape array of size 16 into shape (4,3)"
          ]
        }
      ]
    },
    {
      "cell_type": "code",
      "source": [
        "arr = np.array([1, 2, 3, 4, 5, 6, 7, 8, 9, 10, 11, 12])\n",
        "\n",
        "newarr = arr.reshape(2, 3, 2)\n",
        "\n",
        "print(newarr)"
      ],
      "metadata": {
        "colab": {
          "base_uri": "https://localhost:8080/"
        },
        "id": "ajqa5f3sucPY",
        "outputId": "1f25e8b8-2a1b-41a8-9a31-7bfb3529a589"
      },
      "execution_count": null,
      "outputs": [
        {
          "output_type": "stream",
          "name": "stdout",
          "text": [
            "[[[ 1  2]\n",
            "  [ 3  4]\n",
            "  [ 5  6]]\n",
            "\n",
            " [[ 7  8]\n",
            "  [ 9 10]\n",
            "  [11 12]]]\n"
          ]
        }
      ]
    },
    {
      "cell_type": "code",
      "source": [
        "arr = np.array([1, 2, 3])\n",
        "\n",
        "for x in arr:\n",
        "  print(x)"
      ],
      "metadata": {
        "colab": {
          "base_uri": "https://localhost:8080/"
        },
        "id": "-iPcjlw_uc9J",
        "outputId": "c3867457-71f5-407b-df10-47a1d3d22a62"
      },
      "execution_count": null,
      "outputs": [
        {
          "output_type": "stream",
          "name": "stdout",
          "text": [
            "1\n",
            "2\n",
            "3\n"
          ]
        }
      ]
    },
    {
      "cell_type": "code",
      "source": [
        "arr = np.array([[1, 2, 3], [4, 5, 6]])\n",
        "\n",
        "for x in arr:\n",
        "  for y in x:\n",
        "    print(y)"
      ],
      "metadata": {
        "colab": {
          "base_uri": "https://localhost:8080/"
        },
        "id": "YarvR8jNudB_",
        "outputId": "d5d49046-0f9c-4fb1-960e-e50d349c08d0"
      },
      "execution_count": null,
      "outputs": [
        {
          "output_type": "stream",
          "name": "stdout",
          "text": [
            "1\n",
            "2\n",
            "3\n",
            "4\n",
            "5\n",
            "6\n"
          ]
        }
      ]
    },
    {
      "cell_type": "code",
      "source": [
        "arr1 = np.array([1, 2, 3])\n",
        "\n",
        "arr2 = np.array([4, 5, 6])\n",
        "\n",
        "\n",
        "new = np.concatenate((arr1,arr2))"
      ],
      "metadata": {
        "id": "j1mpmSojudEN"
      },
      "execution_count": null,
      "outputs": []
    },
    {
      "cell_type": "code",
      "source": [
        "new"
      ],
      "metadata": {
        "colab": {
          "base_uri": "https://localhost:8080/"
        },
        "id": "wHtKXNdJudo5",
        "outputId": "7b70bedd-513b-4c75-b769-e97045b0227a"
      },
      "execution_count": null,
      "outputs": [
        {
          "output_type": "execute_result",
          "data": {
            "text/plain": [
              "array([1, 2, 3, 4, 5, 6])"
            ]
          },
          "metadata": {},
          "execution_count": 119
        }
      ]
    },
    {
      "cell_type": "code",
      "source": [
        "arr1 = np.array([[1, 2], [3, 4]])\n",
        "\n",
        "arr2 = np.array([[5, 6], [7, 8]])\n",
        "\n",
        "arr = np.concatenate((arr1, arr2), axis=1)"
      ],
      "metadata": {
        "id": "4heUdVP3wlBv"
      },
      "execution_count": null,
      "outputs": []
    },
    {
      "cell_type": "code",
      "source": [
        "print(arr)"
      ],
      "metadata": {
        "colab": {
          "base_uri": "https://localhost:8080/"
        },
        "id": "dxPn6fZTwk-D",
        "outputId": "a4799ed8-0095-4ea1-d0eb-189980a310fe"
      },
      "execution_count": null,
      "outputs": [
        {
          "output_type": "stream",
          "name": "stdout",
          "text": [
            "[[1 2 5 6]\n",
            " [3 4 7 8]]\n"
          ]
        }
      ]
    },
    {
      "cell_type": "code",
      "source": [
        "import numpy as np\n",
        "arr = np.array([41, 42, 43, 44])\n",
        "# Create an empty list\n",
        "filter_arr = []\n",
        "\n",
        "# go through each element in arr\n",
        "for element in arr:\n",
        "  # if the element is higher than 42, set the value to True, otherwise False:\n",
        "  if element > 42:\n",
        "    filter_arr.append(True)\n",
        "  else:\n",
        "    filter_arr.append(False)\n",
        "\n",
        "newarr = arr[filter_arr]\n",
        "\n",
        "print(filter_arr)\n",
        "print(newarr)"
      ],
      "metadata": {
        "colab": {
          "base_uri": "https://localhost:8080/"
        },
        "id": "xxuXSsnWwk7w",
        "outputId": "db2b65be-6315-4d06-e7c9-ac5904f4dae4"
      },
      "execution_count": null,
      "outputs": [
        {
          "output_type": "stream",
          "name": "stdout",
          "text": [
            "[False, False, True, True]\n",
            "[43 44]\n"
          ]
        }
      ]
    },
    {
      "cell_type": "code",
      "source": [
        "from numpy import random\n",
        "x = random.randint(100)\n",
        "print(x)"
      ],
      "metadata": {
        "colab": {
          "base_uri": "https://localhost:8080/"
        },
        "id": "Uv9l3189wk5Y",
        "outputId": "b78cc2a5-32ab-4648-d040-ba835e7183a9"
      },
      "execution_count": null,
      "outputs": [
        {
          "output_type": "stream",
          "name": "stdout",
          "text": [
            "90\n"
          ]
        }
      ]
    },
    {
      "cell_type": "code",
      "source": [
        "x = random.rand()\n",
        "\n",
        "print(x)\n"
      ],
      "metadata": {
        "colab": {
          "base_uri": "https://localhost:8080/"
        },
        "id": "2V6Uu1GMwk23",
        "outputId": "38110a5d-f5c7-46e8-bd5b-9a29d78339ca"
      },
      "execution_count": null,
      "outputs": [
        {
          "output_type": "stream",
          "name": "stdout",
          "text": [
            "0.25326450567941994\n"
          ]
        }
      ]
    },
    {
      "cell_type": "code",
      "source": [
        "x=random.randint(100, size=(5))\n"
      ],
      "metadata": {
        "id": "CecZhKCawk00"
      },
      "execution_count": null,
      "outputs": []
    },
    {
      "cell_type": "code",
      "source": [
        "x = random.randint(100, size=(3, 5))\n"
      ],
      "metadata": {
        "id": "M9y7ksjjwkyQ"
      },
      "execution_count": null,
      "outputs": []
    },
    {
      "cell_type": "code",
      "source": [
        "new = pd.DataFrame(np.random.randn(5,3), columns=['a', 'b', 'c'])"
      ],
      "metadata": {
        "id": "h1l7BT56wkvn"
      },
      "execution_count": 11,
      "outputs": []
    },
    {
      "cell_type": "code",
      "source": [
        "df1 = pd.DataFrame(\n",
        "    np.random.randn(1000, 4), index=ts.index, columns=[\"A\", \"B\", \"C\", \"D\"]\n",
        ")"
      ],
      "metadata": {
        "id": "AMNc2dXRwktV"
      },
      "execution_count": null,
      "outputs": []
    },
    {
      "cell_type": "code",
      "source": [
        "import pandas as pd\n",
        "import numpy as np\n",
        "\n"
      ],
      "metadata": {
        "id": "h2mD2yJKwkq3"
      },
      "execution_count": 10,
      "outputs": []
    },
    {
      "cell_type": "code",
      "source": [
        "new"
      ],
      "metadata": {
        "id": "cc0zijo-wkoV",
        "outputId": "3c8ab0c6-d3e8-4e0f-fef5-329032b3f4cb",
        "colab": {
          "base_uri": "https://localhost:8080/",
          "height": 206
        }
      },
      "execution_count": 12,
      "outputs": [
        {
          "output_type": "execute_result",
          "data": {
            "text/plain": [
              "          a         b         c\n",
              "0 -0.955783  0.843694  1.009257\n",
              "1 -0.950544 -0.065369 -1.171516\n",
              "2 -0.514235 -1.892603 -0.437388\n",
              "3  1.049243  0.370128 -0.048559\n",
              "4  1.143447  1.603228 -0.666123"
            ],
            "text/html": [
              "\n",
              "  <div id=\"df-e3d67347-478a-464b-b240-012ac8f97a6c\">\n",
              "    <div class=\"colab-df-container\">\n",
              "      <div>\n",
              "<style scoped>\n",
              "    .dataframe tbody tr th:only-of-type {\n",
              "        vertical-align: middle;\n",
              "    }\n",
              "\n",
              "    .dataframe tbody tr th {\n",
              "        vertical-align: top;\n",
              "    }\n",
              "\n",
              "    .dataframe thead th {\n",
              "        text-align: right;\n",
              "    }\n",
              "</style>\n",
              "<table border=\"1\" class=\"dataframe\">\n",
              "  <thead>\n",
              "    <tr style=\"text-align: right;\">\n",
              "      <th></th>\n",
              "      <th>a</th>\n",
              "      <th>b</th>\n",
              "      <th>c</th>\n",
              "    </tr>\n",
              "  </thead>\n",
              "  <tbody>\n",
              "    <tr>\n",
              "      <th>0</th>\n",
              "      <td>-0.955783</td>\n",
              "      <td>0.843694</td>\n",
              "      <td>1.009257</td>\n",
              "    </tr>\n",
              "    <tr>\n",
              "      <th>1</th>\n",
              "      <td>-0.950544</td>\n",
              "      <td>-0.065369</td>\n",
              "      <td>-1.171516</td>\n",
              "    </tr>\n",
              "    <tr>\n",
              "      <th>2</th>\n",
              "      <td>-0.514235</td>\n",
              "      <td>-1.892603</td>\n",
              "      <td>-0.437388</td>\n",
              "    </tr>\n",
              "    <tr>\n",
              "      <th>3</th>\n",
              "      <td>1.049243</td>\n",
              "      <td>0.370128</td>\n",
              "      <td>-0.048559</td>\n",
              "    </tr>\n",
              "    <tr>\n",
              "      <th>4</th>\n",
              "      <td>1.143447</td>\n",
              "      <td>1.603228</td>\n",
              "      <td>-0.666123</td>\n",
              "    </tr>\n",
              "  </tbody>\n",
              "</table>\n",
              "</div>\n",
              "      <button class=\"colab-df-convert\" onclick=\"convertToInteractive('df-e3d67347-478a-464b-b240-012ac8f97a6c')\"\n",
              "              title=\"Convert this dataframe to an interactive table.\"\n",
              "              style=\"display:none;\">\n",
              "        \n",
              "  <svg xmlns=\"http://www.w3.org/2000/svg\" height=\"24px\"viewBox=\"0 0 24 24\"\n",
              "       width=\"24px\">\n",
              "    <path d=\"M0 0h24v24H0V0z\" fill=\"none\"/>\n",
              "    <path d=\"M18.56 5.44l.94 2.06.94-2.06 2.06-.94-2.06-.94-.94-2.06-.94 2.06-2.06.94zm-11 1L8.5 8.5l.94-2.06 2.06-.94-2.06-.94L8.5 2.5l-.94 2.06-2.06.94zm10 10l.94 2.06.94-2.06 2.06-.94-2.06-.94-.94-2.06-.94 2.06-2.06.94z\"/><path d=\"M17.41 7.96l-1.37-1.37c-.4-.4-.92-.59-1.43-.59-.52 0-1.04.2-1.43.59L10.3 9.45l-7.72 7.72c-.78.78-.78 2.05 0 2.83L4 21.41c.39.39.9.59 1.41.59.51 0 1.02-.2 1.41-.59l7.78-7.78 2.81-2.81c.8-.78.8-2.07 0-2.86zM5.41 20L4 18.59l7.72-7.72 1.47 1.35L5.41 20z\"/>\n",
              "  </svg>\n",
              "      </button>\n",
              "      \n",
              "  <style>\n",
              "    .colab-df-container {\n",
              "      display:flex;\n",
              "      flex-wrap:wrap;\n",
              "      gap: 12px;\n",
              "    }\n",
              "\n",
              "    .colab-df-convert {\n",
              "      background-color: #E8F0FE;\n",
              "      border: none;\n",
              "      border-radius: 50%;\n",
              "      cursor: pointer;\n",
              "      display: none;\n",
              "      fill: #1967D2;\n",
              "      height: 32px;\n",
              "      padding: 0 0 0 0;\n",
              "      width: 32px;\n",
              "    }\n",
              "\n",
              "    .colab-df-convert:hover {\n",
              "      background-color: #E2EBFA;\n",
              "      box-shadow: 0px 1px 2px rgba(60, 64, 67, 0.3), 0px 1px 3px 1px rgba(60, 64, 67, 0.15);\n",
              "      fill: #174EA6;\n",
              "    }\n",
              "\n",
              "    [theme=dark] .colab-df-convert {\n",
              "      background-color: #3B4455;\n",
              "      fill: #D2E3FC;\n",
              "    }\n",
              "\n",
              "    [theme=dark] .colab-df-convert:hover {\n",
              "      background-color: #434B5C;\n",
              "      box-shadow: 0px 1px 3px 1px rgba(0, 0, 0, 0.15);\n",
              "      filter: drop-shadow(0px 1px 2px rgba(0, 0, 0, 0.3));\n",
              "      fill: #FFFFFF;\n",
              "    }\n",
              "  </style>\n",
              "\n",
              "      <script>\n",
              "        const buttonEl =\n",
              "          document.querySelector('#df-e3d67347-478a-464b-b240-012ac8f97a6c button.colab-df-convert');\n",
              "        buttonEl.style.display =\n",
              "          google.colab.kernel.accessAllowed ? 'block' : 'none';\n",
              "\n",
              "        async function convertToInteractive(key) {\n",
              "          const element = document.querySelector('#df-e3d67347-478a-464b-b240-012ac8f97a6c');\n",
              "          const dataTable =\n",
              "            await google.colab.kernel.invokeFunction('convertToInteractive',\n",
              "                                                     [key], {});\n",
              "          if (!dataTable) return;\n",
              "\n",
              "          const docLinkHtml = 'Like what you see? Visit the ' +\n",
              "            '<a target=\"_blank\" href=https://colab.research.google.com/notebooks/data_table.ipynb>data table notebook</a>'\n",
              "            + ' to learn more about interactive tables.';\n",
              "          element.innerHTML = '';\n",
              "          dataTable['output_type'] = 'display_data';\n",
              "          await google.colab.output.renderOutput(dataTable, element);\n",
              "          const docLink = document.createElement('div');\n",
              "          docLink.innerHTML = docLinkHtml;\n",
              "          element.appendChild(docLink);\n",
              "        }\n",
              "      </script>\n",
              "    </div>\n",
              "  </div>\n",
              "  "
            ]
          },
          "metadata": {},
          "execution_count": 12
        }
      ]
    },
    {
      "cell_type": "code",
      "source": [
        "dirtydata = pd.read_csv('dirtydata.csv')"
      ],
      "metadata": {
        "id": "tLsBXBURwj9R"
      },
      "execution_count": 13,
      "outputs": []
    },
    {
      "cell_type": "code",
      "source": [
        "dirtydata"
      ],
      "metadata": {
        "id": "03569KIEudtp",
        "outputId": "9502d25f-4fb3-447a-87cd-cce6d3e94da0",
        "colab": {
          "base_uri": "https://localhost:8080/",
          "height": 1000
        }
      },
      "execution_count": 14,
      "outputs": [
        {
          "output_type": "execute_result",
          "data": {
            "text/plain": [
              "    Duration          Date  Pulse  Maxpulse  Calories\n",
              "0         60  '2020/12/01'    110       130     409.1\n",
              "1         60  '2020/12/02'    117       145     479.0\n",
              "2         60  '2020/12/03'    103       135     340.0\n",
              "3         45  '2020/12/04'    109       175     282.4\n",
              "4         45  '2020/12/05'    117       148     406.0\n",
              "5         60  '2020/12/06'    102       127     300.0\n",
              "6         60  '2020/12/07'    110       136     374.0\n",
              "7        450  '2020/12/08'    104       134     253.3\n",
              "8         30  '2020/12/09'    109       133     195.1\n",
              "9         60  '2020/12/10'     98       124     269.0\n",
              "10        60  '2020/12/11'    103       147     329.3\n",
              "11        60  '2020/12/12'    100       120     250.7\n",
              "12        60  '2020/12/12'    100       120     250.7\n",
              "13        60  '2020/12/13'    106       128     345.3\n",
              "14        60  '2020/12/14'    104       132     379.3\n",
              "15        60  '2020/12/15'     98       123     275.0\n",
              "16        60  '2020/12/16'     98       120     215.2\n",
              "17        60  '2020/12/17'    100       120     300.0\n",
              "18        45  '2020/12/18'     90       112       NaN\n",
              "19        60  '2020/12/19'    103       123     323.0\n",
              "20        45  '2020/12/20'     97       125     243.0\n",
              "21        60  '2020/12/21'    108       131     364.2\n",
              "22        45           NaN    100       119     282.0\n",
              "23        60  '2020/12/23'    130       101     300.0\n",
              "24        45  '2020/12/24'    105       132     246.0\n",
              "25        60  '2020/12/25'    102       126     334.5\n",
              "26        60      20201226    100       120     250.0\n",
              "27        60  '2020/12/27'     92       118     241.0\n",
              "28        60  '2020/12/28'    103       132       NaN\n",
              "29        60  '2020/12/29'    100       132     280.0\n",
              "30        60  '2020/12/30'    102       129     380.3\n",
              "31        60  '2020/12/31'     92       115     243.0"
            ],
            "text/html": [
              "\n",
              "  <div id=\"df-8594ba17-4a8c-4eed-b183-56345cc24abc\">\n",
              "    <div class=\"colab-df-container\">\n",
              "      <div>\n",
              "<style scoped>\n",
              "    .dataframe tbody tr th:only-of-type {\n",
              "        vertical-align: middle;\n",
              "    }\n",
              "\n",
              "    .dataframe tbody tr th {\n",
              "        vertical-align: top;\n",
              "    }\n",
              "\n",
              "    .dataframe thead th {\n",
              "        text-align: right;\n",
              "    }\n",
              "</style>\n",
              "<table border=\"1\" class=\"dataframe\">\n",
              "  <thead>\n",
              "    <tr style=\"text-align: right;\">\n",
              "      <th></th>\n",
              "      <th>Duration</th>\n",
              "      <th>Date</th>\n",
              "      <th>Pulse</th>\n",
              "      <th>Maxpulse</th>\n",
              "      <th>Calories</th>\n",
              "    </tr>\n",
              "  </thead>\n",
              "  <tbody>\n",
              "    <tr>\n",
              "      <th>0</th>\n",
              "      <td>60</td>\n",
              "      <td>'2020/12/01'</td>\n",
              "      <td>110</td>\n",
              "      <td>130</td>\n",
              "      <td>409.1</td>\n",
              "    </tr>\n",
              "    <tr>\n",
              "      <th>1</th>\n",
              "      <td>60</td>\n",
              "      <td>'2020/12/02'</td>\n",
              "      <td>117</td>\n",
              "      <td>145</td>\n",
              "      <td>479.0</td>\n",
              "    </tr>\n",
              "    <tr>\n",
              "      <th>2</th>\n",
              "      <td>60</td>\n",
              "      <td>'2020/12/03'</td>\n",
              "      <td>103</td>\n",
              "      <td>135</td>\n",
              "      <td>340.0</td>\n",
              "    </tr>\n",
              "    <tr>\n",
              "      <th>3</th>\n",
              "      <td>45</td>\n",
              "      <td>'2020/12/04'</td>\n",
              "      <td>109</td>\n",
              "      <td>175</td>\n",
              "      <td>282.4</td>\n",
              "    </tr>\n",
              "    <tr>\n",
              "      <th>4</th>\n",
              "      <td>45</td>\n",
              "      <td>'2020/12/05'</td>\n",
              "      <td>117</td>\n",
              "      <td>148</td>\n",
              "      <td>406.0</td>\n",
              "    </tr>\n",
              "    <tr>\n",
              "      <th>5</th>\n",
              "      <td>60</td>\n",
              "      <td>'2020/12/06'</td>\n",
              "      <td>102</td>\n",
              "      <td>127</td>\n",
              "      <td>300.0</td>\n",
              "    </tr>\n",
              "    <tr>\n",
              "      <th>6</th>\n",
              "      <td>60</td>\n",
              "      <td>'2020/12/07'</td>\n",
              "      <td>110</td>\n",
              "      <td>136</td>\n",
              "      <td>374.0</td>\n",
              "    </tr>\n",
              "    <tr>\n",
              "      <th>7</th>\n",
              "      <td>450</td>\n",
              "      <td>'2020/12/08'</td>\n",
              "      <td>104</td>\n",
              "      <td>134</td>\n",
              "      <td>253.3</td>\n",
              "    </tr>\n",
              "    <tr>\n",
              "      <th>8</th>\n",
              "      <td>30</td>\n",
              "      <td>'2020/12/09'</td>\n",
              "      <td>109</td>\n",
              "      <td>133</td>\n",
              "      <td>195.1</td>\n",
              "    </tr>\n",
              "    <tr>\n",
              "      <th>9</th>\n",
              "      <td>60</td>\n",
              "      <td>'2020/12/10'</td>\n",
              "      <td>98</td>\n",
              "      <td>124</td>\n",
              "      <td>269.0</td>\n",
              "    </tr>\n",
              "    <tr>\n",
              "      <th>10</th>\n",
              "      <td>60</td>\n",
              "      <td>'2020/12/11'</td>\n",
              "      <td>103</td>\n",
              "      <td>147</td>\n",
              "      <td>329.3</td>\n",
              "    </tr>\n",
              "    <tr>\n",
              "      <th>11</th>\n",
              "      <td>60</td>\n",
              "      <td>'2020/12/12'</td>\n",
              "      <td>100</td>\n",
              "      <td>120</td>\n",
              "      <td>250.7</td>\n",
              "    </tr>\n",
              "    <tr>\n",
              "      <th>12</th>\n",
              "      <td>60</td>\n",
              "      <td>'2020/12/12'</td>\n",
              "      <td>100</td>\n",
              "      <td>120</td>\n",
              "      <td>250.7</td>\n",
              "    </tr>\n",
              "    <tr>\n",
              "      <th>13</th>\n",
              "      <td>60</td>\n",
              "      <td>'2020/12/13'</td>\n",
              "      <td>106</td>\n",
              "      <td>128</td>\n",
              "      <td>345.3</td>\n",
              "    </tr>\n",
              "    <tr>\n",
              "      <th>14</th>\n",
              "      <td>60</td>\n",
              "      <td>'2020/12/14'</td>\n",
              "      <td>104</td>\n",
              "      <td>132</td>\n",
              "      <td>379.3</td>\n",
              "    </tr>\n",
              "    <tr>\n",
              "      <th>15</th>\n",
              "      <td>60</td>\n",
              "      <td>'2020/12/15'</td>\n",
              "      <td>98</td>\n",
              "      <td>123</td>\n",
              "      <td>275.0</td>\n",
              "    </tr>\n",
              "    <tr>\n",
              "      <th>16</th>\n",
              "      <td>60</td>\n",
              "      <td>'2020/12/16'</td>\n",
              "      <td>98</td>\n",
              "      <td>120</td>\n",
              "      <td>215.2</td>\n",
              "    </tr>\n",
              "    <tr>\n",
              "      <th>17</th>\n",
              "      <td>60</td>\n",
              "      <td>'2020/12/17'</td>\n",
              "      <td>100</td>\n",
              "      <td>120</td>\n",
              "      <td>300.0</td>\n",
              "    </tr>\n",
              "    <tr>\n",
              "      <th>18</th>\n",
              "      <td>45</td>\n",
              "      <td>'2020/12/18'</td>\n",
              "      <td>90</td>\n",
              "      <td>112</td>\n",
              "      <td>NaN</td>\n",
              "    </tr>\n",
              "    <tr>\n",
              "      <th>19</th>\n",
              "      <td>60</td>\n",
              "      <td>'2020/12/19'</td>\n",
              "      <td>103</td>\n",
              "      <td>123</td>\n",
              "      <td>323.0</td>\n",
              "    </tr>\n",
              "    <tr>\n",
              "      <th>20</th>\n",
              "      <td>45</td>\n",
              "      <td>'2020/12/20'</td>\n",
              "      <td>97</td>\n",
              "      <td>125</td>\n",
              "      <td>243.0</td>\n",
              "    </tr>\n",
              "    <tr>\n",
              "      <th>21</th>\n",
              "      <td>60</td>\n",
              "      <td>'2020/12/21'</td>\n",
              "      <td>108</td>\n",
              "      <td>131</td>\n",
              "      <td>364.2</td>\n",
              "    </tr>\n",
              "    <tr>\n",
              "      <th>22</th>\n",
              "      <td>45</td>\n",
              "      <td>NaN</td>\n",
              "      <td>100</td>\n",
              "      <td>119</td>\n",
              "      <td>282.0</td>\n",
              "    </tr>\n",
              "    <tr>\n",
              "      <th>23</th>\n",
              "      <td>60</td>\n",
              "      <td>'2020/12/23'</td>\n",
              "      <td>130</td>\n",
              "      <td>101</td>\n",
              "      <td>300.0</td>\n",
              "    </tr>\n",
              "    <tr>\n",
              "      <th>24</th>\n",
              "      <td>45</td>\n",
              "      <td>'2020/12/24'</td>\n",
              "      <td>105</td>\n",
              "      <td>132</td>\n",
              "      <td>246.0</td>\n",
              "    </tr>\n",
              "    <tr>\n",
              "      <th>25</th>\n",
              "      <td>60</td>\n",
              "      <td>'2020/12/25'</td>\n",
              "      <td>102</td>\n",
              "      <td>126</td>\n",
              "      <td>334.5</td>\n",
              "    </tr>\n",
              "    <tr>\n",
              "      <th>26</th>\n",
              "      <td>60</td>\n",
              "      <td>20201226</td>\n",
              "      <td>100</td>\n",
              "      <td>120</td>\n",
              "      <td>250.0</td>\n",
              "    </tr>\n",
              "    <tr>\n",
              "      <th>27</th>\n",
              "      <td>60</td>\n",
              "      <td>'2020/12/27'</td>\n",
              "      <td>92</td>\n",
              "      <td>118</td>\n",
              "      <td>241.0</td>\n",
              "    </tr>\n",
              "    <tr>\n",
              "      <th>28</th>\n",
              "      <td>60</td>\n",
              "      <td>'2020/12/28'</td>\n",
              "      <td>103</td>\n",
              "      <td>132</td>\n",
              "      <td>NaN</td>\n",
              "    </tr>\n",
              "    <tr>\n",
              "      <th>29</th>\n",
              "      <td>60</td>\n",
              "      <td>'2020/12/29'</td>\n",
              "      <td>100</td>\n",
              "      <td>132</td>\n",
              "      <td>280.0</td>\n",
              "    </tr>\n",
              "    <tr>\n",
              "      <th>30</th>\n",
              "      <td>60</td>\n",
              "      <td>'2020/12/30'</td>\n",
              "      <td>102</td>\n",
              "      <td>129</td>\n",
              "      <td>380.3</td>\n",
              "    </tr>\n",
              "    <tr>\n",
              "      <th>31</th>\n",
              "      <td>60</td>\n",
              "      <td>'2020/12/31'</td>\n",
              "      <td>92</td>\n",
              "      <td>115</td>\n",
              "      <td>243.0</td>\n",
              "    </tr>\n",
              "  </tbody>\n",
              "</table>\n",
              "</div>\n",
              "      <button class=\"colab-df-convert\" onclick=\"convertToInteractive('df-8594ba17-4a8c-4eed-b183-56345cc24abc')\"\n",
              "              title=\"Convert this dataframe to an interactive table.\"\n",
              "              style=\"display:none;\">\n",
              "        \n",
              "  <svg xmlns=\"http://www.w3.org/2000/svg\" height=\"24px\"viewBox=\"0 0 24 24\"\n",
              "       width=\"24px\">\n",
              "    <path d=\"M0 0h24v24H0V0z\" fill=\"none\"/>\n",
              "    <path d=\"M18.56 5.44l.94 2.06.94-2.06 2.06-.94-2.06-.94-.94-2.06-.94 2.06-2.06.94zm-11 1L8.5 8.5l.94-2.06 2.06-.94-2.06-.94L8.5 2.5l-.94 2.06-2.06.94zm10 10l.94 2.06.94-2.06 2.06-.94-2.06-.94-.94-2.06-.94 2.06-2.06.94z\"/><path d=\"M17.41 7.96l-1.37-1.37c-.4-.4-.92-.59-1.43-.59-.52 0-1.04.2-1.43.59L10.3 9.45l-7.72 7.72c-.78.78-.78 2.05 0 2.83L4 21.41c.39.39.9.59 1.41.59.51 0 1.02-.2 1.41-.59l7.78-7.78 2.81-2.81c.8-.78.8-2.07 0-2.86zM5.41 20L4 18.59l7.72-7.72 1.47 1.35L5.41 20z\"/>\n",
              "  </svg>\n",
              "      </button>\n",
              "      \n",
              "  <style>\n",
              "    .colab-df-container {\n",
              "      display:flex;\n",
              "      flex-wrap:wrap;\n",
              "      gap: 12px;\n",
              "    }\n",
              "\n",
              "    .colab-df-convert {\n",
              "      background-color: #E8F0FE;\n",
              "      border: none;\n",
              "      border-radius: 50%;\n",
              "      cursor: pointer;\n",
              "      display: none;\n",
              "      fill: #1967D2;\n",
              "      height: 32px;\n",
              "      padding: 0 0 0 0;\n",
              "      width: 32px;\n",
              "    }\n",
              "\n",
              "    .colab-df-convert:hover {\n",
              "      background-color: #E2EBFA;\n",
              "      box-shadow: 0px 1px 2px rgba(60, 64, 67, 0.3), 0px 1px 3px 1px rgba(60, 64, 67, 0.15);\n",
              "      fill: #174EA6;\n",
              "    }\n",
              "\n",
              "    [theme=dark] .colab-df-convert {\n",
              "      background-color: #3B4455;\n",
              "      fill: #D2E3FC;\n",
              "    }\n",
              "\n",
              "    [theme=dark] .colab-df-convert:hover {\n",
              "      background-color: #434B5C;\n",
              "      box-shadow: 0px 1px 3px 1px rgba(0, 0, 0, 0.15);\n",
              "      filter: drop-shadow(0px 1px 2px rgba(0, 0, 0, 0.3));\n",
              "      fill: #FFFFFF;\n",
              "    }\n",
              "  </style>\n",
              "\n",
              "      <script>\n",
              "        const buttonEl =\n",
              "          document.querySelector('#df-8594ba17-4a8c-4eed-b183-56345cc24abc button.colab-df-convert');\n",
              "        buttonEl.style.display =\n",
              "          google.colab.kernel.accessAllowed ? 'block' : 'none';\n",
              "\n",
              "        async function convertToInteractive(key) {\n",
              "          const element = document.querySelector('#df-8594ba17-4a8c-4eed-b183-56345cc24abc');\n",
              "          const dataTable =\n",
              "            await google.colab.kernel.invokeFunction('convertToInteractive',\n",
              "                                                     [key], {});\n",
              "          if (!dataTable) return;\n",
              "\n",
              "          const docLinkHtml = 'Like what you see? Visit the ' +\n",
              "            '<a target=\"_blank\" href=https://colab.research.google.com/notebooks/data_table.ipynb>data table notebook</a>'\n",
              "            + ' to learn more about interactive tables.';\n",
              "          element.innerHTML = '';\n",
              "          dataTable['output_type'] = 'display_data';\n",
              "          await google.colab.output.renderOutput(dataTable, element);\n",
              "          const docLink = document.createElement('div');\n",
              "          docLink.innerHTML = docLinkHtml;\n",
              "          element.appendChild(docLink);\n",
              "        }\n",
              "      </script>\n",
              "    </div>\n",
              "  </div>\n",
              "  "
            ]
          },
          "metadata": {},
          "execution_count": 14
        }
      ]
    },
    {
      "cell_type": "code",
      "source": [
        "dirtydata.describe()"
      ],
      "metadata": {
        "id": "J6YaLU1rud0z",
        "outputId": "8830633c-3539-42c2-8758-939c9dc7850b",
        "colab": {
          "base_uri": "https://localhost:8080/",
          "height": 300
        }
      },
      "execution_count": 15,
      "outputs": [
        {
          "output_type": "execute_result",
          "data": {
            "text/plain": [
              "         Duration       Pulse    Maxpulse    Calories\n",
              "count   32.000000   32.000000   32.000000   30.000000\n",
              "mean    68.437500  103.500000  128.500000  304.680000\n",
              "std     70.039591    7.832933   12.998759   66.003779\n",
              "min     30.000000   90.000000  101.000000  195.100000\n",
              "25%     60.000000  100.000000  120.000000  250.700000\n",
              "50%     60.000000  102.500000  127.500000  291.200000\n",
              "75%     60.000000  106.500000  132.250000  343.975000\n",
              "max    450.000000  130.000000  175.000000  479.000000"
            ],
            "text/html": [
              "\n",
              "  <div id=\"df-ab142877-57a6-4fd6-9cf8-3bf55de1a2c1\">\n",
              "    <div class=\"colab-df-container\">\n",
              "      <div>\n",
              "<style scoped>\n",
              "    .dataframe tbody tr th:only-of-type {\n",
              "        vertical-align: middle;\n",
              "    }\n",
              "\n",
              "    .dataframe tbody tr th {\n",
              "        vertical-align: top;\n",
              "    }\n",
              "\n",
              "    .dataframe thead th {\n",
              "        text-align: right;\n",
              "    }\n",
              "</style>\n",
              "<table border=\"1\" class=\"dataframe\">\n",
              "  <thead>\n",
              "    <tr style=\"text-align: right;\">\n",
              "      <th></th>\n",
              "      <th>Duration</th>\n",
              "      <th>Pulse</th>\n",
              "      <th>Maxpulse</th>\n",
              "      <th>Calories</th>\n",
              "    </tr>\n",
              "  </thead>\n",
              "  <tbody>\n",
              "    <tr>\n",
              "      <th>count</th>\n",
              "      <td>32.000000</td>\n",
              "      <td>32.000000</td>\n",
              "      <td>32.000000</td>\n",
              "      <td>30.000000</td>\n",
              "    </tr>\n",
              "    <tr>\n",
              "      <th>mean</th>\n",
              "      <td>68.437500</td>\n",
              "      <td>103.500000</td>\n",
              "      <td>128.500000</td>\n",
              "      <td>304.680000</td>\n",
              "    </tr>\n",
              "    <tr>\n",
              "      <th>std</th>\n",
              "      <td>70.039591</td>\n",
              "      <td>7.832933</td>\n",
              "      <td>12.998759</td>\n",
              "      <td>66.003779</td>\n",
              "    </tr>\n",
              "    <tr>\n",
              "      <th>min</th>\n",
              "      <td>30.000000</td>\n",
              "      <td>90.000000</td>\n",
              "      <td>101.000000</td>\n",
              "      <td>195.100000</td>\n",
              "    </tr>\n",
              "    <tr>\n",
              "      <th>25%</th>\n",
              "      <td>60.000000</td>\n",
              "      <td>100.000000</td>\n",
              "      <td>120.000000</td>\n",
              "      <td>250.700000</td>\n",
              "    </tr>\n",
              "    <tr>\n",
              "      <th>50%</th>\n",
              "      <td>60.000000</td>\n",
              "      <td>102.500000</td>\n",
              "      <td>127.500000</td>\n",
              "      <td>291.200000</td>\n",
              "    </tr>\n",
              "    <tr>\n",
              "      <th>75%</th>\n",
              "      <td>60.000000</td>\n",
              "      <td>106.500000</td>\n",
              "      <td>132.250000</td>\n",
              "      <td>343.975000</td>\n",
              "    </tr>\n",
              "    <tr>\n",
              "      <th>max</th>\n",
              "      <td>450.000000</td>\n",
              "      <td>130.000000</td>\n",
              "      <td>175.000000</td>\n",
              "      <td>479.000000</td>\n",
              "    </tr>\n",
              "  </tbody>\n",
              "</table>\n",
              "</div>\n",
              "      <button class=\"colab-df-convert\" onclick=\"convertToInteractive('df-ab142877-57a6-4fd6-9cf8-3bf55de1a2c1')\"\n",
              "              title=\"Convert this dataframe to an interactive table.\"\n",
              "              style=\"display:none;\">\n",
              "        \n",
              "  <svg xmlns=\"http://www.w3.org/2000/svg\" height=\"24px\"viewBox=\"0 0 24 24\"\n",
              "       width=\"24px\">\n",
              "    <path d=\"M0 0h24v24H0V0z\" fill=\"none\"/>\n",
              "    <path d=\"M18.56 5.44l.94 2.06.94-2.06 2.06-.94-2.06-.94-.94-2.06-.94 2.06-2.06.94zm-11 1L8.5 8.5l.94-2.06 2.06-.94-2.06-.94L8.5 2.5l-.94 2.06-2.06.94zm10 10l.94 2.06.94-2.06 2.06-.94-2.06-.94-.94-2.06-.94 2.06-2.06.94z\"/><path d=\"M17.41 7.96l-1.37-1.37c-.4-.4-.92-.59-1.43-.59-.52 0-1.04.2-1.43.59L10.3 9.45l-7.72 7.72c-.78.78-.78 2.05 0 2.83L4 21.41c.39.39.9.59 1.41.59.51 0 1.02-.2 1.41-.59l7.78-7.78 2.81-2.81c.8-.78.8-2.07 0-2.86zM5.41 20L4 18.59l7.72-7.72 1.47 1.35L5.41 20z\"/>\n",
              "  </svg>\n",
              "      </button>\n",
              "      \n",
              "  <style>\n",
              "    .colab-df-container {\n",
              "      display:flex;\n",
              "      flex-wrap:wrap;\n",
              "      gap: 12px;\n",
              "    }\n",
              "\n",
              "    .colab-df-convert {\n",
              "      background-color: #E8F0FE;\n",
              "      border: none;\n",
              "      border-radius: 50%;\n",
              "      cursor: pointer;\n",
              "      display: none;\n",
              "      fill: #1967D2;\n",
              "      height: 32px;\n",
              "      padding: 0 0 0 0;\n",
              "      width: 32px;\n",
              "    }\n",
              "\n",
              "    .colab-df-convert:hover {\n",
              "      background-color: #E2EBFA;\n",
              "      box-shadow: 0px 1px 2px rgba(60, 64, 67, 0.3), 0px 1px 3px 1px rgba(60, 64, 67, 0.15);\n",
              "      fill: #174EA6;\n",
              "    }\n",
              "\n",
              "    [theme=dark] .colab-df-convert {\n",
              "      background-color: #3B4455;\n",
              "      fill: #D2E3FC;\n",
              "    }\n",
              "\n",
              "    [theme=dark] .colab-df-convert:hover {\n",
              "      background-color: #434B5C;\n",
              "      box-shadow: 0px 1px 3px 1px rgba(0, 0, 0, 0.15);\n",
              "      filter: drop-shadow(0px 1px 2px rgba(0, 0, 0, 0.3));\n",
              "      fill: #FFFFFF;\n",
              "    }\n",
              "  </style>\n",
              "\n",
              "      <script>\n",
              "        const buttonEl =\n",
              "          document.querySelector('#df-ab142877-57a6-4fd6-9cf8-3bf55de1a2c1 button.colab-df-convert');\n",
              "        buttonEl.style.display =\n",
              "          google.colab.kernel.accessAllowed ? 'block' : 'none';\n",
              "\n",
              "        async function convertToInteractive(key) {\n",
              "          const element = document.querySelector('#df-ab142877-57a6-4fd6-9cf8-3bf55de1a2c1');\n",
              "          const dataTable =\n",
              "            await google.colab.kernel.invokeFunction('convertToInteractive',\n",
              "                                                     [key], {});\n",
              "          if (!dataTable) return;\n",
              "\n",
              "          const docLinkHtml = 'Like what you see? Visit the ' +\n",
              "            '<a target=\"_blank\" href=https://colab.research.google.com/notebooks/data_table.ipynb>data table notebook</a>'\n",
              "            + ' to learn more about interactive tables.';\n",
              "          element.innerHTML = '';\n",
              "          dataTable['output_type'] = 'display_data';\n",
              "          await google.colab.output.renderOutput(dataTable, element);\n",
              "          const docLink = document.createElement('div');\n",
              "          docLink.innerHTML = docLinkHtml;\n",
              "          element.appendChild(docLink);\n",
              "        }\n",
              "      </script>\n",
              "    </div>\n",
              "  </div>\n",
              "  "
            ]
          },
          "metadata": {},
          "execution_count": 15
        }
      ]
    },
    {
      "cell_type": "code",
      "source": [
        "x = dirtydata['Calories'].mean()"
      ],
      "metadata": {
        "id": "TnfroOpyud5_"
      },
      "execution_count": 16,
      "outputs": []
    },
    {
      "cell_type": "code",
      "source": [
        "x"
      ],
      "metadata": {
        "id": "rfdoieh-ud-u",
        "outputId": "42a4732b-dd00-41f6-833d-a0a186bb1151",
        "colab": {
          "base_uri": "https://localhost:8080/"
        }
      },
      "execution_count": 17,
      "outputs": [
        {
          "output_type": "execute_result",
          "data": {
            "text/plain": [
              "304.68"
            ]
          },
          "metadata": {},
          "execution_count": 17
        }
      ]
    },
    {
      "cell_type": "code",
      "source": [
        "y= dirtydata[\"Calories\"].median()"
      ],
      "metadata": {
        "id": "jjah6lp5oHG0"
      },
      "execution_count": 19,
      "outputs": []
    },
    {
      "cell_type": "code",
      "source": [
        "y"
      ],
      "metadata": {
        "id": "aHcG2_choHDd",
        "outputId": "02d658eb-7529-4178-b7e0-e1c4468b56ae",
        "colab": {
          "base_uri": "https://localhost:8080/"
        }
      },
      "execution_count": 20,
      "outputs": [
        {
          "output_type": "execute_result",
          "data": {
            "text/plain": [
              "291.2"
            ]
          },
          "metadata": {},
          "execution_count": 20
        }
      ]
    },
    {
      "cell_type": "code",
      "source": [
        "dirtydata['Calories'].fillna(x,inplace= True)"
      ],
      "metadata": {
        "id": "vnKvG1KkoHBJ"
      },
      "execution_count": 21,
      "outputs": []
    },
    {
      "cell_type": "code",
      "source": [
        "dirtydata"
      ],
      "metadata": {
        "id": "m54KKMWUoG-1",
        "outputId": "b8e0c0b1-ed42-4edd-d0d1-5363498b42e2",
        "colab": {
          "base_uri": "https://localhost:8080/",
          "height": 1000
        }
      },
      "execution_count": 22,
      "outputs": [
        {
          "output_type": "execute_result",
          "data": {
            "text/plain": [
              "    Duration          Date  Pulse  Maxpulse  Calories\n",
              "0         60  '2020/12/01'    110       130    409.10\n",
              "1         60  '2020/12/02'    117       145    479.00\n",
              "2         60  '2020/12/03'    103       135    340.00\n",
              "3         45  '2020/12/04'    109       175    282.40\n",
              "4         45  '2020/12/05'    117       148    406.00\n",
              "5         60  '2020/12/06'    102       127    300.00\n",
              "6         60  '2020/12/07'    110       136    374.00\n",
              "7        450  '2020/12/08'    104       134    253.30\n",
              "8         30  '2020/12/09'    109       133    195.10\n",
              "9         60  '2020/12/10'     98       124    269.00\n",
              "10        60  '2020/12/11'    103       147    329.30\n",
              "11        60  '2020/12/12'    100       120    250.70\n",
              "12        60  '2020/12/12'    100       120    250.70\n",
              "13        60  '2020/12/13'    106       128    345.30\n",
              "14        60  '2020/12/14'    104       132    379.30\n",
              "15        60  '2020/12/15'     98       123    275.00\n",
              "16        60  '2020/12/16'     98       120    215.20\n",
              "17        60  '2020/12/17'    100       120    300.00\n",
              "18        45  '2020/12/18'     90       112    304.68\n",
              "19        60  '2020/12/19'    103       123    323.00\n",
              "20        45  '2020/12/20'     97       125    243.00\n",
              "21        60  '2020/12/21'    108       131    364.20\n",
              "22        45           NaN    100       119    282.00\n",
              "23        60  '2020/12/23'    130       101    300.00\n",
              "24        45  '2020/12/24'    105       132    246.00\n",
              "25        60  '2020/12/25'    102       126    334.50\n",
              "26        60      20201226    100       120    250.00\n",
              "27        60  '2020/12/27'     92       118    241.00\n",
              "28        60  '2020/12/28'    103       132    304.68\n",
              "29        60  '2020/12/29'    100       132    280.00\n",
              "30        60  '2020/12/30'    102       129    380.30\n",
              "31        60  '2020/12/31'     92       115    243.00"
            ],
            "text/html": [
              "\n",
              "  <div id=\"df-1cc39622-752b-4de3-a31e-2a1165691ded\">\n",
              "    <div class=\"colab-df-container\">\n",
              "      <div>\n",
              "<style scoped>\n",
              "    .dataframe tbody tr th:only-of-type {\n",
              "        vertical-align: middle;\n",
              "    }\n",
              "\n",
              "    .dataframe tbody tr th {\n",
              "        vertical-align: top;\n",
              "    }\n",
              "\n",
              "    .dataframe thead th {\n",
              "        text-align: right;\n",
              "    }\n",
              "</style>\n",
              "<table border=\"1\" class=\"dataframe\">\n",
              "  <thead>\n",
              "    <tr style=\"text-align: right;\">\n",
              "      <th></th>\n",
              "      <th>Duration</th>\n",
              "      <th>Date</th>\n",
              "      <th>Pulse</th>\n",
              "      <th>Maxpulse</th>\n",
              "      <th>Calories</th>\n",
              "    </tr>\n",
              "  </thead>\n",
              "  <tbody>\n",
              "    <tr>\n",
              "      <th>0</th>\n",
              "      <td>60</td>\n",
              "      <td>'2020/12/01'</td>\n",
              "      <td>110</td>\n",
              "      <td>130</td>\n",
              "      <td>409.10</td>\n",
              "    </tr>\n",
              "    <tr>\n",
              "      <th>1</th>\n",
              "      <td>60</td>\n",
              "      <td>'2020/12/02'</td>\n",
              "      <td>117</td>\n",
              "      <td>145</td>\n",
              "      <td>479.00</td>\n",
              "    </tr>\n",
              "    <tr>\n",
              "      <th>2</th>\n",
              "      <td>60</td>\n",
              "      <td>'2020/12/03'</td>\n",
              "      <td>103</td>\n",
              "      <td>135</td>\n",
              "      <td>340.00</td>\n",
              "    </tr>\n",
              "    <tr>\n",
              "      <th>3</th>\n",
              "      <td>45</td>\n",
              "      <td>'2020/12/04'</td>\n",
              "      <td>109</td>\n",
              "      <td>175</td>\n",
              "      <td>282.40</td>\n",
              "    </tr>\n",
              "    <tr>\n",
              "      <th>4</th>\n",
              "      <td>45</td>\n",
              "      <td>'2020/12/05'</td>\n",
              "      <td>117</td>\n",
              "      <td>148</td>\n",
              "      <td>406.00</td>\n",
              "    </tr>\n",
              "    <tr>\n",
              "      <th>5</th>\n",
              "      <td>60</td>\n",
              "      <td>'2020/12/06'</td>\n",
              "      <td>102</td>\n",
              "      <td>127</td>\n",
              "      <td>300.00</td>\n",
              "    </tr>\n",
              "    <tr>\n",
              "      <th>6</th>\n",
              "      <td>60</td>\n",
              "      <td>'2020/12/07'</td>\n",
              "      <td>110</td>\n",
              "      <td>136</td>\n",
              "      <td>374.00</td>\n",
              "    </tr>\n",
              "    <tr>\n",
              "      <th>7</th>\n",
              "      <td>450</td>\n",
              "      <td>'2020/12/08'</td>\n",
              "      <td>104</td>\n",
              "      <td>134</td>\n",
              "      <td>253.30</td>\n",
              "    </tr>\n",
              "    <tr>\n",
              "      <th>8</th>\n",
              "      <td>30</td>\n",
              "      <td>'2020/12/09'</td>\n",
              "      <td>109</td>\n",
              "      <td>133</td>\n",
              "      <td>195.10</td>\n",
              "    </tr>\n",
              "    <tr>\n",
              "      <th>9</th>\n",
              "      <td>60</td>\n",
              "      <td>'2020/12/10'</td>\n",
              "      <td>98</td>\n",
              "      <td>124</td>\n",
              "      <td>269.00</td>\n",
              "    </tr>\n",
              "    <tr>\n",
              "      <th>10</th>\n",
              "      <td>60</td>\n",
              "      <td>'2020/12/11'</td>\n",
              "      <td>103</td>\n",
              "      <td>147</td>\n",
              "      <td>329.30</td>\n",
              "    </tr>\n",
              "    <tr>\n",
              "      <th>11</th>\n",
              "      <td>60</td>\n",
              "      <td>'2020/12/12'</td>\n",
              "      <td>100</td>\n",
              "      <td>120</td>\n",
              "      <td>250.70</td>\n",
              "    </tr>\n",
              "    <tr>\n",
              "      <th>12</th>\n",
              "      <td>60</td>\n",
              "      <td>'2020/12/12'</td>\n",
              "      <td>100</td>\n",
              "      <td>120</td>\n",
              "      <td>250.70</td>\n",
              "    </tr>\n",
              "    <tr>\n",
              "      <th>13</th>\n",
              "      <td>60</td>\n",
              "      <td>'2020/12/13'</td>\n",
              "      <td>106</td>\n",
              "      <td>128</td>\n",
              "      <td>345.30</td>\n",
              "    </tr>\n",
              "    <tr>\n",
              "      <th>14</th>\n",
              "      <td>60</td>\n",
              "      <td>'2020/12/14'</td>\n",
              "      <td>104</td>\n",
              "      <td>132</td>\n",
              "      <td>379.30</td>\n",
              "    </tr>\n",
              "    <tr>\n",
              "      <th>15</th>\n",
              "      <td>60</td>\n",
              "      <td>'2020/12/15'</td>\n",
              "      <td>98</td>\n",
              "      <td>123</td>\n",
              "      <td>275.00</td>\n",
              "    </tr>\n",
              "    <tr>\n",
              "      <th>16</th>\n",
              "      <td>60</td>\n",
              "      <td>'2020/12/16'</td>\n",
              "      <td>98</td>\n",
              "      <td>120</td>\n",
              "      <td>215.20</td>\n",
              "    </tr>\n",
              "    <tr>\n",
              "      <th>17</th>\n",
              "      <td>60</td>\n",
              "      <td>'2020/12/17'</td>\n",
              "      <td>100</td>\n",
              "      <td>120</td>\n",
              "      <td>300.00</td>\n",
              "    </tr>\n",
              "    <tr>\n",
              "      <th>18</th>\n",
              "      <td>45</td>\n",
              "      <td>'2020/12/18'</td>\n",
              "      <td>90</td>\n",
              "      <td>112</td>\n",
              "      <td>304.68</td>\n",
              "    </tr>\n",
              "    <tr>\n",
              "      <th>19</th>\n",
              "      <td>60</td>\n",
              "      <td>'2020/12/19'</td>\n",
              "      <td>103</td>\n",
              "      <td>123</td>\n",
              "      <td>323.00</td>\n",
              "    </tr>\n",
              "    <tr>\n",
              "      <th>20</th>\n",
              "      <td>45</td>\n",
              "      <td>'2020/12/20'</td>\n",
              "      <td>97</td>\n",
              "      <td>125</td>\n",
              "      <td>243.00</td>\n",
              "    </tr>\n",
              "    <tr>\n",
              "      <th>21</th>\n",
              "      <td>60</td>\n",
              "      <td>'2020/12/21'</td>\n",
              "      <td>108</td>\n",
              "      <td>131</td>\n",
              "      <td>364.20</td>\n",
              "    </tr>\n",
              "    <tr>\n",
              "      <th>22</th>\n",
              "      <td>45</td>\n",
              "      <td>NaN</td>\n",
              "      <td>100</td>\n",
              "      <td>119</td>\n",
              "      <td>282.00</td>\n",
              "    </tr>\n",
              "    <tr>\n",
              "      <th>23</th>\n",
              "      <td>60</td>\n",
              "      <td>'2020/12/23'</td>\n",
              "      <td>130</td>\n",
              "      <td>101</td>\n",
              "      <td>300.00</td>\n",
              "    </tr>\n",
              "    <tr>\n",
              "      <th>24</th>\n",
              "      <td>45</td>\n",
              "      <td>'2020/12/24'</td>\n",
              "      <td>105</td>\n",
              "      <td>132</td>\n",
              "      <td>246.00</td>\n",
              "    </tr>\n",
              "    <tr>\n",
              "      <th>25</th>\n",
              "      <td>60</td>\n",
              "      <td>'2020/12/25'</td>\n",
              "      <td>102</td>\n",
              "      <td>126</td>\n",
              "      <td>334.50</td>\n",
              "    </tr>\n",
              "    <tr>\n",
              "      <th>26</th>\n",
              "      <td>60</td>\n",
              "      <td>20201226</td>\n",
              "      <td>100</td>\n",
              "      <td>120</td>\n",
              "      <td>250.00</td>\n",
              "    </tr>\n",
              "    <tr>\n",
              "      <th>27</th>\n",
              "      <td>60</td>\n",
              "      <td>'2020/12/27'</td>\n",
              "      <td>92</td>\n",
              "      <td>118</td>\n",
              "      <td>241.00</td>\n",
              "    </tr>\n",
              "    <tr>\n",
              "      <th>28</th>\n",
              "      <td>60</td>\n",
              "      <td>'2020/12/28'</td>\n",
              "      <td>103</td>\n",
              "      <td>132</td>\n",
              "      <td>304.68</td>\n",
              "    </tr>\n",
              "    <tr>\n",
              "      <th>29</th>\n",
              "      <td>60</td>\n",
              "      <td>'2020/12/29'</td>\n",
              "      <td>100</td>\n",
              "      <td>132</td>\n",
              "      <td>280.00</td>\n",
              "    </tr>\n",
              "    <tr>\n",
              "      <th>30</th>\n",
              "      <td>60</td>\n",
              "      <td>'2020/12/30'</td>\n",
              "      <td>102</td>\n",
              "      <td>129</td>\n",
              "      <td>380.30</td>\n",
              "    </tr>\n",
              "    <tr>\n",
              "      <th>31</th>\n",
              "      <td>60</td>\n",
              "      <td>'2020/12/31'</td>\n",
              "      <td>92</td>\n",
              "      <td>115</td>\n",
              "      <td>243.00</td>\n",
              "    </tr>\n",
              "  </tbody>\n",
              "</table>\n",
              "</div>\n",
              "      <button class=\"colab-df-convert\" onclick=\"convertToInteractive('df-1cc39622-752b-4de3-a31e-2a1165691ded')\"\n",
              "              title=\"Convert this dataframe to an interactive table.\"\n",
              "              style=\"display:none;\">\n",
              "        \n",
              "  <svg xmlns=\"http://www.w3.org/2000/svg\" height=\"24px\"viewBox=\"0 0 24 24\"\n",
              "       width=\"24px\">\n",
              "    <path d=\"M0 0h24v24H0V0z\" fill=\"none\"/>\n",
              "    <path d=\"M18.56 5.44l.94 2.06.94-2.06 2.06-.94-2.06-.94-.94-2.06-.94 2.06-2.06.94zm-11 1L8.5 8.5l.94-2.06 2.06-.94-2.06-.94L8.5 2.5l-.94 2.06-2.06.94zm10 10l.94 2.06.94-2.06 2.06-.94-2.06-.94-.94-2.06-.94 2.06-2.06.94z\"/><path d=\"M17.41 7.96l-1.37-1.37c-.4-.4-.92-.59-1.43-.59-.52 0-1.04.2-1.43.59L10.3 9.45l-7.72 7.72c-.78.78-.78 2.05 0 2.83L4 21.41c.39.39.9.59 1.41.59.51 0 1.02-.2 1.41-.59l7.78-7.78 2.81-2.81c.8-.78.8-2.07 0-2.86zM5.41 20L4 18.59l7.72-7.72 1.47 1.35L5.41 20z\"/>\n",
              "  </svg>\n",
              "      </button>\n",
              "      \n",
              "  <style>\n",
              "    .colab-df-container {\n",
              "      display:flex;\n",
              "      flex-wrap:wrap;\n",
              "      gap: 12px;\n",
              "    }\n",
              "\n",
              "    .colab-df-convert {\n",
              "      background-color: #E8F0FE;\n",
              "      border: none;\n",
              "      border-radius: 50%;\n",
              "      cursor: pointer;\n",
              "      display: none;\n",
              "      fill: #1967D2;\n",
              "      height: 32px;\n",
              "      padding: 0 0 0 0;\n",
              "      width: 32px;\n",
              "    }\n",
              "\n",
              "    .colab-df-convert:hover {\n",
              "      background-color: #E2EBFA;\n",
              "      box-shadow: 0px 1px 2px rgba(60, 64, 67, 0.3), 0px 1px 3px 1px rgba(60, 64, 67, 0.15);\n",
              "      fill: #174EA6;\n",
              "    }\n",
              "\n",
              "    [theme=dark] .colab-df-convert {\n",
              "      background-color: #3B4455;\n",
              "      fill: #D2E3FC;\n",
              "    }\n",
              "\n",
              "    [theme=dark] .colab-df-convert:hover {\n",
              "      background-color: #434B5C;\n",
              "      box-shadow: 0px 1px 3px 1px rgba(0, 0, 0, 0.15);\n",
              "      filter: drop-shadow(0px 1px 2px rgba(0, 0, 0, 0.3));\n",
              "      fill: #FFFFFF;\n",
              "    }\n",
              "  </style>\n",
              "\n",
              "      <script>\n",
              "        const buttonEl =\n",
              "          document.querySelector('#df-1cc39622-752b-4de3-a31e-2a1165691ded button.colab-df-convert');\n",
              "        buttonEl.style.display =\n",
              "          google.colab.kernel.accessAllowed ? 'block' : 'none';\n",
              "\n",
              "        async function convertToInteractive(key) {\n",
              "          const element = document.querySelector('#df-1cc39622-752b-4de3-a31e-2a1165691ded');\n",
              "          const dataTable =\n",
              "            await google.colab.kernel.invokeFunction('convertToInteractive',\n",
              "                                                     [key], {});\n",
              "          if (!dataTable) return;\n",
              "\n",
              "          const docLinkHtml = 'Like what you see? Visit the ' +\n",
              "            '<a target=\"_blank\" href=https://colab.research.google.com/notebooks/data_table.ipynb>data table notebook</a>'\n",
              "            + ' to learn more about interactive tables.';\n",
              "          element.innerHTML = '';\n",
              "          dataTable['output_type'] = 'display_data';\n",
              "          await google.colab.output.renderOutput(dataTable, element);\n",
              "          const docLink = document.createElement('div');\n",
              "          docLink.innerHTML = docLinkHtml;\n",
              "          element.appendChild(docLink);\n",
              "        }\n",
              "      </script>\n",
              "    </div>\n",
              "  </div>\n",
              "  "
            ]
          },
          "metadata": {},
          "execution_count": 22
        }
      ]
    },
    {
      "cell_type": "code",
      "source": [
        "dirtydata['Date']  = pd.to_datetime(dirtydata['Date'])"
      ],
      "metadata": {
        "id": "8wB0b-1AoG8A"
      },
      "execution_count": 24,
      "outputs": []
    },
    {
      "cell_type": "code",
      "source": [
        "print(dirtydata.to_string())"
      ],
      "metadata": {
        "id": "QWku2fmXoG5j",
        "outputId": "a696859e-c78c-4338-f8fd-0cc0b7da0600",
        "colab": {
          "base_uri": "https://localhost:8080/"
        }
      },
      "execution_count": 26,
      "outputs": [
        {
          "output_type": "stream",
          "name": "stdout",
          "text": [
            "    Duration       Date  Pulse  Maxpulse  Calories\n",
            "0         60 2020-12-01    110       130    409.10\n",
            "1         60 2020-12-02    117       145    479.00\n",
            "2         60 2020-12-03    103       135    340.00\n",
            "3         45 2020-12-04    109       175    282.40\n",
            "4         45 2020-12-05    117       148    406.00\n",
            "5         60 2020-12-06    102       127    300.00\n",
            "6         60 2020-12-07    110       136    374.00\n",
            "7        450 2020-12-08    104       134    253.30\n",
            "8         30 2020-12-09    109       133    195.10\n",
            "9         60 2020-12-10     98       124    269.00\n",
            "10        60 2020-12-11    103       147    329.30\n",
            "11        60 2020-12-12    100       120    250.70\n",
            "12        60 2020-12-12    100       120    250.70\n",
            "13        60 2020-12-13    106       128    345.30\n",
            "14        60 2020-12-14    104       132    379.30\n",
            "15        60 2020-12-15     98       123    275.00\n",
            "16        60 2020-12-16     98       120    215.20\n",
            "17        60 2020-12-17    100       120    300.00\n",
            "18        45 2020-12-18     90       112    304.68\n",
            "19        60 2020-12-19    103       123    323.00\n",
            "20        45 2020-12-20     97       125    243.00\n",
            "21        60 2020-12-21    108       131    364.20\n",
            "22        45        NaT    100       119    282.00\n",
            "23        60 2020-12-23    130       101    300.00\n",
            "24        45 2020-12-24    105       132    246.00\n",
            "25        60 2020-12-25    102       126    334.50\n",
            "26        60 2020-12-26    100       120    250.00\n",
            "27        60 2020-12-27     92       118    241.00\n",
            "28        60 2020-12-28    103       132    304.68\n",
            "29        60 2020-12-29    100       132    280.00\n",
            "30        60 2020-12-30    102       129    380.30\n",
            "31        60 2020-12-31     92       115    243.00\n"
          ]
        }
      ]
    },
    {
      "cell_type": "code",
      "source": [
        "dirtydata.loc[7,'Duration'] = 45"
      ],
      "metadata": {
        "id": "MwVqkn52oG3E"
      },
      "execution_count": 27,
      "outputs": []
    },
    {
      "cell_type": "code",
      "source": [
        "for x in dirtydata.index:\n",
        "  if dirtydata.loc[x, \"Duration\"] > 120:\n",
        "    dirtydata.loc[x, \"Duration\"] = 120"
      ],
      "metadata": {
        "id": "wLKxXgK5oG0g"
      },
      "execution_count": 30,
      "outputs": []
    },
    {
      "cell_type": "code",
      "source": [
        "dirtydata"
      ],
      "metadata": {
        "id": "LekFH9BtoGyU",
        "outputId": "72e4f8fb-70c5-4519-8479-f3d7028a171e",
        "colab": {
          "base_uri": "https://localhost:8080/",
          "height": 1000
        }
      },
      "execution_count": 31,
      "outputs": [
        {
          "output_type": "execute_result",
          "data": {
            "text/plain": [
              "    Duration       Date  Pulse  Maxpulse  Calories\n",
              "0         60 2020-12-01    110       130    409.10\n",
              "1         60 2020-12-02    117       145    479.00\n",
              "2         60 2020-12-03    103       135    340.00\n",
              "3         45 2020-12-04    109       175    282.40\n",
              "4         45 2020-12-05    117       148    406.00\n",
              "5         60 2020-12-06    102       127    300.00\n",
              "6         60 2020-12-07    110       136    374.00\n",
              "7         45 2020-12-08    104       134    253.30\n",
              "8         30 2020-12-09    109       133    195.10\n",
              "9         60 2020-12-10     98       124    269.00\n",
              "10        60 2020-12-11    103       147    329.30\n",
              "11        60 2020-12-12    100       120    250.70\n",
              "12        60 2020-12-12    100       120    250.70\n",
              "13        60 2020-12-13    106       128    345.30\n",
              "14        60 2020-12-14    104       132    379.30\n",
              "15        60 2020-12-15     98       123    275.00\n",
              "16        60 2020-12-16     98       120    215.20\n",
              "17        60 2020-12-17    100       120    300.00\n",
              "18        45 2020-12-18     90       112    304.68\n",
              "19        60 2020-12-19    103       123    323.00\n",
              "20        45 2020-12-20     97       125    243.00\n",
              "21        60 2020-12-21    108       131    364.20\n",
              "22        45        NaT    100       119    282.00\n",
              "23        60 2020-12-23    130       101    300.00\n",
              "24        45 2020-12-24    105       132    246.00\n",
              "25        60 2020-12-25    102       126    334.50\n",
              "26        60 2020-12-26    100       120    250.00\n",
              "27        60 2020-12-27     92       118    241.00\n",
              "28        60 2020-12-28    103       132    304.68\n",
              "29        60 2020-12-29    100       132    280.00\n",
              "30        60 2020-12-30    102       129    380.30\n",
              "31        60 2020-12-31     92       115    243.00"
            ],
            "text/html": [
              "\n",
              "  <div id=\"df-34c85fba-2657-4647-86f8-9f399166d88e\">\n",
              "    <div class=\"colab-df-container\">\n",
              "      <div>\n",
              "<style scoped>\n",
              "    .dataframe tbody tr th:only-of-type {\n",
              "        vertical-align: middle;\n",
              "    }\n",
              "\n",
              "    .dataframe tbody tr th {\n",
              "        vertical-align: top;\n",
              "    }\n",
              "\n",
              "    .dataframe thead th {\n",
              "        text-align: right;\n",
              "    }\n",
              "</style>\n",
              "<table border=\"1\" class=\"dataframe\">\n",
              "  <thead>\n",
              "    <tr style=\"text-align: right;\">\n",
              "      <th></th>\n",
              "      <th>Duration</th>\n",
              "      <th>Date</th>\n",
              "      <th>Pulse</th>\n",
              "      <th>Maxpulse</th>\n",
              "      <th>Calories</th>\n",
              "    </tr>\n",
              "  </thead>\n",
              "  <tbody>\n",
              "    <tr>\n",
              "      <th>0</th>\n",
              "      <td>60</td>\n",
              "      <td>2020-12-01</td>\n",
              "      <td>110</td>\n",
              "      <td>130</td>\n",
              "      <td>409.10</td>\n",
              "    </tr>\n",
              "    <tr>\n",
              "      <th>1</th>\n",
              "      <td>60</td>\n",
              "      <td>2020-12-02</td>\n",
              "      <td>117</td>\n",
              "      <td>145</td>\n",
              "      <td>479.00</td>\n",
              "    </tr>\n",
              "    <tr>\n",
              "      <th>2</th>\n",
              "      <td>60</td>\n",
              "      <td>2020-12-03</td>\n",
              "      <td>103</td>\n",
              "      <td>135</td>\n",
              "      <td>340.00</td>\n",
              "    </tr>\n",
              "    <tr>\n",
              "      <th>3</th>\n",
              "      <td>45</td>\n",
              "      <td>2020-12-04</td>\n",
              "      <td>109</td>\n",
              "      <td>175</td>\n",
              "      <td>282.40</td>\n",
              "    </tr>\n",
              "    <tr>\n",
              "      <th>4</th>\n",
              "      <td>45</td>\n",
              "      <td>2020-12-05</td>\n",
              "      <td>117</td>\n",
              "      <td>148</td>\n",
              "      <td>406.00</td>\n",
              "    </tr>\n",
              "    <tr>\n",
              "      <th>5</th>\n",
              "      <td>60</td>\n",
              "      <td>2020-12-06</td>\n",
              "      <td>102</td>\n",
              "      <td>127</td>\n",
              "      <td>300.00</td>\n",
              "    </tr>\n",
              "    <tr>\n",
              "      <th>6</th>\n",
              "      <td>60</td>\n",
              "      <td>2020-12-07</td>\n",
              "      <td>110</td>\n",
              "      <td>136</td>\n",
              "      <td>374.00</td>\n",
              "    </tr>\n",
              "    <tr>\n",
              "      <th>7</th>\n",
              "      <td>45</td>\n",
              "      <td>2020-12-08</td>\n",
              "      <td>104</td>\n",
              "      <td>134</td>\n",
              "      <td>253.30</td>\n",
              "    </tr>\n",
              "    <tr>\n",
              "      <th>8</th>\n",
              "      <td>30</td>\n",
              "      <td>2020-12-09</td>\n",
              "      <td>109</td>\n",
              "      <td>133</td>\n",
              "      <td>195.10</td>\n",
              "    </tr>\n",
              "    <tr>\n",
              "      <th>9</th>\n",
              "      <td>60</td>\n",
              "      <td>2020-12-10</td>\n",
              "      <td>98</td>\n",
              "      <td>124</td>\n",
              "      <td>269.00</td>\n",
              "    </tr>\n",
              "    <tr>\n",
              "      <th>10</th>\n",
              "      <td>60</td>\n",
              "      <td>2020-12-11</td>\n",
              "      <td>103</td>\n",
              "      <td>147</td>\n",
              "      <td>329.30</td>\n",
              "    </tr>\n",
              "    <tr>\n",
              "      <th>11</th>\n",
              "      <td>60</td>\n",
              "      <td>2020-12-12</td>\n",
              "      <td>100</td>\n",
              "      <td>120</td>\n",
              "      <td>250.70</td>\n",
              "    </tr>\n",
              "    <tr>\n",
              "      <th>12</th>\n",
              "      <td>60</td>\n",
              "      <td>2020-12-12</td>\n",
              "      <td>100</td>\n",
              "      <td>120</td>\n",
              "      <td>250.70</td>\n",
              "    </tr>\n",
              "    <tr>\n",
              "      <th>13</th>\n",
              "      <td>60</td>\n",
              "      <td>2020-12-13</td>\n",
              "      <td>106</td>\n",
              "      <td>128</td>\n",
              "      <td>345.30</td>\n",
              "    </tr>\n",
              "    <tr>\n",
              "      <th>14</th>\n",
              "      <td>60</td>\n",
              "      <td>2020-12-14</td>\n",
              "      <td>104</td>\n",
              "      <td>132</td>\n",
              "      <td>379.30</td>\n",
              "    </tr>\n",
              "    <tr>\n",
              "      <th>15</th>\n",
              "      <td>60</td>\n",
              "      <td>2020-12-15</td>\n",
              "      <td>98</td>\n",
              "      <td>123</td>\n",
              "      <td>275.00</td>\n",
              "    </tr>\n",
              "    <tr>\n",
              "      <th>16</th>\n",
              "      <td>60</td>\n",
              "      <td>2020-12-16</td>\n",
              "      <td>98</td>\n",
              "      <td>120</td>\n",
              "      <td>215.20</td>\n",
              "    </tr>\n",
              "    <tr>\n",
              "      <th>17</th>\n",
              "      <td>60</td>\n",
              "      <td>2020-12-17</td>\n",
              "      <td>100</td>\n",
              "      <td>120</td>\n",
              "      <td>300.00</td>\n",
              "    </tr>\n",
              "    <tr>\n",
              "      <th>18</th>\n",
              "      <td>45</td>\n",
              "      <td>2020-12-18</td>\n",
              "      <td>90</td>\n",
              "      <td>112</td>\n",
              "      <td>304.68</td>\n",
              "    </tr>\n",
              "    <tr>\n",
              "      <th>19</th>\n",
              "      <td>60</td>\n",
              "      <td>2020-12-19</td>\n",
              "      <td>103</td>\n",
              "      <td>123</td>\n",
              "      <td>323.00</td>\n",
              "    </tr>\n",
              "    <tr>\n",
              "      <th>20</th>\n",
              "      <td>45</td>\n",
              "      <td>2020-12-20</td>\n",
              "      <td>97</td>\n",
              "      <td>125</td>\n",
              "      <td>243.00</td>\n",
              "    </tr>\n",
              "    <tr>\n",
              "      <th>21</th>\n",
              "      <td>60</td>\n",
              "      <td>2020-12-21</td>\n",
              "      <td>108</td>\n",
              "      <td>131</td>\n",
              "      <td>364.20</td>\n",
              "    </tr>\n",
              "    <tr>\n",
              "      <th>22</th>\n",
              "      <td>45</td>\n",
              "      <td>NaT</td>\n",
              "      <td>100</td>\n",
              "      <td>119</td>\n",
              "      <td>282.00</td>\n",
              "    </tr>\n",
              "    <tr>\n",
              "      <th>23</th>\n",
              "      <td>60</td>\n",
              "      <td>2020-12-23</td>\n",
              "      <td>130</td>\n",
              "      <td>101</td>\n",
              "      <td>300.00</td>\n",
              "    </tr>\n",
              "    <tr>\n",
              "      <th>24</th>\n",
              "      <td>45</td>\n",
              "      <td>2020-12-24</td>\n",
              "      <td>105</td>\n",
              "      <td>132</td>\n",
              "      <td>246.00</td>\n",
              "    </tr>\n",
              "    <tr>\n",
              "      <th>25</th>\n",
              "      <td>60</td>\n",
              "      <td>2020-12-25</td>\n",
              "      <td>102</td>\n",
              "      <td>126</td>\n",
              "      <td>334.50</td>\n",
              "    </tr>\n",
              "    <tr>\n",
              "      <th>26</th>\n",
              "      <td>60</td>\n",
              "      <td>2020-12-26</td>\n",
              "      <td>100</td>\n",
              "      <td>120</td>\n",
              "      <td>250.00</td>\n",
              "    </tr>\n",
              "    <tr>\n",
              "      <th>27</th>\n",
              "      <td>60</td>\n",
              "      <td>2020-12-27</td>\n",
              "      <td>92</td>\n",
              "      <td>118</td>\n",
              "      <td>241.00</td>\n",
              "    </tr>\n",
              "    <tr>\n",
              "      <th>28</th>\n",
              "      <td>60</td>\n",
              "      <td>2020-12-28</td>\n",
              "      <td>103</td>\n",
              "      <td>132</td>\n",
              "      <td>304.68</td>\n",
              "    </tr>\n",
              "    <tr>\n",
              "      <th>29</th>\n",
              "      <td>60</td>\n",
              "      <td>2020-12-29</td>\n",
              "      <td>100</td>\n",
              "      <td>132</td>\n",
              "      <td>280.00</td>\n",
              "    </tr>\n",
              "    <tr>\n",
              "      <th>30</th>\n",
              "      <td>60</td>\n",
              "      <td>2020-12-30</td>\n",
              "      <td>102</td>\n",
              "      <td>129</td>\n",
              "      <td>380.30</td>\n",
              "    </tr>\n",
              "    <tr>\n",
              "      <th>31</th>\n",
              "      <td>60</td>\n",
              "      <td>2020-12-31</td>\n",
              "      <td>92</td>\n",
              "      <td>115</td>\n",
              "      <td>243.00</td>\n",
              "    </tr>\n",
              "  </tbody>\n",
              "</table>\n",
              "</div>\n",
              "      <button class=\"colab-df-convert\" onclick=\"convertToInteractive('df-34c85fba-2657-4647-86f8-9f399166d88e')\"\n",
              "              title=\"Convert this dataframe to an interactive table.\"\n",
              "              style=\"display:none;\">\n",
              "        \n",
              "  <svg xmlns=\"http://www.w3.org/2000/svg\" height=\"24px\"viewBox=\"0 0 24 24\"\n",
              "       width=\"24px\">\n",
              "    <path d=\"M0 0h24v24H0V0z\" fill=\"none\"/>\n",
              "    <path d=\"M18.56 5.44l.94 2.06.94-2.06 2.06-.94-2.06-.94-.94-2.06-.94 2.06-2.06.94zm-11 1L8.5 8.5l.94-2.06 2.06-.94-2.06-.94L8.5 2.5l-.94 2.06-2.06.94zm10 10l.94 2.06.94-2.06 2.06-.94-2.06-.94-.94-2.06-.94 2.06-2.06.94z\"/><path d=\"M17.41 7.96l-1.37-1.37c-.4-.4-.92-.59-1.43-.59-.52 0-1.04.2-1.43.59L10.3 9.45l-7.72 7.72c-.78.78-.78 2.05 0 2.83L4 21.41c.39.39.9.59 1.41.59.51 0 1.02-.2 1.41-.59l7.78-7.78 2.81-2.81c.8-.78.8-2.07 0-2.86zM5.41 20L4 18.59l7.72-7.72 1.47 1.35L5.41 20z\"/>\n",
              "  </svg>\n",
              "      </button>\n",
              "      \n",
              "  <style>\n",
              "    .colab-df-container {\n",
              "      display:flex;\n",
              "      flex-wrap:wrap;\n",
              "      gap: 12px;\n",
              "    }\n",
              "\n",
              "    .colab-df-convert {\n",
              "      background-color: #E8F0FE;\n",
              "      border: none;\n",
              "      border-radius: 50%;\n",
              "      cursor: pointer;\n",
              "      display: none;\n",
              "      fill: #1967D2;\n",
              "      height: 32px;\n",
              "      padding: 0 0 0 0;\n",
              "      width: 32px;\n",
              "    }\n",
              "\n",
              "    .colab-df-convert:hover {\n",
              "      background-color: #E2EBFA;\n",
              "      box-shadow: 0px 1px 2px rgba(60, 64, 67, 0.3), 0px 1px 3px 1px rgba(60, 64, 67, 0.15);\n",
              "      fill: #174EA6;\n",
              "    }\n",
              "\n",
              "    [theme=dark] .colab-df-convert {\n",
              "      background-color: #3B4455;\n",
              "      fill: #D2E3FC;\n",
              "    }\n",
              "\n",
              "    [theme=dark] .colab-df-convert:hover {\n",
              "      background-color: #434B5C;\n",
              "      box-shadow: 0px 1px 3px 1px rgba(0, 0, 0, 0.15);\n",
              "      filter: drop-shadow(0px 1px 2px rgba(0, 0, 0, 0.3));\n",
              "      fill: #FFFFFF;\n",
              "    }\n",
              "  </style>\n",
              "\n",
              "      <script>\n",
              "        const buttonEl =\n",
              "          document.querySelector('#df-34c85fba-2657-4647-86f8-9f399166d88e button.colab-df-convert');\n",
              "        buttonEl.style.display =\n",
              "          google.colab.kernel.accessAllowed ? 'block' : 'none';\n",
              "\n",
              "        async function convertToInteractive(key) {\n",
              "          const element = document.querySelector('#df-34c85fba-2657-4647-86f8-9f399166d88e');\n",
              "          const dataTable =\n",
              "            await google.colab.kernel.invokeFunction('convertToInteractive',\n",
              "                                                     [key], {});\n",
              "          if (!dataTable) return;\n",
              "\n",
              "          const docLinkHtml = 'Like what you see? Visit the ' +\n",
              "            '<a target=\"_blank\" href=https://colab.research.google.com/notebooks/data_table.ipynb>data table notebook</a>'\n",
              "            + ' to learn more about interactive tables.';\n",
              "          element.innerHTML = '';\n",
              "          dataTable['output_type'] = 'display_data';\n",
              "          await google.colab.output.renderOutput(dataTable, element);\n",
              "          const docLink = document.createElement('div');\n",
              "          docLink.innerHTML = docLinkHtml;\n",
              "          element.appendChild(docLink);\n",
              "        }\n",
              "      </script>\n",
              "    </div>\n",
              "  </div>\n",
              "  "
            ]
          },
          "metadata": {},
          "execution_count": 31
        }
      ]
    },
    {
      "cell_type": "code",
      "source": [
        "dirtydata.duplicated()"
      ],
      "metadata": {
        "id": "tPfoDDcGoGvi",
        "outputId": "6a629ccd-cfb3-4e93-9e39-173e88dd6079",
        "colab": {
          "base_uri": "https://localhost:8080/"
        }
      },
      "execution_count": 32,
      "outputs": [
        {
          "output_type": "execute_result",
          "data": {
            "text/plain": [
              "0     False\n",
              "1     False\n",
              "2     False\n",
              "3     False\n",
              "4     False\n",
              "5     False\n",
              "6     False\n",
              "7     False\n",
              "8     False\n",
              "9     False\n",
              "10    False\n",
              "11    False\n",
              "12     True\n",
              "13    False\n",
              "14    False\n",
              "15    False\n",
              "16    False\n",
              "17    False\n",
              "18    False\n",
              "19    False\n",
              "20    False\n",
              "21    False\n",
              "22    False\n",
              "23    False\n",
              "24    False\n",
              "25    False\n",
              "26    False\n",
              "27    False\n",
              "28    False\n",
              "29    False\n",
              "30    False\n",
              "31    False\n",
              "dtype: bool"
            ]
          },
          "metadata": {},
          "execution_count": 32
        }
      ]
    },
    {
      "cell_type": "code",
      "source": [
        "dirtydata.drop(dirtydata.index[12])"
      ],
      "metadata": {
        "id": "Eh4NSc_FoGs_",
        "outputId": "17b7523d-f2a9-4581-92d5-48a82bc4040a",
        "colab": {
          "base_uri": "https://localhost:8080/",
          "height": 1000
        }
      },
      "execution_count": 34,
      "outputs": [
        {
          "output_type": "execute_result",
          "data": {
            "text/plain": [
              "    Duration       Date  Pulse  Maxpulse  Calories\n",
              "0         60 2020-12-01    110       130    409.10\n",
              "1         60 2020-12-02    117       145    479.00\n",
              "2         60 2020-12-03    103       135    340.00\n",
              "3         45 2020-12-04    109       175    282.40\n",
              "4         45 2020-12-05    117       148    406.00\n",
              "5         60 2020-12-06    102       127    300.00\n",
              "6         60 2020-12-07    110       136    374.00\n",
              "7         45 2020-12-08    104       134    253.30\n",
              "8         30 2020-12-09    109       133    195.10\n",
              "9         60 2020-12-10     98       124    269.00\n",
              "10        60 2020-12-11    103       147    329.30\n",
              "11        60 2020-12-12    100       120    250.70\n",
              "13        60 2020-12-13    106       128    345.30\n",
              "14        60 2020-12-14    104       132    379.30\n",
              "15        60 2020-12-15     98       123    275.00\n",
              "16        60 2020-12-16     98       120    215.20\n",
              "17        60 2020-12-17    100       120    300.00\n",
              "18        45 2020-12-18     90       112    304.68\n",
              "19        60 2020-12-19    103       123    323.00\n",
              "20        45 2020-12-20     97       125    243.00\n",
              "21        60 2020-12-21    108       131    364.20\n",
              "22        45        NaT    100       119    282.00\n",
              "23        60 2020-12-23    130       101    300.00\n",
              "24        45 2020-12-24    105       132    246.00\n",
              "25        60 2020-12-25    102       126    334.50\n",
              "26        60 2020-12-26    100       120    250.00\n",
              "27        60 2020-12-27     92       118    241.00\n",
              "28        60 2020-12-28    103       132    304.68\n",
              "29        60 2020-12-29    100       132    280.00\n",
              "30        60 2020-12-30    102       129    380.30\n",
              "31        60 2020-12-31     92       115    243.00"
            ],
            "text/html": [
              "\n",
              "  <div id=\"df-77f03949-7f78-4b77-8c35-27be6b54bb3b\">\n",
              "    <div class=\"colab-df-container\">\n",
              "      <div>\n",
              "<style scoped>\n",
              "    .dataframe tbody tr th:only-of-type {\n",
              "        vertical-align: middle;\n",
              "    }\n",
              "\n",
              "    .dataframe tbody tr th {\n",
              "        vertical-align: top;\n",
              "    }\n",
              "\n",
              "    .dataframe thead th {\n",
              "        text-align: right;\n",
              "    }\n",
              "</style>\n",
              "<table border=\"1\" class=\"dataframe\">\n",
              "  <thead>\n",
              "    <tr style=\"text-align: right;\">\n",
              "      <th></th>\n",
              "      <th>Duration</th>\n",
              "      <th>Date</th>\n",
              "      <th>Pulse</th>\n",
              "      <th>Maxpulse</th>\n",
              "      <th>Calories</th>\n",
              "    </tr>\n",
              "  </thead>\n",
              "  <tbody>\n",
              "    <tr>\n",
              "      <th>0</th>\n",
              "      <td>60</td>\n",
              "      <td>2020-12-01</td>\n",
              "      <td>110</td>\n",
              "      <td>130</td>\n",
              "      <td>409.10</td>\n",
              "    </tr>\n",
              "    <tr>\n",
              "      <th>1</th>\n",
              "      <td>60</td>\n",
              "      <td>2020-12-02</td>\n",
              "      <td>117</td>\n",
              "      <td>145</td>\n",
              "      <td>479.00</td>\n",
              "    </tr>\n",
              "    <tr>\n",
              "      <th>2</th>\n",
              "      <td>60</td>\n",
              "      <td>2020-12-03</td>\n",
              "      <td>103</td>\n",
              "      <td>135</td>\n",
              "      <td>340.00</td>\n",
              "    </tr>\n",
              "    <tr>\n",
              "      <th>3</th>\n",
              "      <td>45</td>\n",
              "      <td>2020-12-04</td>\n",
              "      <td>109</td>\n",
              "      <td>175</td>\n",
              "      <td>282.40</td>\n",
              "    </tr>\n",
              "    <tr>\n",
              "      <th>4</th>\n",
              "      <td>45</td>\n",
              "      <td>2020-12-05</td>\n",
              "      <td>117</td>\n",
              "      <td>148</td>\n",
              "      <td>406.00</td>\n",
              "    </tr>\n",
              "    <tr>\n",
              "      <th>5</th>\n",
              "      <td>60</td>\n",
              "      <td>2020-12-06</td>\n",
              "      <td>102</td>\n",
              "      <td>127</td>\n",
              "      <td>300.00</td>\n",
              "    </tr>\n",
              "    <tr>\n",
              "      <th>6</th>\n",
              "      <td>60</td>\n",
              "      <td>2020-12-07</td>\n",
              "      <td>110</td>\n",
              "      <td>136</td>\n",
              "      <td>374.00</td>\n",
              "    </tr>\n",
              "    <tr>\n",
              "      <th>7</th>\n",
              "      <td>45</td>\n",
              "      <td>2020-12-08</td>\n",
              "      <td>104</td>\n",
              "      <td>134</td>\n",
              "      <td>253.30</td>\n",
              "    </tr>\n",
              "    <tr>\n",
              "      <th>8</th>\n",
              "      <td>30</td>\n",
              "      <td>2020-12-09</td>\n",
              "      <td>109</td>\n",
              "      <td>133</td>\n",
              "      <td>195.10</td>\n",
              "    </tr>\n",
              "    <tr>\n",
              "      <th>9</th>\n",
              "      <td>60</td>\n",
              "      <td>2020-12-10</td>\n",
              "      <td>98</td>\n",
              "      <td>124</td>\n",
              "      <td>269.00</td>\n",
              "    </tr>\n",
              "    <tr>\n",
              "      <th>10</th>\n",
              "      <td>60</td>\n",
              "      <td>2020-12-11</td>\n",
              "      <td>103</td>\n",
              "      <td>147</td>\n",
              "      <td>329.30</td>\n",
              "    </tr>\n",
              "    <tr>\n",
              "      <th>11</th>\n",
              "      <td>60</td>\n",
              "      <td>2020-12-12</td>\n",
              "      <td>100</td>\n",
              "      <td>120</td>\n",
              "      <td>250.70</td>\n",
              "    </tr>\n",
              "    <tr>\n",
              "      <th>13</th>\n",
              "      <td>60</td>\n",
              "      <td>2020-12-13</td>\n",
              "      <td>106</td>\n",
              "      <td>128</td>\n",
              "      <td>345.30</td>\n",
              "    </tr>\n",
              "    <tr>\n",
              "      <th>14</th>\n",
              "      <td>60</td>\n",
              "      <td>2020-12-14</td>\n",
              "      <td>104</td>\n",
              "      <td>132</td>\n",
              "      <td>379.30</td>\n",
              "    </tr>\n",
              "    <tr>\n",
              "      <th>15</th>\n",
              "      <td>60</td>\n",
              "      <td>2020-12-15</td>\n",
              "      <td>98</td>\n",
              "      <td>123</td>\n",
              "      <td>275.00</td>\n",
              "    </tr>\n",
              "    <tr>\n",
              "      <th>16</th>\n",
              "      <td>60</td>\n",
              "      <td>2020-12-16</td>\n",
              "      <td>98</td>\n",
              "      <td>120</td>\n",
              "      <td>215.20</td>\n",
              "    </tr>\n",
              "    <tr>\n",
              "      <th>17</th>\n",
              "      <td>60</td>\n",
              "      <td>2020-12-17</td>\n",
              "      <td>100</td>\n",
              "      <td>120</td>\n",
              "      <td>300.00</td>\n",
              "    </tr>\n",
              "    <tr>\n",
              "      <th>18</th>\n",
              "      <td>45</td>\n",
              "      <td>2020-12-18</td>\n",
              "      <td>90</td>\n",
              "      <td>112</td>\n",
              "      <td>304.68</td>\n",
              "    </tr>\n",
              "    <tr>\n",
              "      <th>19</th>\n",
              "      <td>60</td>\n",
              "      <td>2020-12-19</td>\n",
              "      <td>103</td>\n",
              "      <td>123</td>\n",
              "      <td>323.00</td>\n",
              "    </tr>\n",
              "    <tr>\n",
              "      <th>20</th>\n",
              "      <td>45</td>\n",
              "      <td>2020-12-20</td>\n",
              "      <td>97</td>\n",
              "      <td>125</td>\n",
              "      <td>243.00</td>\n",
              "    </tr>\n",
              "    <tr>\n",
              "      <th>21</th>\n",
              "      <td>60</td>\n",
              "      <td>2020-12-21</td>\n",
              "      <td>108</td>\n",
              "      <td>131</td>\n",
              "      <td>364.20</td>\n",
              "    </tr>\n",
              "    <tr>\n",
              "      <th>22</th>\n",
              "      <td>45</td>\n",
              "      <td>NaT</td>\n",
              "      <td>100</td>\n",
              "      <td>119</td>\n",
              "      <td>282.00</td>\n",
              "    </tr>\n",
              "    <tr>\n",
              "      <th>23</th>\n",
              "      <td>60</td>\n",
              "      <td>2020-12-23</td>\n",
              "      <td>130</td>\n",
              "      <td>101</td>\n",
              "      <td>300.00</td>\n",
              "    </tr>\n",
              "    <tr>\n",
              "      <th>24</th>\n",
              "      <td>45</td>\n",
              "      <td>2020-12-24</td>\n",
              "      <td>105</td>\n",
              "      <td>132</td>\n",
              "      <td>246.00</td>\n",
              "    </tr>\n",
              "    <tr>\n",
              "      <th>25</th>\n",
              "      <td>60</td>\n",
              "      <td>2020-12-25</td>\n",
              "      <td>102</td>\n",
              "      <td>126</td>\n",
              "      <td>334.50</td>\n",
              "    </tr>\n",
              "    <tr>\n",
              "      <th>26</th>\n",
              "      <td>60</td>\n",
              "      <td>2020-12-26</td>\n",
              "      <td>100</td>\n",
              "      <td>120</td>\n",
              "      <td>250.00</td>\n",
              "    </tr>\n",
              "    <tr>\n",
              "      <th>27</th>\n",
              "      <td>60</td>\n",
              "      <td>2020-12-27</td>\n",
              "      <td>92</td>\n",
              "      <td>118</td>\n",
              "      <td>241.00</td>\n",
              "    </tr>\n",
              "    <tr>\n",
              "      <th>28</th>\n",
              "      <td>60</td>\n",
              "      <td>2020-12-28</td>\n",
              "      <td>103</td>\n",
              "      <td>132</td>\n",
              "      <td>304.68</td>\n",
              "    </tr>\n",
              "    <tr>\n",
              "      <th>29</th>\n",
              "      <td>60</td>\n",
              "      <td>2020-12-29</td>\n",
              "      <td>100</td>\n",
              "      <td>132</td>\n",
              "      <td>280.00</td>\n",
              "    </tr>\n",
              "    <tr>\n",
              "      <th>30</th>\n",
              "      <td>60</td>\n",
              "      <td>2020-12-30</td>\n",
              "      <td>102</td>\n",
              "      <td>129</td>\n",
              "      <td>380.30</td>\n",
              "    </tr>\n",
              "    <tr>\n",
              "      <th>31</th>\n",
              "      <td>60</td>\n",
              "      <td>2020-12-31</td>\n",
              "      <td>92</td>\n",
              "      <td>115</td>\n",
              "      <td>243.00</td>\n",
              "    </tr>\n",
              "  </tbody>\n",
              "</table>\n",
              "</div>\n",
              "      <button class=\"colab-df-convert\" onclick=\"convertToInteractive('df-77f03949-7f78-4b77-8c35-27be6b54bb3b')\"\n",
              "              title=\"Convert this dataframe to an interactive table.\"\n",
              "              style=\"display:none;\">\n",
              "        \n",
              "  <svg xmlns=\"http://www.w3.org/2000/svg\" height=\"24px\"viewBox=\"0 0 24 24\"\n",
              "       width=\"24px\">\n",
              "    <path d=\"M0 0h24v24H0V0z\" fill=\"none\"/>\n",
              "    <path d=\"M18.56 5.44l.94 2.06.94-2.06 2.06-.94-2.06-.94-.94-2.06-.94 2.06-2.06.94zm-11 1L8.5 8.5l.94-2.06 2.06-.94-2.06-.94L8.5 2.5l-.94 2.06-2.06.94zm10 10l.94 2.06.94-2.06 2.06-.94-2.06-.94-.94-2.06-.94 2.06-2.06.94z\"/><path d=\"M17.41 7.96l-1.37-1.37c-.4-.4-.92-.59-1.43-.59-.52 0-1.04.2-1.43.59L10.3 9.45l-7.72 7.72c-.78.78-.78 2.05 0 2.83L4 21.41c.39.39.9.59 1.41.59.51 0 1.02-.2 1.41-.59l7.78-7.78 2.81-2.81c.8-.78.8-2.07 0-2.86zM5.41 20L4 18.59l7.72-7.72 1.47 1.35L5.41 20z\"/>\n",
              "  </svg>\n",
              "      </button>\n",
              "      \n",
              "  <style>\n",
              "    .colab-df-container {\n",
              "      display:flex;\n",
              "      flex-wrap:wrap;\n",
              "      gap: 12px;\n",
              "    }\n",
              "\n",
              "    .colab-df-convert {\n",
              "      background-color: #E8F0FE;\n",
              "      border: none;\n",
              "      border-radius: 50%;\n",
              "      cursor: pointer;\n",
              "      display: none;\n",
              "      fill: #1967D2;\n",
              "      height: 32px;\n",
              "      padding: 0 0 0 0;\n",
              "      width: 32px;\n",
              "    }\n",
              "\n",
              "    .colab-df-convert:hover {\n",
              "      background-color: #E2EBFA;\n",
              "      box-shadow: 0px 1px 2px rgba(60, 64, 67, 0.3), 0px 1px 3px 1px rgba(60, 64, 67, 0.15);\n",
              "      fill: #174EA6;\n",
              "    }\n",
              "\n",
              "    [theme=dark] .colab-df-convert {\n",
              "      background-color: #3B4455;\n",
              "      fill: #D2E3FC;\n",
              "    }\n",
              "\n",
              "    [theme=dark] .colab-df-convert:hover {\n",
              "      background-color: #434B5C;\n",
              "      box-shadow: 0px 1px 3px 1px rgba(0, 0, 0, 0.15);\n",
              "      filter: drop-shadow(0px 1px 2px rgba(0, 0, 0, 0.3));\n",
              "      fill: #FFFFFF;\n",
              "    }\n",
              "  </style>\n",
              "\n",
              "      <script>\n",
              "        const buttonEl =\n",
              "          document.querySelector('#df-77f03949-7f78-4b77-8c35-27be6b54bb3b button.colab-df-convert');\n",
              "        buttonEl.style.display =\n",
              "          google.colab.kernel.accessAllowed ? 'block' : 'none';\n",
              "\n",
              "        async function convertToInteractive(key) {\n",
              "          const element = document.querySelector('#df-77f03949-7f78-4b77-8c35-27be6b54bb3b');\n",
              "          const dataTable =\n",
              "            await google.colab.kernel.invokeFunction('convertToInteractive',\n",
              "                                                     [key], {});\n",
              "          if (!dataTable) return;\n",
              "\n",
              "          const docLinkHtml = 'Like what you see? Visit the ' +\n",
              "            '<a target=\"_blank\" href=https://colab.research.google.com/notebooks/data_table.ipynb>data table notebook</a>'\n",
              "            + ' to learn more about interactive tables.';\n",
              "          element.innerHTML = '';\n",
              "          dataTable['output_type'] = 'display_data';\n",
              "          await google.colab.output.renderOutput(dataTable, element);\n",
              "          const docLink = document.createElement('div');\n",
              "          docLink.innerHTML = docLinkHtml;\n",
              "          element.appendChild(docLink);\n",
              "        }\n",
              "      </script>\n",
              "    </div>\n",
              "  </div>\n",
              "  "
            ]
          },
          "metadata": {},
          "execution_count": 34
        }
      ]
    },
    {
      "cell_type": "code",
      "source": [
        "dirtydata.corr()"
      ],
      "metadata": {
        "id": "1equ6EgVoGqe",
        "outputId": "c2d4e9c4-e1c8-49b4-83fb-3006e37ae28f",
        "colab": {
          "base_uri": "https://localhost:8080/",
          "height": 175
        }
      },
      "execution_count": 35,
      "outputs": [
        {
          "output_type": "execute_result",
          "data": {
            "text/plain": [
              "          Duration     Pulse  Maxpulse  Calories\n",
              "Duration  1.000000 -0.066974 -0.258764  0.323423\n",
              "Pulse    -0.066974  1.000000  0.276583  0.487017\n",
              "Maxpulse -0.258764  0.276583  1.000000  0.347419\n",
              "Calories  0.323423  0.487017  0.347419  1.000000"
            ],
            "text/html": [
              "\n",
              "  <div id=\"df-01f89646-6d12-4540-ad89-b2c7ffe700f7\">\n",
              "    <div class=\"colab-df-container\">\n",
              "      <div>\n",
              "<style scoped>\n",
              "    .dataframe tbody tr th:only-of-type {\n",
              "        vertical-align: middle;\n",
              "    }\n",
              "\n",
              "    .dataframe tbody tr th {\n",
              "        vertical-align: top;\n",
              "    }\n",
              "\n",
              "    .dataframe thead th {\n",
              "        text-align: right;\n",
              "    }\n",
              "</style>\n",
              "<table border=\"1\" class=\"dataframe\">\n",
              "  <thead>\n",
              "    <tr style=\"text-align: right;\">\n",
              "      <th></th>\n",
              "      <th>Duration</th>\n",
              "      <th>Pulse</th>\n",
              "      <th>Maxpulse</th>\n",
              "      <th>Calories</th>\n",
              "    </tr>\n",
              "  </thead>\n",
              "  <tbody>\n",
              "    <tr>\n",
              "      <th>Duration</th>\n",
              "      <td>1.000000</td>\n",
              "      <td>-0.066974</td>\n",
              "      <td>-0.258764</td>\n",
              "      <td>0.323423</td>\n",
              "    </tr>\n",
              "    <tr>\n",
              "      <th>Pulse</th>\n",
              "      <td>-0.066974</td>\n",
              "      <td>1.000000</td>\n",
              "      <td>0.276583</td>\n",
              "      <td>0.487017</td>\n",
              "    </tr>\n",
              "    <tr>\n",
              "      <th>Maxpulse</th>\n",
              "      <td>-0.258764</td>\n",
              "      <td>0.276583</td>\n",
              "      <td>1.000000</td>\n",
              "      <td>0.347419</td>\n",
              "    </tr>\n",
              "    <tr>\n",
              "      <th>Calories</th>\n",
              "      <td>0.323423</td>\n",
              "      <td>0.487017</td>\n",
              "      <td>0.347419</td>\n",
              "      <td>1.000000</td>\n",
              "    </tr>\n",
              "  </tbody>\n",
              "</table>\n",
              "</div>\n",
              "      <button class=\"colab-df-convert\" onclick=\"convertToInteractive('df-01f89646-6d12-4540-ad89-b2c7ffe700f7')\"\n",
              "              title=\"Convert this dataframe to an interactive table.\"\n",
              "              style=\"display:none;\">\n",
              "        \n",
              "  <svg xmlns=\"http://www.w3.org/2000/svg\" height=\"24px\"viewBox=\"0 0 24 24\"\n",
              "       width=\"24px\">\n",
              "    <path d=\"M0 0h24v24H0V0z\" fill=\"none\"/>\n",
              "    <path d=\"M18.56 5.44l.94 2.06.94-2.06 2.06-.94-2.06-.94-.94-2.06-.94 2.06-2.06.94zm-11 1L8.5 8.5l.94-2.06 2.06-.94-2.06-.94L8.5 2.5l-.94 2.06-2.06.94zm10 10l.94 2.06.94-2.06 2.06-.94-2.06-.94-.94-2.06-.94 2.06-2.06.94z\"/><path d=\"M17.41 7.96l-1.37-1.37c-.4-.4-.92-.59-1.43-.59-.52 0-1.04.2-1.43.59L10.3 9.45l-7.72 7.72c-.78.78-.78 2.05 0 2.83L4 21.41c.39.39.9.59 1.41.59.51 0 1.02-.2 1.41-.59l7.78-7.78 2.81-2.81c.8-.78.8-2.07 0-2.86zM5.41 20L4 18.59l7.72-7.72 1.47 1.35L5.41 20z\"/>\n",
              "  </svg>\n",
              "      </button>\n",
              "      \n",
              "  <style>\n",
              "    .colab-df-container {\n",
              "      display:flex;\n",
              "      flex-wrap:wrap;\n",
              "      gap: 12px;\n",
              "    }\n",
              "\n",
              "    .colab-df-convert {\n",
              "      background-color: #E8F0FE;\n",
              "      border: none;\n",
              "      border-radius: 50%;\n",
              "      cursor: pointer;\n",
              "      display: none;\n",
              "      fill: #1967D2;\n",
              "      height: 32px;\n",
              "      padding: 0 0 0 0;\n",
              "      width: 32px;\n",
              "    }\n",
              "\n",
              "    .colab-df-convert:hover {\n",
              "      background-color: #E2EBFA;\n",
              "      box-shadow: 0px 1px 2px rgba(60, 64, 67, 0.3), 0px 1px 3px 1px rgba(60, 64, 67, 0.15);\n",
              "      fill: #174EA6;\n",
              "    }\n",
              "\n",
              "    [theme=dark] .colab-df-convert {\n",
              "      background-color: #3B4455;\n",
              "      fill: #D2E3FC;\n",
              "    }\n",
              "\n",
              "    [theme=dark] .colab-df-convert:hover {\n",
              "      background-color: #434B5C;\n",
              "      box-shadow: 0px 1px 3px 1px rgba(0, 0, 0, 0.15);\n",
              "      filter: drop-shadow(0px 1px 2px rgba(0, 0, 0, 0.3));\n",
              "      fill: #FFFFFF;\n",
              "    }\n",
              "  </style>\n",
              "\n",
              "      <script>\n",
              "        const buttonEl =\n",
              "          document.querySelector('#df-01f89646-6d12-4540-ad89-b2c7ffe700f7 button.colab-df-convert');\n",
              "        buttonEl.style.display =\n",
              "          google.colab.kernel.accessAllowed ? 'block' : 'none';\n",
              "\n",
              "        async function convertToInteractive(key) {\n",
              "          const element = document.querySelector('#df-01f89646-6d12-4540-ad89-b2c7ffe700f7');\n",
              "          const dataTable =\n",
              "            await google.colab.kernel.invokeFunction('convertToInteractive',\n",
              "                                                     [key], {});\n",
              "          if (!dataTable) return;\n",
              "\n",
              "          const docLinkHtml = 'Like what you see? Visit the ' +\n",
              "            '<a target=\"_blank\" href=https://colab.research.google.com/notebooks/data_table.ipynb>data table notebook</a>'\n",
              "            + ' to learn more about interactive tables.';\n",
              "          element.innerHTML = '';\n",
              "          dataTable['output_type'] = 'display_data';\n",
              "          await google.colab.output.renderOutput(dataTable, element);\n",
              "          const docLink = document.createElement('div');\n",
              "          docLink.innerHTML = docLinkHtml;\n",
              "          element.appendChild(docLink);\n",
              "        }\n",
              "      </script>\n",
              "    </div>\n",
              "  </div>\n",
              "  "
            ]
          },
          "metadata": {},
          "execution_count": 35
        }
      ]
    },
    {
      "cell_type": "code",
      "source": [
        "import matplotlib.pyplot as plt\n",
        "dirtydata.plot(kind = 'scatter', x = 'Duration', y = 'Calories')\n",
        "\n",
        "plt.show()\n",
        "\n"
      ],
      "metadata": {
        "id": "MQoxF0db0MwV",
        "outputId": "c8020a11-8e19-461e-e5eb-7c5c03cdc307",
        "colab": {
          "base_uri": "https://localhost:8080/",
          "height": 279
        }
      },
      "execution_count": 38,
      "outputs": [
        {
          "output_type": "display_data",
          "data": {
            "text/plain": [
              "<Figure size 432x288 with 1 Axes>"
            ],
            "image/png": "[encoded data removed]"
          },
          "metadata": {
            "needs_background": "light"
          }
        }
      ]
    },
    {
      "cell_type": "code",
      "source": [
        ""
      ],
      "metadata": {
        "id": "JqwAu2uQ0MtK"
      },
      "execution_count": null,
      "outputs": []
    },
    {
      "cell_type": "code",
      "source": [
        ""
      ],
      "metadata": {
        "id": "hm78RbT90Mqs"
      },
      "execution_count": null,
      "outputs": []
    },
    {
      "cell_type": "code",
      "source": [
        ""
      ],
      "metadata": {
        "id": "6eXBpn5h0Moq"
      },
      "execution_count": null,
      "outputs": []
    },
    {
      "cell_type": "code",
      "source": [
        ""
      ],
      "metadata": {
        "id": "6i_d180D0Mmc"
      },
      "execution_count": null,
      "outputs": []
    },
    {
      "cell_type": "code",
      "source": [
        ""
      ],
      "metadata": {
        "id": "Xt6aQPWQ0MkR"
      },
      "execution_count": null,
      "outputs": []
    },
    {
      "cell_type": "code",
      "source": [
        ""
      ],
      "metadata": {
        "id": "jqpnDugt0MiH"
      },
      "execution_count": null,
      "outputs": []
    },
    {
      "cell_type": "code",
      "source": [
        ""
      ],
      "metadata": {
        "id": "sshd3QCW0Mfp"
      },
      "execution_count": null,
      "outputs": []
    }
  ]
}